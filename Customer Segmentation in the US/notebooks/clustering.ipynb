{
 "cells": [
  {
   "cell_type": "code",
   "execution_count": 1,
   "metadata": {},
   "outputs": [],
   "source": [
    "\n",
    "import pandas as pd\n",
    "import plotly.express as px\n",
    "from scipy.stats.mstats import trimmed_var\n",
    "from sklearn.cluster import KMeans\n",
    "from sklearn.decomposition import PCA\n",
    "from sklearn.metrics import silhouette_score\n",
    "from sklearn.pipeline import make_pipeline\n",
    "from sklearn.preprocessing import StandardScaler\n"
   ]
  },
  {
   "cell_type": "code",
   "execution_count": 2,
   "metadata": {},
   "outputs": [],
   "source": [
    "def wrangle(filepath):\n",
    "    df = pd.read_csv(filepath)\n",
    "    mask_1 = df['NETWORTH'] < 2e6\n",
    "    mask_2 = df['TURNDOWN'] == 1\n",
    "    df = df[mask_1 & mask_2]\n",
    "    \n",
    "    return df"
   ]
  },
  {
   "cell_type": "code",
   "execution_count": 4,
   "metadata": {},
   "outputs": [
    {
     "name": "stdout",
     "output_type": "stream",
     "text": [
      "(2551, 351)\n"
     ]
    },
    {
     "data": {
      "text/html": [
       "<div>\n",
       "<style scoped>\n",
       "    .dataframe tbody tr th:only-of-type {\n",
       "        vertical-align: middle;\n",
       "    }\n",
       "\n",
       "    .dataframe tbody tr th {\n",
       "        vertical-align: top;\n",
       "    }\n",
       "\n",
       "    .dataframe thead th {\n",
       "        text-align: right;\n",
       "    }\n",
       "</style>\n",
       "<table border=\"1\" class=\"dataframe\">\n",
       "  <thead>\n",
       "    <tr style=\"text-align: right;\">\n",
       "      <th></th>\n",
       "      <th>YY1</th>\n",
       "      <th>Y1</th>\n",
       "      <th>WGT</th>\n",
       "      <th>HHSEX</th>\n",
       "      <th>AGE</th>\n",
       "      <th>AGECL</th>\n",
       "      <th>EDUC</th>\n",
       "      <th>EDCL</th>\n",
       "      <th>MARRIED</th>\n",
       "      <th>KIDS</th>\n",
       "      <th>...</th>\n",
       "      <th>NWCAT</th>\n",
       "      <th>INCCAT</th>\n",
       "      <th>ASSETCAT</th>\n",
       "      <th>NINCCAT</th>\n",
       "      <th>NINC2CAT</th>\n",
       "      <th>NWPCTLECAT</th>\n",
       "      <th>INCPCTLECAT</th>\n",
       "      <th>NINCPCTLECAT</th>\n",
       "      <th>INCQRTCAT</th>\n",
       "      <th>NINCQRTCAT</th>\n",
       "    </tr>\n",
       "  </thead>\n",
       "  <tbody>\n",
       "    <tr>\n",
       "      <th>150</th>\n",
       "      <td>31</td>\n",
       "      <td>311</td>\n",
       "      <td>4730.103425</td>\n",
       "      <td>1</td>\n",
       "      <td>31</td>\n",
       "      <td>1</td>\n",
       "      <td>9</td>\n",
       "      <td>3</td>\n",
       "      <td>1</td>\n",
       "      <td>2</td>\n",
       "      <td>...</td>\n",
       "      <td>1</td>\n",
       "      <td>3</td>\n",
       "      <td>2</td>\n",
       "      <td>3</td>\n",
       "      <td>2</td>\n",
       "      <td>1</td>\n",
       "      <td>6</td>\n",
       "      <td>6</td>\n",
       "      <td>3</td>\n",
       "      <td>3</td>\n",
       "    </tr>\n",
       "    <tr>\n",
       "      <th>151</th>\n",
       "      <td>31</td>\n",
       "      <td>312</td>\n",
       "      <td>4741.033012</td>\n",
       "      <td>1</td>\n",
       "      <td>31</td>\n",
       "      <td>1</td>\n",
       "      <td>9</td>\n",
       "      <td>3</td>\n",
       "      <td>1</td>\n",
       "      <td>2</td>\n",
       "      <td>...</td>\n",
       "      <td>1</td>\n",
       "      <td>3</td>\n",
       "      <td>2</td>\n",
       "      <td>3</td>\n",
       "      <td>2</td>\n",
       "      <td>1</td>\n",
       "      <td>6</td>\n",
       "      <td>6</td>\n",
       "      <td>3</td>\n",
       "      <td>3</td>\n",
       "    </tr>\n",
       "    <tr>\n",
       "      <th>152</th>\n",
       "      <td>31</td>\n",
       "      <td>313</td>\n",
       "      <td>4733.414115</td>\n",
       "      <td>1</td>\n",
       "      <td>31</td>\n",
       "      <td>1</td>\n",
       "      <td>9</td>\n",
       "      <td>3</td>\n",
       "      <td>1</td>\n",
       "      <td>2</td>\n",
       "      <td>...</td>\n",
       "      <td>1</td>\n",
       "      <td>3</td>\n",
       "      <td>2</td>\n",
       "      <td>3</td>\n",
       "      <td>2</td>\n",
       "      <td>1</td>\n",
       "      <td>6</td>\n",
       "      <td>6</td>\n",
       "      <td>3</td>\n",
       "      <td>3</td>\n",
       "    </tr>\n",
       "    <tr>\n",
       "      <th>153</th>\n",
       "      <td>31</td>\n",
       "      <td>314</td>\n",
       "      <td>4732.841307</td>\n",
       "      <td>1</td>\n",
       "      <td>31</td>\n",
       "      <td>1</td>\n",
       "      <td>9</td>\n",
       "      <td>3</td>\n",
       "      <td>1</td>\n",
       "      <td>2</td>\n",
       "      <td>...</td>\n",
       "      <td>1</td>\n",
       "      <td>3</td>\n",
       "      <td>2</td>\n",
       "      <td>3</td>\n",
       "      <td>2</td>\n",
       "      <td>1</td>\n",
       "      <td>6</td>\n",
       "      <td>6</td>\n",
       "      <td>3</td>\n",
       "      <td>3</td>\n",
       "    </tr>\n",
       "    <tr>\n",
       "      <th>154</th>\n",
       "      <td>31</td>\n",
       "      <td>315</td>\n",
       "      <td>4740.941333</td>\n",
       "      <td>1</td>\n",
       "      <td>31</td>\n",
       "      <td>1</td>\n",
       "      <td>9</td>\n",
       "      <td>3</td>\n",
       "      <td>1</td>\n",
       "      <td>2</td>\n",
       "      <td>...</td>\n",
       "      <td>1</td>\n",
       "      <td>3</td>\n",
       "      <td>2</td>\n",
       "      <td>3</td>\n",
       "      <td>2</td>\n",
       "      <td>1</td>\n",
       "      <td>6</td>\n",
       "      <td>6</td>\n",
       "      <td>3</td>\n",
       "      <td>3</td>\n",
       "    </tr>\n",
       "  </tbody>\n",
       "</table>\n",
       "<p>5 rows × 351 columns</p>\n",
       "</div>"
      ],
      "text/plain": [
       "     YY1   Y1          WGT  HHSEX  AGE  AGECL  EDUC  EDCL  MARRIED  KIDS  ...  \\\n",
       "150   31  311  4730.103425      1   31      1     9     3        1     2  ...   \n",
       "151   31  312  4741.033012      1   31      1     9     3        1     2  ...   \n",
       "152   31  313  4733.414115      1   31      1     9     3        1     2  ...   \n",
       "153   31  314  4732.841307      1   31      1     9     3        1     2  ...   \n",
       "154   31  315  4740.941333      1   31      1     9     3        1     2  ...   \n",
       "\n",
       "     NWCAT  INCCAT  ASSETCAT  NINCCAT  NINC2CAT  NWPCTLECAT  INCPCTLECAT  \\\n",
       "150      1       3         2        3         2           1            6   \n",
       "151      1       3         2        3         2           1            6   \n",
       "152      1       3         2        3         2           1            6   \n",
       "153      1       3         2        3         2           1            6   \n",
       "154      1       3         2        3         2           1            6   \n",
       "\n",
       "     NINCPCTLECAT  INCQRTCAT  NINCQRTCAT  \n",
       "150             6          3           3  \n",
       "151             6          3           3  \n",
       "152             6          3           3  \n",
       "153             6          3           3  \n",
       "154             6          3           3  \n",
       "\n",
       "[5 rows x 351 columns]"
      ]
     },
     "execution_count": 4,
     "metadata": {},
     "output_type": "execute_result"
    }
   ],
   "source": [
    "df = wrangle(r\"C:\\Users\\USER\\Documents\\Project_setup\\WorldQuant\\Project_6\\data\\scfp2019excel.zip\")\n",
    "print(df.shape)\n",
    "df.head()"
   ]
  },
  {
   "cell_type": "markdown",
   "metadata": {},
   "source": [
    "# Feature Selection\n",
    "- Features would be chosen based on variance"
   ]
  },
  {
   "cell_type": "code",
   "execution_count": 5,
   "metadata": {},
   "outputs": [
    {
     "data": {
      "text/plain": [
       "ACTBUS      1.373320e+10\n",
       "BUS         1.374510e+10\n",
       "PLOAN1      1.568876e+10\n",
       "KGTOTAL     1.658664e+10\n",
       "DEBT        2.358061e+10\n",
       "NHNFIN      2.674925e+10\n",
       "HOUSES      2.966011e+10\n",
       "NETWORTH    5.180398e+10\n",
       "NFIN        6.994137e+10\n",
       "ASSET       9.809634e+10\n",
       "dtype: float64"
      ]
     },
     "execution_count": 5,
     "metadata": {},
     "output_type": "execute_result"
    }
   ],
   "source": [
    "# Calculate variance, get 10 largest features\n",
    "top_ten_var = df.var().sort_values().tail(10)\n",
    "top_ten_var"
   ]
  },
  {
   "cell_type": "code",
   "execution_count": 6,
   "metadata": {},
   "outputs": [
    {
     "data": {
      "application/vnd.plotly.v1+json": {
       "config": {
        "plotlyServerURL": "https://plot.ly"
       },
       "data": [
        {
         "alignmentgroup": "True",
         "hovertemplate": "x=%{x}<br>y=%{y}<extra></extra>",
         "legendgroup": "",
         "marker": {
          "color": "#636efa",
          "pattern": {
           "shape": ""
          }
         },
         "name": "",
         "offsetgroup": "",
         "orientation": "h",
         "showlegend": false,
         "textposition": "auto",
         "type": "bar",
         "x": [
          13733197015.245825,
          13745101336.165573,
          15688759655.837313,
          16586637574.72929,
          23580610622.854996,
          26749253855.99055,
          29660107994.37323,
          51803984882.631966,
          69941372031.07393,
          98096343470.66066
         ],
         "xaxis": "x",
         "y": [
          "ACTBUS",
          "BUS",
          "PLOAN1",
          "KGTOTAL",
          "DEBT",
          "NHNFIN",
          "HOUSES",
          "NETWORTH",
          "NFIN",
          "ASSET"
         ],
         "yaxis": "y"
        }
       ],
       "layout": {
        "barmode": "relative",
        "legend": {
         "tracegroupgap": 0
        },
        "template": {
         "data": {
          "bar": [
           {
            "error_x": {
             "color": "#2a3f5f"
            },
            "error_y": {
             "color": "#2a3f5f"
            },
            "marker": {
             "line": {
              "color": "#E5ECF6",
              "width": 0.5
             },
             "pattern": {
              "fillmode": "overlay",
              "size": 10,
              "solidity": 0.2
             }
            },
            "type": "bar"
           }
          ],
          "barpolar": [
           {
            "marker": {
             "line": {
              "color": "#E5ECF6",
              "width": 0.5
             },
             "pattern": {
              "fillmode": "overlay",
              "size": 10,
              "solidity": 0.2
             }
            },
            "type": "barpolar"
           }
          ],
          "carpet": [
           {
            "aaxis": {
             "endlinecolor": "#2a3f5f",
             "gridcolor": "white",
             "linecolor": "white",
             "minorgridcolor": "white",
             "startlinecolor": "#2a3f5f"
            },
            "baxis": {
             "endlinecolor": "#2a3f5f",
             "gridcolor": "white",
             "linecolor": "white",
             "minorgridcolor": "white",
             "startlinecolor": "#2a3f5f"
            },
            "type": "carpet"
           }
          ],
          "choropleth": [
           {
            "colorbar": {
             "outlinewidth": 0,
             "ticks": ""
            },
            "type": "choropleth"
           }
          ],
          "contour": [
           {
            "colorbar": {
             "outlinewidth": 0,
             "ticks": ""
            },
            "colorscale": [
             [
              0,
              "#0d0887"
             ],
             [
              0.1111111111111111,
              "#46039f"
             ],
             [
              0.2222222222222222,
              "#7201a8"
             ],
             [
              0.3333333333333333,
              "#9c179e"
             ],
             [
              0.4444444444444444,
              "#bd3786"
             ],
             [
              0.5555555555555556,
              "#d8576b"
             ],
             [
              0.6666666666666666,
              "#ed7953"
             ],
             [
              0.7777777777777778,
              "#fb9f3a"
             ],
             [
              0.8888888888888888,
              "#fdca26"
             ],
             [
              1,
              "#f0f921"
             ]
            ],
            "type": "contour"
           }
          ],
          "contourcarpet": [
           {
            "colorbar": {
             "outlinewidth": 0,
             "ticks": ""
            },
            "type": "contourcarpet"
           }
          ],
          "heatmap": [
           {
            "colorbar": {
             "outlinewidth": 0,
             "ticks": ""
            },
            "colorscale": [
             [
              0,
              "#0d0887"
             ],
             [
              0.1111111111111111,
              "#46039f"
             ],
             [
              0.2222222222222222,
              "#7201a8"
             ],
             [
              0.3333333333333333,
              "#9c179e"
             ],
             [
              0.4444444444444444,
              "#bd3786"
             ],
             [
              0.5555555555555556,
              "#d8576b"
             ],
             [
              0.6666666666666666,
              "#ed7953"
             ],
             [
              0.7777777777777778,
              "#fb9f3a"
             ],
             [
              0.8888888888888888,
              "#fdca26"
             ],
             [
              1,
              "#f0f921"
             ]
            ],
            "type": "heatmap"
           }
          ],
          "heatmapgl": [
           {
            "colorbar": {
             "outlinewidth": 0,
             "ticks": ""
            },
            "colorscale": [
             [
              0,
              "#0d0887"
             ],
             [
              0.1111111111111111,
              "#46039f"
             ],
             [
              0.2222222222222222,
              "#7201a8"
             ],
             [
              0.3333333333333333,
              "#9c179e"
             ],
             [
              0.4444444444444444,
              "#bd3786"
             ],
             [
              0.5555555555555556,
              "#d8576b"
             ],
             [
              0.6666666666666666,
              "#ed7953"
             ],
             [
              0.7777777777777778,
              "#fb9f3a"
             ],
             [
              0.8888888888888888,
              "#fdca26"
             ],
             [
              1,
              "#f0f921"
             ]
            ],
            "type": "heatmapgl"
           }
          ],
          "histogram": [
           {
            "marker": {
             "pattern": {
              "fillmode": "overlay",
              "size": 10,
              "solidity": 0.2
             }
            },
            "type": "histogram"
           }
          ],
          "histogram2d": [
           {
            "colorbar": {
             "outlinewidth": 0,
             "ticks": ""
            },
            "colorscale": [
             [
              0,
              "#0d0887"
             ],
             [
              0.1111111111111111,
              "#46039f"
             ],
             [
              0.2222222222222222,
              "#7201a8"
             ],
             [
              0.3333333333333333,
              "#9c179e"
             ],
             [
              0.4444444444444444,
              "#bd3786"
             ],
             [
              0.5555555555555556,
              "#d8576b"
             ],
             [
              0.6666666666666666,
              "#ed7953"
             ],
             [
              0.7777777777777778,
              "#fb9f3a"
             ],
             [
              0.8888888888888888,
              "#fdca26"
             ],
             [
              1,
              "#f0f921"
             ]
            ],
            "type": "histogram2d"
           }
          ],
          "histogram2dcontour": [
           {
            "colorbar": {
             "outlinewidth": 0,
             "ticks": ""
            },
            "colorscale": [
             [
              0,
              "#0d0887"
             ],
             [
              0.1111111111111111,
              "#46039f"
             ],
             [
              0.2222222222222222,
              "#7201a8"
             ],
             [
              0.3333333333333333,
              "#9c179e"
             ],
             [
              0.4444444444444444,
              "#bd3786"
             ],
             [
              0.5555555555555556,
              "#d8576b"
             ],
             [
              0.6666666666666666,
              "#ed7953"
             ],
             [
              0.7777777777777778,
              "#fb9f3a"
             ],
             [
              0.8888888888888888,
              "#fdca26"
             ],
             [
              1,
              "#f0f921"
             ]
            ],
            "type": "histogram2dcontour"
           }
          ],
          "mesh3d": [
           {
            "colorbar": {
             "outlinewidth": 0,
             "ticks": ""
            },
            "type": "mesh3d"
           }
          ],
          "parcoords": [
           {
            "line": {
             "colorbar": {
              "outlinewidth": 0,
              "ticks": ""
             }
            },
            "type": "parcoords"
           }
          ],
          "pie": [
           {
            "automargin": true,
            "type": "pie"
           }
          ],
          "scatter": [
           {
            "fillpattern": {
             "fillmode": "overlay",
             "size": 10,
             "solidity": 0.2
            },
            "type": "scatter"
           }
          ],
          "scatter3d": [
           {
            "line": {
             "colorbar": {
              "outlinewidth": 0,
              "ticks": ""
             }
            },
            "marker": {
             "colorbar": {
              "outlinewidth": 0,
              "ticks": ""
             }
            },
            "type": "scatter3d"
           }
          ],
          "scattercarpet": [
           {
            "marker": {
             "colorbar": {
              "outlinewidth": 0,
              "ticks": ""
             }
            },
            "type": "scattercarpet"
           }
          ],
          "scattergeo": [
           {
            "marker": {
             "colorbar": {
              "outlinewidth": 0,
              "ticks": ""
             }
            },
            "type": "scattergeo"
           }
          ],
          "scattergl": [
           {
            "marker": {
             "colorbar": {
              "outlinewidth": 0,
              "ticks": ""
             }
            },
            "type": "scattergl"
           }
          ],
          "scattermapbox": [
           {
            "marker": {
             "colorbar": {
              "outlinewidth": 0,
              "ticks": ""
             }
            },
            "type": "scattermapbox"
           }
          ],
          "scatterpolar": [
           {
            "marker": {
             "colorbar": {
              "outlinewidth": 0,
              "ticks": ""
             }
            },
            "type": "scatterpolar"
           }
          ],
          "scatterpolargl": [
           {
            "marker": {
             "colorbar": {
              "outlinewidth": 0,
              "ticks": ""
             }
            },
            "type": "scatterpolargl"
           }
          ],
          "scatterternary": [
           {
            "marker": {
             "colorbar": {
              "outlinewidth": 0,
              "ticks": ""
             }
            },
            "type": "scatterternary"
           }
          ],
          "surface": [
           {
            "colorbar": {
             "outlinewidth": 0,
             "ticks": ""
            },
            "colorscale": [
             [
              0,
              "#0d0887"
             ],
             [
              0.1111111111111111,
              "#46039f"
             ],
             [
              0.2222222222222222,
              "#7201a8"
             ],
             [
              0.3333333333333333,
              "#9c179e"
             ],
             [
              0.4444444444444444,
              "#bd3786"
             ],
             [
              0.5555555555555556,
              "#d8576b"
             ],
             [
              0.6666666666666666,
              "#ed7953"
             ],
             [
              0.7777777777777778,
              "#fb9f3a"
             ],
             [
              0.8888888888888888,
              "#fdca26"
             ],
             [
              1,
              "#f0f921"
             ]
            ],
            "type": "surface"
           }
          ],
          "table": [
           {
            "cells": {
             "fill": {
              "color": "#EBF0F8"
             },
             "line": {
              "color": "white"
             }
            },
            "header": {
             "fill": {
              "color": "#C8D4E3"
             },
             "line": {
              "color": "white"
             }
            },
            "type": "table"
           }
          ]
         },
         "layout": {
          "annotationdefaults": {
           "arrowcolor": "#2a3f5f",
           "arrowhead": 0,
           "arrowwidth": 1
          },
          "autotypenumbers": "strict",
          "coloraxis": {
           "colorbar": {
            "outlinewidth": 0,
            "ticks": ""
           }
          },
          "colorscale": {
           "diverging": [
            [
             0,
             "#8e0152"
            ],
            [
             0.1,
             "#c51b7d"
            ],
            [
             0.2,
             "#de77ae"
            ],
            [
             0.3,
             "#f1b6da"
            ],
            [
             0.4,
             "#fde0ef"
            ],
            [
             0.5,
             "#f7f7f7"
            ],
            [
             0.6,
             "#e6f5d0"
            ],
            [
             0.7,
             "#b8e186"
            ],
            [
             0.8,
             "#7fbc41"
            ],
            [
             0.9,
             "#4d9221"
            ],
            [
             1,
             "#276419"
            ]
           ],
           "sequential": [
            [
             0,
             "#0d0887"
            ],
            [
             0.1111111111111111,
             "#46039f"
            ],
            [
             0.2222222222222222,
             "#7201a8"
            ],
            [
             0.3333333333333333,
             "#9c179e"
            ],
            [
             0.4444444444444444,
             "#bd3786"
            ],
            [
             0.5555555555555556,
             "#d8576b"
            ],
            [
             0.6666666666666666,
             "#ed7953"
            ],
            [
             0.7777777777777778,
             "#fb9f3a"
            ],
            [
             0.8888888888888888,
             "#fdca26"
            ],
            [
             1,
             "#f0f921"
            ]
           ],
           "sequentialminus": [
            [
             0,
             "#0d0887"
            ],
            [
             0.1111111111111111,
             "#46039f"
            ],
            [
             0.2222222222222222,
             "#7201a8"
            ],
            [
             0.3333333333333333,
             "#9c179e"
            ],
            [
             0.4444444444444444,
             "#bd3786"
            ],
            [
             0.5555555555555556,
             "#d8576b"
            ],
            [
             0.6666666666666666,
             "#ed7953"
            ],
            [
             0.7777777777777778,
             "#fb9f3a"
            ],
            [
             0.8888888888888888,
             "#fdca26"
            ],
            [
             1,
             "#f0f921"
            ]
           ]
          },
          "colorway": [
           "#636efa",
           "#EF553B",
           "#00cc96",
           "#ab63fa",
           "#FFA15A",
           "#19d3f3",
           "#FF6692",
           "#B6E880",
           "#FF97FF",
           "#FECB52"
          ],
          "font": {
           "color": "#2a3f5f"
          },
          "geo": {
           "bgcolor": "white",
           "lakecolor": "white",
           "landcolor": "#E5ECF6",
           "showlakes": true,
           "showland": true,
           "subunitcolor": "white"
          },
          "hoverlabel": {
           "align": "left"
          },
          "hovermode": "closest",
          "mapbox": {
           "style": "light"
          },
          "paper_bgcolor": "white",
          "plot_bgcolor": "#E5ECF6",
          "polar": {
           "angularaxis": {
            "gridcolor": "white",
            "linecolor": "white",
            "ticks": ""
           },
           "bgcolor": "#E5ECF6",
           "radialaxis": {
            "gridcolor": "white",
            "linecolor": "white",
            "ticks": ""
           }
          },
          "scene": {
           "xaxis": {
            "backgroundcolor": "#E5ECF6",
            "gridcolor": "white",
            "gridwidth": 2,
            "linecolor": "white",
            "showbackground": true,
            "ticks": "",
            "zerolinecolor": "white"
           },
           "yaxis": {
            "backgroundcolor": "#E5ECF6",
            "gridcolor": "white",
            "gridwidth": 2,
            "linecolor": "white",
            "showbackground": true,
            "ticks": "",
            "zerolinecolor": "white"
           },
           "zaxis": {
            "backgroundcolor": "#E5ECF6",
            "gridcolor": "white",
            "gridwidth": 2,
            "linecolor": "white",
            "showbackground": true,
            "ticks": "",
            "zerolinecolor": "white"
           }
          },
          "shapedefaults": {
           "line": {
            "color": "#2a3f5f"
           }
          },
          "ternary": {
           "aaxis": {
            "gridcolor": "white",
            "linecolor": "white",
            "ticks": ""
           },
           "baxis": {
            "gridcolor": "white",
            "linecolor": "white",
            "ticks": ""
           },
           "bgcolor": "#E5ECF6",
           "caxis": {
            "gridcolor": "white",
            "linecolor": "white",
            "ticks": ""
           }
          },
          "title": {
           "x": 0.05
          },
          "xaxis": {
           "automargin": true,
           "gridcolor": "white",
           "linecolor": "white",
           "ticks": "",
           "title": {
            "standoff": 15
           },
           "zerolinecolor": "white",
           "zerolinewidth": 2
          },
          "yaxis": {
           "automargin": true,
           "gridcolor": "white",
           "linecolor": "white",
           "ticks": "",
           "title": {
            "standoff": 15
           },
           "zerolinecolor": "white",
           "zerolinewidth": 2
          }
         }
        },
        "title": {
         "text": "SCF: High Variance Features"
        },
        "xaxis": {
         "anchor": "y",
         "domain": [
          0,
          1
         ],
         "title": {
          "text": "Variance"
         }
        },
        "yaxis": {
         "anchor": "x",
         "domain": [
          0,
          1
         ],
         "title": {
          "text": "Feature"
         }
        }
       }
      }
     },
     "metadata": {},
     "output_type": "display_data"
    }
   ],
   "source": [
    "# Create horizontal bar chart of `top_ten_var`\n",
    "fig = px.bar(\n",
    "    x=top_ten_var,\n",
    "    y=top_ten_var.index, \n",
    "    title = \"SCF: High Variance Features\"\n",
    "    \n",
    ")\n",
    "fig.update_layout(xaxis_title='Variance', yaxis_title='Feature')\n",
    "fig.show()"
   ]
  },
  {
   "cell_type": "markdown",
   "metadata": {},
   "source": [
    "One thing that is noticeable throughout this project is that many of the wealth indicators are highly skewed, with a few outlier households having enormous wealth. Those outliers can affect our measure of variance. There is need to check if that's the case with one of the features from `top_five_var`."
   ]
  },
  {
   "cell_type": "code",
   "execution_count": 7,
   "metadata": {},
   "outputs": [
    {
     "data": {
      "application/vnd.plotly.v1+json": {
       "config": {
        "plotlyServerURL": "https://plot.ly"
       },
       "data": [
        {
         "alignmentgroup": "True",
         "hovertemplate": "NHNFIN=%{x}<extra></extra>",
         "legendgroup": "",
         "marker": {
          "color": "#636efa"
         },
         "name": "",
         "notched": false,
         "offsetgroup": "",
         "orientation": "h",
         "showlegend": false,
         "type": "box",
         "x": [
          53000,
          51900,
          52000,
          51900,
          52000,
          27500,
          27500,
          27500,
          27500,
          26500,
          23000,
          23000,
          23000,
          23000,
          22000,
          20000,
          20000,
          19000,
          19000,
          20000,
          3600,
          3600,
          3600,
          3600,
          3600,
          21100,
          20200,
          21100,
          20200,
          21200,
          38600,
          37600,
          37600,
          37600,
          38700,
          181500,
          181500,
          181500,
          181600,
          181500,
          24500,
          24500,
          24500,
          24500,
          24500,
          3800,
          3700,
          3700,
          3700,
          3700,
          23000,
          23000,
          22000,
          23000,
          23000,
          5600,
          5600,
          5600,
          5700,
          5600,
          0,
          0,
          0,
          0,
          0,
          52300,
          28700,
          28700,
          48300,
          41000,
          42900,
          42900,
          42900,
          42900,
          43900,
          2800,
          2800,
          2800,
          2800,
          2800,
          12000,
          12000,
          11000,
          12000,
          12000,
          5200,
          4100,
          3200,
          4100,
          6700,
          10400,
          10400,
          10400,
          10400,
          10300,
          70000,
          69000,
          69000,
          70000,
          70000,
          0,
          0,
          0,
          0,
          0,
          29100,
          30000,
          28000,
          29100,
          30100,
          19000,
          19000,
          20000,
          20000,
          19000,
          64200,
          64200,
          64200,
          63200,
          64200,
          6100,
          6200,
          6200,
          6100,
          6200,
          339641,
          339641,
          339641,
          339641,
          340641,
          27200,
          27100,
          28100,
          28100,
          27100,
          5900,
          5900,
          5900,
          5900,
          5900,
          6000,
          6100,
          6100,
          6100,
          6100,
          6900,
          6900,
          6900,
          6900,
          6900,
          43000,
          43000,
          43000,
          43000,
          44000,
          2900,
          2900,
          3000,
          3000,
          3000,
          0,
          0,
          0,
          0,
          0,
          111000,
          111000,
          100000,
          120000,
          135000,
          3900,
          3900,
          3900,
          3900,
          3900,
          6600,
          2600,
          2600,
          4700,
          6800,
          11900,
          11800,
          11900,
          11900,
          11800,
          9900,
          9900,
          9900,
          9900,
          9900,
          3600,
          3600,
          3600,
          3600,
          3600,
          308000,
          308000,
          308000,
          308000,
          309000,
          16700,
          16700,
          16700,
          16700,
          16600,
          0,
          0,
          0,
          0,
          0,
          7000,
          7000,
          7000,
          6800,
          6900,
          0,
          0,
          0,
          0,
          0,
          12000,
          12000,
          12000,
          12000,
          12000,
          0,
          0,
          0,
          0,
          0,
          2900,
          4000,
          4500,
          2500,
          3200,
          73000,
          6900,
          13000,
          13000,
          27000,
          231000,
          230100,
          230000,
          230000,
          230000,
          57730,
          61700,
          60600,
          58520,
          72700,
          10000,
          11000,
          11000,
          11000,
          11000,
          23100,
          23000,
          23000,
          23200,
          23100,
          25900,
          24900,
          24900,
          24800,
          25900,
          8300,
          8200,
          8300,
          8200,
          8200,
          16000,
          8500,
          28000,
          13000,
          7100,
          3000,
          3300,
          2900,
          7400,
          3600,
          11200,
          11300,
          11200,
          11300,
          11300,
          0,
          0,
          0,
          0,
          0,
          4900,
          4800,
          4900,
          4800,
          4800,
          3600,
          3600,
          3600,
          3600,
          3700,
          3900,
          3900,
          3900,
          3900,
          3900,
          45000,
          45000,
          45000,
          46000,
          46000,
          6300,
          6300,
          6300,
          6300,
          6300,
          0,
          0,
          0,
          0,
          0,
          31800,
          28900,
          16800,
          164900,
          59900,
          11900,
          11700,
          11300,
          10800,
          12900,
          121900,
          121900,
          120900,
          121800,
          120800,
          15000,
          15000,
          15000,
          15000,
          15000,
          32200,
          33200,
          33200,
          33200,
          33100,
          84000,
          84000,
          85000,
          84000,
          84000,
          16000,
          16000,
          16000,
          16000,
          16000,
          646000,
          520000,
          521000,
          521000,
          538000,
          47000,
          48000,
          47000,
          47000,
          47000,
          0,
          0,
          0,
          0,
          0,
          15000,
          14000,
          14000,
          14000,
          14000,
          14000,
          14000,
          14000,
          14000,
          14000,
          0,
          0,
          0,
          0,
          0,
          2700,
          5600,
          4000,
          2900,
          4000,
          8100,
          5700,
          7800,
          5400,
          6400,
          19000,
          19000,
          19000,
          19000,
          19000,
          747000,
          747000,
          747000,
          747000,
          747000,
          13300,
          18200,
          12500,
          17600,
          12300,
          14800,
          14800,
          14800,
          14800,
          14800,
          41000,
          42000,
          41000,
          41000,
          41000,
          8700,
          8600,
          8700,
          8700,
          8600,
          3000,
          3100,
          3100,
          3100,
          3600,
          61300,
          65400,
          66400,
          65300,
          57300,
          133000,
          103700,
          117700,
          111600,
          158300,
          0,
          0,
          0,
          0,
          0,
          0,
          0,
          0,
          0,
          0,
          11000,
          10000,
          10000,
          11000,
          10000,
          197600,
          197600,
          197600,
          197600,
          198600,
          6200,
          6100,
          6100,
          6100,
          6200,
          5000,
          5000,
          5000,
          5000,
          5000,
          800000,
          800000,
          800000,
          800000,
          800000,
          22800,
          22900,
          23800,
          23800,
          22900,
          0,
          0,
          0,
          0,
          0,
          694900,
          564800,
          614700,
          389900,
          554800,
          0,
          0,
          0,
          0,
          0,
          45500,
          45500,
          45500,
          45500,
          45500,
          3700,
          3700,
          5400,
          4500,
          3700,
          33080,
          58300,
          61400,
          33080,
          60300,
          4800,
          4800,
          4800,
          4800,
          4800,
          0,
          0,
          0,
          0,
          0,
          191000,
          192000,
          192000,
          191000,
          191000,
          51400,
          53100,
          53000,
          52600,
          53700,
          0,
          0,
          0,
          0,
          0,
          142100,
          129500,
          117000,
          123900,
          137500,
          16400,
          16400,
          16400,
          16400,
          16400,
          16000,
          17000,
          16000,
          16000,
          17000,
          10000,
          11000,
          10000,
          11000,
          11000,
          67900,
          68000,
          67900,
          67900,
          68900,
          26600,
          23500,
          29200,
          25800,
          18880,
          69000,
          51400,
          58100,
          66000,
          68000,
          14800,
          14800,
          14800,
          14800,
          14800,
          15000,
          15000,
          15000,
          15000,
          14000,
          22600,
          22600,
          22600,
          22600,
          22600,
          14000,
          14000,
          14000,
          14000,
          14000,
          338900,
          342800,
          346900,
          335700,
          346700,
          2800,
          2800,
          2800,
          2800,
          2800,
          29000,
          18850,
          22300,
          24000,
          19620,
          24700,
          24700,
          24700,
          25800,
          25800,
          89200,
          89100,
          89200,
          89200,
          89100,
          6100,
          6100,
          6100,
          6100,
          6100,
          14500,
          14500,
          14500,
          14500,
          14500,
          7000,
          7000,
          7000,
          7000,
          7000,
          0,
          0,
          0,
          0,
          0,
          61500,
          61500,
          60500,
          60500,
          60500,
          8100,
          8200,
          8100,
          8100,
          8100,
          9500,
          9500,
          9400,
          9500,
          9400,
          39000,
          39000,
          40000,
          38000,
          39000,
          4800,
          4800,
          4800,
          4800,
          4700,
          68100,
          68100,
          69100,
          68100,
          69000,
          44800,
          43800,
          43800,
          45000,
          43400,
          0,
          0,
          0,
          0,
          0,
          255000,
          255000,
          255000,
          255000,
          255000,
          6200,
          6000,
          6200,
          6100,
          6100,
          173400,
          173300,
          173400,
          173400,
          173400,
          16000,
          17000,
          16000,
          16000,
          17000,
          8000,
          4800,
          9400,
          6900,
          6600,
          2600,
          2600,
          2700,
          2600,
          2600,
          2400,
          2400,
          2400,
          2400,
          2500,
          17800,
          17900,
          17800,
          17800,
          17900,
          254300,
          255200,
          255300,
          255300,
          254300,
          70900,
          70900,
          71000,
          70900,
          70900,
          11800,
          11900,
          11900,
          11900,
          11800,
          0,
          0,
          0,
          0,
          0,
          7300,
          7300,
          7400,
          7300,
          7400,
          50000,
          50000,
          50000,
          50000,
          50000,
          31200,
          32200,
          32100,
          32100,
          31100,
          0,
          0,
          0,
          0,
          0,
          0,
          0,
          0,
          0,
          0,
          0,
          0,
          0,
          0,
          0,
          10000,
          10000,
          10000,
          10000,
          10000,
          0,
          0,
          0,
          0,
          0,
          61000,
          60000,
          60000,
          61000,
          60000,
          13000,
          13000,
          13000,
          13000,
          13000,
          6400,
          6400,
          6400,
          6400,
          6400,
          6100,
          6100,
          6100,
          6100,
          6100,
          1712700,
          1382700,
          1222600,
          403900,
          382300,
          408100,
          366400,
          350800,
          0,
          0,
          0,
          0,
          0,
          25000,
          25000,
          25000,
          25000,
          26000,
          15900,
          15900,
          15800,
          15900,
          15900,
          134000,
          134000,
          124000,
          126000,
          119000,
          21800,
          20900,
          20900,
          20800,
          20800,
          27200,
          27300,
          27200,
          27200,
          27200,
          13000,
          13000,
          13000,
          13000,
          13000,
          18000,
          18000,
          18000,
          18000,
          18000,
          4400,
          19900,
          19900,
          21000,
          19900,
          19900,
          8000,
          8000,
          7900,
          8000,
          7900,
          0,
          0,
          0,
          0,
          0,
          0,
          0,
          0,
          0,
          0,
          8600,
          8600,
          8600,
          8600,
          8600,
          32800,
          27700,
          32500,
          31200,
          29200,
          12000,
          12000,
          12000,
          12000,
          12000,
          3800,
          3800,
          3900,
          3900,
          3800,
          15900,
          12200,
          19100,
          16900,
          12900,
          0,
          0,
          0,
          0,
          0,
          17000,
          16000,
          16000,
          16000,
          16000,
          0,
          0,
          0,
          0,
          0,
          2700,
          2600,
          2600,
          2700,
          2600,
          0,
          0,
          0,
          0,
          0,
          46400,
          47500,
          45500,
          47400,
          46500,
          2500,
          2500,
          2500,
          2500,
          2500,
          32300,
          33200,
          32300,
          33300,
          33300,
          1566000,
          1567000,
          1567000,
          1567000,
          1567000,
          0,
          0,
          0,
          0,
          0,
          16000,
          16100,
          16000,
          16000,
          16000,
          0,
          0,
          0,
          0,
          0,
          0,
          0,
          0,
          0,
          0,
          26000,
          25000,
          26000,
          26000,
          26000,
          1800,
          1800,
          1900,
          1800,
          1800,
          0,
          0,
          0,
          0,
          0,
          14900,
          11100,
          7700,
          11700,
          12700,
          0,
          0,
          0,
          0,
          0,
          94000,
          95000,
          94000,
          95000,
          95000,
          19500,
          19500,
          20500,
          20500,
          20500,
          7300,
          7300,
          7300,
          7300,
          7300,
          5000,
          5300,
          4500,
          4500,
          4500,
          13000,
          13000,
          13000,
          13000,
          12000,
          10000,
          7600,
          6500,
          8300,
          6700,
          2800,
          2700,
          2700,
          2800,
          2800,
          190700,
          204700,
          147700,
          146700,
          147700,
          8400,
          6800,
          7800,
          6700,
          5200,
          7400,
          10400,
          9300,
          10000,
          12400,
          23000,
          22000,
          22000,
          23000,
          22000,
          62000,
          56100,
          56800,
          52500,
          50900,
          12000,
          12000,
          12000,
          12000,
          12000,
          0,
          0,
          0,
          0,
          0,
          0,
          0,
          0,
          0,
          0,
          36770,
          37400,
          37170,
          37500,
          37700,
          3500,
          3500,
          3500,
          3500,
          3500,
          21900,
          22000,
          22100,
          22900,
          22900,
          0,
          0,
          0,
          0,
          0,
          5000,
          5000,
          5000,
          4900,
          4900,
          195000,
          120100,
          126100,
          195200,
          156100,
          65400,
          59400,
          51400,
          54500,
          53500,
          51000,
          51000,
          51000,
          50000,
          50000,
          7000,
          7000,
          7000,
          7000,
          7000,
          12000,
          12000,
          11000,
          12000,
          12000,
          0,
          0,
          0,
          0,
          0,
          115000,
          114000,
          115000,
          114000,
          115000,
          44400,
          45400,
          44400,
          44400,
          44400,
          26500,
          26500,
          26500,
          26500,
          26500,
          19800,
          20100,
          16100,
          14160,
          15400,
          5100,
          5100,
          5100,
          5200,
          5100,
          17700,
          17600,
          17600,
          17600,
          17700,
          2800,
          2800,
          2800,
          2800,
          2900,
          7300,
          7300,
          7300,
          7400,
          7300,
          16200,
          14100,
          13300,
          12300,
          11400,
          4100,
          3900,
          4200,
          3800,
          3800,
          4400,
          4400,
          4400,
          4500,
          4400,
          10200,
          10100,
          10200,
          10100,
          10200,
          27000,
          28000,
          27000,
          27000,
          27000,
          11000,
          10000,
          10000,
          11000,
          11000,
          7000,
          7000,
          7000,
          7000,
          7100,
          20900,
          19900,
          19900,
          20900,
          20900,
          5200,
          5200,
          5200,
          5300,
          5200,
          0,
          0,
          0,
          0,
          0,
          44100,
          44000,
          45100,
          45000,
          44100,
          199000,
          199000,
          207000,
          197000,
          200000,
          6200,
          6200,
          6200,
          6300,
          6200,
          29000,
          26000,
          23000,
          27000,
          19600,
          14500,
          14500,
          14500,
          14500,
          14500,
          0,
          0,
          0,
          0,
          0,
          18500,
          17500,
          18400,
          17500,
          18400,
          40100,
          42400,
          41100,
          41100,
          42500,
          306400,
          304300,
          304400,
          305400,
          304400,
          13000,
          13000,
          13000,
          13000,
          13000,
          13000,
          13000,
          14000,
          14000,
          14000,
          14000,
          14000,
          13000,
          13000,
          14000,
          0,
          0,
          0,
          0,
          0,
          31000,
          31000,
          33000,
          32000,
          33000,
          12000,
          12000,
          12000,
          12000,
          12000,
          9500,
          7500,
          8600,
          9400,
          8000,
          0,
          0,
          0,
          0,
          0,
          52000,
          52000,
          60000,
          62000,
          52000,
          36100,
          36000,
          35000,
          36100,
          36100,
          3600,
          3600,
          3700,
          3400,
          3300,
          9800,
          9900,
          9800,
          9800,
          9900,
          6700,
          6700,
          6700,
          6700,
          6700,
          11000,
          10000,
          11000,
          10000,
          11000,
          30500,
          34500,
          31200,
          30400,
          25100,
          25000,
          25000,
          24000,
          24000,
          24000,
          31200,
          31200,
          30300,
          31200,
          31200,
          0,
          0,
          0,
          0,
          0,
          4800,
          4800,
          4800,
          4800,
          4800,
          0,
          0,
          0,
          0,
          0,
          14700,
          15700,
          15700,
          15700,
          14700,
          7300,
          7200,
          7100,
          7100,
          7200,
          5700,
          5800,
          5700,
          5700,
          5700,
          4200,
          4200,
          4200,
          4200,
          4300,
          26000,
          25900,
          25900,
          26000,
          25900,
          18000,
          18000,
          18000,
          17000,
          18000,
          0,
          0,
          0,
          0,
          0,
          0,
          0,
          0,
          0,
          0,
          5000,
          5100,
          5000,
          5000,
          5100,
          0,
          0,
          0,
          0,
          0,
          25000,
          24900,
          25000,
          25000,
          25000,
          20000,
          20000,
          20000,
          20000,
          20000,
          3500,
          3500,
          3500,
          3500,
          3500,
          16000,
          16100,
          16100,
          16000,
          16000,
          13200,
          13300,
          13200,
          13200,
          13300,
          41000,
          30180,
          31100,
          36000,
          33400,
          14000,
          14000,
          14000,
          13000,
          13000,
          20400,
          15600,
          11200,
          11600,
          11200,
          20000,
          20000,
          20000,
          20000,
          20000,
          12000,
          12000,
          12000,
          12000,
          12000,
          59500,
          58500,
          58500,
          59500,
          58500,
          0,
          0,
          0,
          0,
          0,
          16100,
          16200,
          16300,
          16200,
          16200,
          0,
          0,
          0,
          0,
          0,
          4000,
          4100,
          4000,
          4100,
          4100,
          19000,
          19000,
          19000,
          19000,
          19000,
          12000,
          12000,
          12000,
          11000,
          11000,
          30900,
          25900,
          22800,
          26900,
          23800,
          13500,
          13500,
          13600,
          13500,
          13500,
          36000,
          36000,
          38000,
          38000,
          34000,
          28900,
          28900,
          28800,
          28800,
          28900,
          3400,
          3300,
          3400,
          3400,
          3400,
          266900,
          257500,
          260000,
          272300,
          272000,
          36000,
          36000,
          36000,
          35000,
          35000,
          2400,
          2500,
          2400,
          2400,
          2400,
          25400,
          24400,
          25400,
          24400,
          25400,
          8000,
          6700,
          7600,
          9100,
          14000,
          6800,
          6800,
          6800,
          6800,
          6800,
          4200,
          4200,
          4300,
          4200,
          4200,
          2900,
          2900,
          2800,
          2900,
          2900,
          16000,
          16000,
          17000,
          16000,
          16000,
          12000,
          12000,
          12000,
          12000,
          12000,
          47000,
          47000,
          47000,
          47000,
          47000,
          1769600,
          8400,
          8400,
          8300,
          8400,
          8400,
          47000,
          47000,
          46000,
          45000,
          46000,
          65000,
          64000,
          63000,
          64000,
          65000,
          41000,
          42000,
          41000,
          42000,
          43000,
          17400,
          17300,
          17400,
          17400,
          17300,
          5400,
          5400,
          5400,
          5400,
          5400,
          147050,
          154050,
          147950,
          147950,
          153950,
          0,
          0,
          0,
          0,
          0,
          130100,
          172100,
          110200,
          136200,
          173200,
          5000,
          5100,
          5100,
          5000,
          5000,
          154000,
          154000,
          154000,
          154000,
          154000,
          5600,
          5600,
          5600,
          5600,
          5600,
          2000,
          2000,
          1900,
          2000,
          2000,
          14500,
          14500,
          14500,
          14500,
          14600,
          3600,
          3600,
          3600,
          3600,
          3600,
          7100,
          4400,
          7600,
          3900,
          4300,
          11700,
          11800,
          11800,
          11800,
          11800,
          19100,
          18100,
          19200,
          18200,
          19200,
          39700,
          39700,
          40800,
          40800,
          40800,
          7600,
          8900,
          8800,
          9900,
          8200,
          35300,
          35300,
          34200,
          35200,
          35300,
          0,
          0,
          0,
          0,
          0,
          497000,
          592000,
          508000,
          551000,
          608000,
          38200,
          36100,
          25540,
          37200,
          47100,
          0,
          0,
          0,
          0,
          0,
          7000,
          7000,
          7000,
          7000,
          7000,
          850,
          850,
          850,
          850,
          850,
          25000,
          24000,
          24000,
          24000,
          24000,
          7500,
          7500,
          7600,
          7500,
          7500,
          26700,
          27700,
          27700,
          26700,
          27600,
          462600,
          462500,
          462500,
          462500,
          462500,
          13000,
          13000,
          12900,
          13000,
          13000,
          0,
          0,
          0,
          0,
          0,
          49000,
          48000,
          49000,
          49000,
          49000,
          17400,
          17400,
          17500,
          17500,
          17500,
          843000,
          540000,
          622000,
          804000,
          552000,
          0,
          0,
          0,
          0,
          0,
          6800,
          6900,
          6900,
          6900,
          6900,
          4300,
          6100,
          4100,
          4500,
          5900,
          90400,
          50900,
          86800,
          22500,
          21920,
          0,
          0,
          0,
          0,
          0,
          6900,
          6900,
          6900,
          7000,
          6900,
          947000,
          947000,
          946000,
          946000,
          946000,
          8200,
          8300,
          8300,
          8300,
          8300,
          158800,
          158800,
          158900,
          158900,
          158800,
          0,
          0,
          0,
          0,
          0,
          0,
          0,
          0,
          0,
          0,
          25100,
          25000,
          24000,
          24000,
          24100,
          6800,
          7600,
          6600,
          7300,
          6200,
          19300,
          19300,
          19300,
          19300,
          19400,
          51000,
          51000,
          51000,
          51000,
          51000,
          5000,
          4900,
          5000,
          5000,
          4900,
          0,
          0,
          0,
          0,
          0,
          17600,
          13300,
          15600,
          16700,
          18600,
          3200,
          3200,
          3100,
          3200,
          3200,
          17400,
          17400,
          17400,
          17400,
          17400,
          7900,
          5800,
          9500,
          6900,
          6000,
          5500,
          5500,
          5500,
          5500,
          5500,
          0,
          0,
          0,
          0,
          0,
          3400,
          3300,
          3300,
          3400,
          3300,
          0,
          0,
          0,
          0,
          0,
          0,
          0,
          0,
          0,
          0,
          33000,
          34000,
          33000,
          33000,
          33000,
          33500,
          34500,
          34600,
          33500,
          34600,
          8100,
          6800,
          6800,
          7800,
          6300,
          3700,
          3700,
          3800,
          3700,
          3700,
          22200,
          22100,
          22100,
          22200,
          22200,
          11000,
          11000,
          10000,
          10000,
          11000,
          18300,
          18300,
          18300,
          18300,
          18300,
          13000,
          12000,
          13000,
          13000,
          13000,
          11000,
          11000,
          11000,
          11000,
          11000,
          33200,
          31100,
          27700,
          31400,
          33200,
          32300,
          31300,
          32300,
          31300,
          31300,
          5000,
          13300,
          13100,
          9500,
          5200,
          6800,
          10100,
          9200,
          5900,
          7500,
          8400,
          7000,
          5100,
          4000,
          5900,
          9900,
          9900,
          10000,
          10000,
          10000,
          4250,
          6500,
          4400,
          4750,
          7000,
          37900,
          37800,
          37900,
          37900,
          37900,
          9200,
          9300,
          9300,
          9300,
          9300,
          18300,
          19300,
          18300,
          18300,
          18300,
          35000,
          35000,
          35000,
          34000,
          34000,
          30000,
          30000,
          31000,
          31000,
          31000,
          11800,
          11800,
          11800,
          11800,
          11800,
          12000,
          13000,
          12000,
          12000,
          13000,
          3600,
          3600,
          3600,
          3600,
          3600,
          22000,
          22000,
          22000,
          23000,
          22000,
          58170,
          60300,
          58750,
          58050,
          64600,
          21200,
          22100,
          21200,
          21200,
          22200,
          18000,
          18000,
          18000,
          18000,
          19000,
          13100,
          13000,
          13100,
          13000,
          13000,
          21300,
          19200,
          22200,
          21200,
          20300,
          27000,
          26000,
          27000,
          26000,
          26000,
          24100,
          24100,
          25100,
          24100,
          25100,
          2800,
          2800,
          2800,
          2800,
          2800,
          19300,
          15800,
          16200,
          14700,
          16200,
          3600,
          3600,
          3500,
          3600,
          3600,
          0,
          0,
          0,
          0,
          0,
          45500,
          45500,
          45500,
          45400,
          45400,
          16600,
          20500,
          26300,
          15500,
          29300,
          24640,
          22350,
          29800,
          24830,
          37000,
          4000,
          4200,
          4600,
          4200,
          3200,
          62000,
          62000,
          62000,
          62000,
          62000,
          0,
          0,
          0,
          0,
          0,
          3200,
          3200,
          3200,
          3200,
          3200,
          5300,
          4900,
          6600,
          6600,
          5200,
          5000,
          5000,
          5000,
          5100,
          5000,
          6100,
          5900,
          12000,
          12000,
          5700,
          3900,
          3900,
          3900,
          3900,
          3900,
          59000,
          59000,
          59000,
          59000,
          58000,
          0,
          0,
          0,
          0,
          0,
          267000,
          330000,
          481000,
          187000,
          475000,
          6200,
          2900,
          7400,
          4500,
          3800,
          29200,
          71500,
          33300,
          49500,
          70500,
          7700,
          7700,
          7800,
          7700,
          7700,
          34000,
          34000,
          34000,
          34000,
          34000,
          6600,
          6700,
          6700,
          6700,
          6700,
          3500,
          4100,
          3700,
          3300,
          6400,
          0,
          0,
          0,
          0,
          0,
          0,
          0,
          0,
          0,
          0,
          8700,
          8700,
          8800,
          8800,
          8700,
          2400,
          2300,
          2200,
          2200,
          2200,
          105000,
          105000,
          105000,
          104000,
          104000,
          2900,
          3000,
          2900,
          2900,
          2900,
          13300,
          13300,
          13300,
          13300,
          14300,
          9800,
          9800,
          9900,
          9900,
          9900,
          7700,
          7600,
          7700,
          7600,
          7700,
          6600,
          5500,
          7600,
          3800,
          4600,
          17000,
          17000,
          16000,
          16000,
          16000,
          13800,
          13900,
          13900,
          13900,
          13900,
          0,
          0,
          0,
          0,
          0,
          28000,
          27000,
          28000,
          28000,
          28000,
          2100,
          2200,
          2200,
          2100,
          2100,
          0,
          0,
          0,
          0,
          0,
          83800,
          93600,
          83900,
          96200,
          88900,
          83000,
          83000,
          84000,
          84000,
          84000,
          228000,
          228000,
          228000,
          228000,
          228000,
          52890,
          52600,
          52600,
          53180,
          52600,
          12300,
          12200,
          12300,
          12300,
          12200,
          49900,
          143900,
          51900,
          38600,
          51900,
          1970200,
          1970200,
          1970200,
          1970200,
          1970200,
          5800,
          5800,
          5800,
          5800,
          5800,
          23500,
          23500,
          23500,
          23500,
          23500,
          17000,
          18000,
          17000,
          18000,
          18000,
          112000,
          112000,
          112000,
          112000,
          112000,
          18000,
          17000,
          18000,
          18000,
          17000,
          1041000,
          1042000,
          1042000,
          1043000,
          1042000,
          0,
          0,
          0,
          0,
          0,
          43800,
          43800,
          44900,
          45400,
          43800,
          0,
          0,
          0,
          0,
          0,
          17000,
          17000,
          17000,
          17000,
          17000,
          6900,
          3400,
          5400,
          4800,
          5400,
          13000,
          13000,
          13000,
          13000,
          14000,
          56000,
          56000,
          56000,
          56000,
          56000,
          14500,
          15500,
          15600,
          15600,
          15600,
          48000,
          49000,
          48000,
          49000,
          49000,
          60000,
          30000,
          34000,
          52000,
          41000,
          4000,
          3500,
          4100,
          3400,
          3900,
          13800,
          13700,
          13700,
          13800,
          13700,
          332000,
          137000,
          235000,
          277200,
          223000,
          19000,
          19000,
          18000,
          19000,
          19000,
          0,
          0,
          0,
          0,
          0,
          2400,
          3800,
          4900,
          4900,
          3300,
          0,
          2600,
          2700,
          2600,
          2700,
          2600,
          14000,
          13000,
          13000,
          14000,
          13000,
          52000,
          52000,
          52000,
          52000,
          52000,
          46000,
          45000,
          45000,
          45000,
          45000,
          18000,
          18000,
          18000,
          18000,
          18000,
          3100,
          2400,
          5300,
          3100,
          3100,
          17000,
          17000,
          15900,
          16900,
          17000,
          2200,
          2300,
          2200,
          2200,
          2300,
          0,
          0,
          0,
          0,
          0,
          33000,
          34000,
          34000,
          33000,
          34000,
          13400,
          13300,
          13400,
          13300,
          13300,
          14600,
          14500,
          14600,
          14500,
          14500,
          8500,
          8500,
          8500,
          8500,
          8500,
          12400,
          20700,
          16600,
          11200,
          17800,
          13000,
          13000,
          12000,
          13000,
          13000,
          8800,
          5900,
          7400,
          6800,
          4900,
          7000,
          7000,
          7100,
          7000,
          7000,
          42100,
          51400,
          61400,
          57400,
          54400,
          3700,
          3700,
          3700,
          3700,
          3700,
          10600,
          14800,
          14800,
          11100,
          10500,
          0,
          0,
          0,
          0,
          0,
          0,
          0,
          0,
          0,
          0,
          5900,
          5900,
          5900,
          5900,
          5900,
          7270,
          10400,
          10800,
          9100,
          9900,
          5400,
          16400,
          53400,
          5400,
          5400,
          13800,
          13800,
          13800,
          13800,
          13800,
          5900,
          5900,
          6000,
          6000,
          6000,
          0,
          0,
          0,
          0,
          0,
          15000,
          14000,
          14000,
          15000,
          14000,
          0,
          0,
          0,
          0,
          0,
          12600,
          12600,
          12600,
          12600,
          12700,
          18000,
          18000,
          18000,
          18000,
          18000,
          0,
          0,
          0,
          0,
          0,
          7900,
          7900,
          7900,
          7900,
          7900,
          282600,
          282300,
          280300,
          283200,
          287100
         ],
         "x0": " ",
         "xaxis": "x",
         "y0": " ",
         "yaxis": "y"
        }
       ],
       "layout": {
        "boxmode": "group",
        "legend": {
         "tracegroupgap": 0
        },
        "template": {
         "data": {
          "bar": [
           {
            "error_x": {
             "color": "#2a3f5f"
            },
            "error_y": {
             "color": "#2a3f5f"
            },
            "marker": {
             "line": {
              "color": "#E5ECF6",
              "width": 0.5
             },
             "pattern": {
              "fillmode": "overlay",
              "size": 10,
              "solidity": 0.2
             }
            },
            "type": "bar"
           }
          ],
          "barpolar": [
           {
            "marker": {
             "line": {
              "color": "#E5ECF6",
              "width": 0.5
             },
             "pattern": {
              "fillmode": "overlay",
              "size": 10,
              "solidity": 0.2
             }
            },
            "type": "barpolar"
           }
          ],
          "carpet": [
           {
            "aaxis": {
             "endlinecolor": "#2a3f5f",
             "gridcolor": "white",
             "linecolor": "white",
             "minorgridcolor": "white",
             "startlinecolor": "#2a3f5f"
            },
            "baxis": {
             "endlinecolor": "#2a3f5f",
             "gridcolor": "white",
             "linecolor": "white",
             "minorgridcolor": "white",
             "startlinecolor": "#2a3f5f"
            },
            "type": "carpet"
           }
          ],
          "choropleth": [
           {
            "colorbar": {
             "outlinewidth": 0,
             "ticks": ""
            },
            "type": "choropleth"
           }
          ],
          "contour": [
           {
            "colorbar": {
             "outlinewidth": 0,
             "ticks": ""
            },
            "colorscale": [
             [
              0,
              "#0d0887"
             ],
             [
              0.1111111111111111,
              "#46039f"
             ],
             [
              0.2222222222222222,
              "#7201a8"
             ],
             [
              0.3333333333333333,
              "#9c179e"
             ],
             [
              0.4444444444444444,
              "#bd3786"
             ],
             [
              0.5555555555555556,
              "#d8576b"
             ],
             [
              0.6666666666666666,
              "#ed7953"
             ],
             [
              0.7777777777777778,
              "#fb9f3a"
             ],
             [
              0.8888888888888888,
              "#fdca26"
             ],
             [
              1,
              "#f0f921"
             ]
            ],
            "type": "contour"
           }
          ],
          "contourcarpet": [
           {
            "colorbar": {
             "outlinewidth": 0,
             "ticks": ""
            },
            "type": "contourcarpet"
           }
          ],
          "heatmap": [
           {
            "colorbar": {
             "outlinewidth": 0,
             "ticks": ""
            },
            "colorscale": [
             [
              0,
              "#0d0887"
             ],
             [
              0.1111111111111111,
              "#46039f"
             ],
             [
              0.2222222222222222,
              "#7201a8"
             ],
             [
              0.3333333333333333,
              "#9c179e"
             ],
             [
              0.4444444444444444,
              "#bd3786"
             ],
             [
              0.5555555555555556,
              "#d8576b"
             ],
             [
              0.6666666666666666,
              "#ed7953"
             ],
             [
              0.7777777777777778,
              "#fb9f3a"
             ],
             [
              0.8888888888888888,
              "#fdca26"
             ],
             [
              1,
              "#f0f921"
             ]
            ],
            "type": "heatmap"
           }
          ],
          "heatmapgl": [
           {
            "colorbar": {
             "outlinewidth": 0,
             "ticks": ""
            },
            "colorscale": [
             [
              0,
              "#0d0887"
             ],
             [
              0.1111111111111111,
              "#46039f"
             ],
             [
              0.2222222222222222,
              "#7201a8"
             ],
             [
              0.3333333333333333,
              "#9c179e"
             ],
             [
              0.4444444444444444,
              "#bd3786"
             ],
             [
              0.5555555555555556,
              "#d8576b"
             ],
             [
              0.6666666666666666,
              "#ed7953"
             ],
             [
              0.7777777777777778,
              "#fb9f3a"
             ],
             [
              0.8888888888888888,
              "#fdca26"
             ],
             [
              1,
              "#f0f921"
             ]
            ],
            "type": "heatmapgl"
           }
          ],
          "histogram": [
           {
            "marker": {
             "pattern": {
              "fillmode": "overlay",
              "size": 10,
              "solidity": 0.2
             }
            },
            "type": "histogram"
           }
          ],
          "histogram2d": [
           {
            "colorbar": {
             "outlinewidth": 0,
             "ticks": ""
            },
            "colorscale": [
             [
              0,
              "#0d0887"
             ],
             [
              0.1111111111111111,
              "#46039f"
             ],
             [
              0.2222222222222222,
              "#7201a8"
             ],
             [
              0.3333333333333333,
              "#9c179e"
             ],
             [
              0.4444444444444444,
              "#bd3786"
             ],
             [
              0.5555555555555556,
              "#d8576b"
             ],
             [
              0.6666666666666666,
              "#ed7953"
             ],
             [
              0.7777777777777778,
              "#fb9f3a"
             ],
             [
              0.8888888888888888,
              "#fdca26"
             ],
             [
              1,
              "#f0f921"
             ]
            ],
            "type": "histogram2d"
           }
          ],
          "histogram2dcontour": [
           {
            "colorbar": {
             "outlinewidth": 0,
             "ticks": ""
            },
            "colorscale": [
             [
              0,
              "#0d0887"
             ],
             [
              0.1111111111111111,
              "#46039f"
             ],
             [
              0.2222222222222222,
              "#7201a8"
             ],
             [
              0.3333333333333333,
              "#9c179e"
             ],
             [
              0.4444444444444444,
              "#bd3786"
             ],
             [
              0.5555555555555556,
              "#d8576b"
             ],
             [
              0.6666666666666666,
              "#ed7953"
             ],
             [
              0.7777777777777778,
              "#fb9f3a"
             ],
             [
              0.8888888888888888,
              "#fdca26"
             ],
             [
              1,
              "#f0f921"
             ]
            ],
            "type": "histogram2dcontour"
           }
          ],
          "mesh3d": [
           {
            "colorbar": {
             "outlinewidth": 0,
             "ticks": ""
            },
            "type": "mesh3d"
           }
          ],
          "parcoords": [
           {
            "line": {
             "colorbar": {
              "outlinewidth": 0,
              "ticks": ""
             }
            },
            "type": "parcoords"
           }
          ],
          "pie": [
           {
            "automargin": true,
            "type": "pie"
           }
          ],
          "scatter": [
           {
            "fillpattern": {
             "fillmode": "overlay",
             "size": 10,
             "solidity": 0.2
            },
            "type": "scatter"
           }
          ],
          "scatter3d": [
           {
            "line": {
             "colorbar": {
              "outlinewidth": 0,
              "ticks": ""
             }
            },
            "marker": {
             "colorbar": {
              "outlinewidth": 0,
              "ticks": ""
             }
            },
            "type": "scatter3d"
           }
          ],
          "scattercarpet": [
           {
            "marker": {
             "colorbar": {
              "outlinewidth": 0,
              "ticks": ""
             }
            },
            "type": "scattercarpet"
           }
          ],
          "scattergeo": [
           {
            "marker": {
             "colorbar": {
              "outlinewidth": 0,
              "ticks": ""
             }
            },
            "type": "scattergeo"
           }
          ],
          "scattergl": [
           {
            "marker": {
             "colorbar": {
              "outlinewidth": 0,
              "ticks": ""
             }
            },
            "type": "scattergl"
           }
          ],
          "scattermapbox": [
           {
            "marker": {
             "colorbar": {
              "outlinewidth": 0,
              "ticks": ""
             }
            },
            "type": "scattermapbox"
           }
          ],
          "scatterpolar": [
           {
            "marker": {
             "colorbar": {
              "outlinewidth": 0,
              "ticks": ""
             }
            },
            "type": "scatterpolar"
           }
          ],
          "scatterpolargl": [
           {
            "marker": {
             "colorbar": {
              "outlinewidth": 0,
              "ticks": ""
             }
            },
            "type": "scatterpolargl"
           }
          ],
          "scatterternary": [
           {
            "marker": {
             "colorbar": {
              "outlinewidth": 0,
              "ticks": ""
             }
            },
            "type": "scatterternary"
           }
          ],
          "surface": [
           {
            "colorbar": {
             "outlinewidth": 0,
             "ticks": ""
            },
            "colorscale": [
             [
              0,
              "#0d0887"
             ],
             [
              0.1111111111111111,
              "#46039f"
             ],
             [
              0.2222222222222222,
              "#7201a8"
             ],
             [
              0.3333333333333333,
              "#9c179e"
             ],
             [
              0.4444444444444444,
              "#bd3786"
             ],
             [
              0.5555555555555556,
              "#d8576b"
             ],
             [
              0.6666666666666666,
              "#ed7953"
             ],
             [
              0.7777777777777778,
              "#fb9f3a"
             ],
             [
              0.8888888888888888,
              "#fdca26"
             ],
             [
              1,
              "#f0f921"
             ]
            ],
            "type": "surface"
           }
          ],
          "table": [
           {
            "cells": {
             "fill": {
              "color": "#EBF0F8"
             },
             "line": {
              "color": "white"
             }
            },
            "header": {
             "fill": {
              "color": "#C8D4E3"
             },
             "line": {
              "color": "white"
             }
            },
            "type": "table"
           }
          ]
         },
         "layout": {
          "annotationdefaults": {
           "arrowcolor": "#2a3f5f",
           "arrowhead": 0,
           "arrowwidth": 1
          },
          "autotypenumbers": "strict",
          "coloraxis": {
           "colorbar": {
            "outlinewidth": 0,
            "ticks": ""
           }
          },
          "colorscale": {
           "diverging": [
            [
             0,
             "#8e0152"
            ],
            [
             0.1,
             "#c51b7d"
            ],
            [
             0.2,
             "#de77ae"
            ],
            [
             0.3,
             "#f1b6da"
            ],
            [
             0.4,
             "#fde0ef"
            ],
            [
             0.5,
             "#f7f7f7"
            ],
            [
             0.6,
             "#e6f5d0"
            ],
            [
             0.7,
             "#b8e186"
            ],
            [
             0.8,
             "#7fbc41"
            ],
            [
             0.9,
             "#4d9221"
            ],
            [
             1,
             "#276419"
            ]
           ],
           "sequential": [
            [
             0,
             "#0d0887"
            ],
            [
             0.1111111111111111,
             "#46039f"
            ],
            [
             0.2222222222222222,
             "#7201a8"
            ],
            [
             0.3333333333333333,
             "#9c179e"
            ],
            [
             0.4444444444444444,
             "#bd3786"
            ],
            [
             0.5555555555555556,
             "#d8576b"
            ],
            [
             0.6666666666666666,
             "#ed7953"
            ],
            [
             0.7777777777777778,
             "#fb9f3a"
            ],
            [
             0.8888888888888888,
             "#fdca26"
            ],
            [
             1,
             "#f0f921"
            ]
           ],
           "sequentialminus": [
            [
             0,
             "#0d0887"
            ],
            [
             0.1111111111111111,
             "#46039f"
            ],
            [
             0.2222222222222222,
             "#7201a8"
            ],
            [
             0.3333333333333333,
             "#9c179e"
            ],
            [
             0.4444444444444444,
             "#bd3786"
            ],
            [
             0.5555555555555556,
             "#d8576b"
            ],
            [
             0.6666666666666666,
             "#ed7953"
            ],
            [
             0.7777777777777778,
             "#fb9f3a"
            ],
            [
             0.8888888888888888,
             "#fdca26"
            ],
            [
             1,
             "#f0f921"
            ]
           ]
          },
          "colorway": [
           "#636efa",
           "#EF553B",
           "#00cc96",
           "#ab63fa",
           "#FFA15A",
           "#19d3f3",
           "#FF6692",
           "#B6E880",
           "#FF97FF",
           "#FECB52"
          ],
          "font": {
           "color": "#2a3f5f"
          },
          "geo": {
           "bgcolor": "white",
           "lakecolor": "white",
           "landcolor": "#E5ECF6",
           "showlakes": true,
           "showland": true,
           "subunitcolor": "white"
          },
          "hoverlabel": {
           "align": "left"
          },
          "hovermode": "closest",
          "mapbox": {
           "style": "light"
          },
          "paper_bgcolor": "white",
          "plot_bgcolor": "#E5ECF6",
          "polar": {
           "angularaxis": {
            "gridcolor": "white",
            "linecolor": "white",
            "ticks": ""
           },
           "bgcolor": "#E5ECF6",
           "radialaxis": {
            "gridcolor": "white",
            "linecolor": "white",
            "ticks": ""
           }
          },
          "scene": {
           "xaxis": {
            "backgroundcolor": "#E5ECF6",
            "gridcolor": "white",
            "gridwidth": 2,
            "linecolor": "white",
            "showbackground": true,
            "ticks": "",
            "zerolinecolor": "white"
           },
           "yaxis": {
            "backgroundcolor": "#E5ECF6",
            "gridcolor": "white",
            "gridwidth": 2,
            "linecolor": "white",
            "showbackground": true,
            "ticks": "",
            "zerolinecolor": "white"
           },
           "zaxis": {
            "backgroundcolor": "#E5ECF6",
            "gridcolor": "white",
            "gridwidth": 2,
            "linecolor": "white",
            "showbackground": true,
            "ticks": "",
            "zerolinecolor": "white"
           }
          },
          "shapedefaults": {
           "line": {
            "color": "#2a3f5f"
           }
          },
          "ternary": {
           "aaxis": {
            "gridcolor": "white",
            "linecolor": "white",
            "ticks": ""
           },
           "baxis": {
            "gridcolor": "white",
            "linecolor": "white",
            "ticks": ""
           },
           "bgcolor": "#E5ECF6",
           "caxis": {
            "gridcolor": "white",
            "linecolor": "white",
            "ticks": ""
           }
          },
          "title": {
           "x": 0.05
          },
          "xaxis": {
           "automargin": true,
           "gridcolor": "white",
           "linecolor": "white",
           "ticks": "",
           "title": {
            "standoff": 15
           },
           "zerolinecolor": "white",
           "zerolinewidth": 2
          },
          "yaxis": {
           "automargin": true,
           "gridcolor": "white",
           "linecolor": "white",
           "ticks": "",
           "title": {
            "standoff": 15
           },
           "zerolinecolor": "white",
           "zerolinewidth": 2
          }
         }
        },
        "title": {
         "text": "Distribution of Non-home, Non-Financial Assets"
        },
        "xaxis": {
         "anchor": "y",
         "domain": [
          0,
          1
         ],
         "title": {
          "text": "Value [$]"
         }
        },
        "yaxis": {
         "anchor": "x",
         "domain": [
          0,
          1
         ]
        }
       }
      }
     },
     "metadata": {},
     "output_type": "display_data"
    }
   ],
   "source": [
    "# Create a boxplot of `NHNFIN`\n",
    "fig = px.box(\n",
    "    data_frame=df, \n",
    "    x=\"NHNFIN\", \n",
    "    title=\"Distribution of Non-home, Non-Financial Assets\"\n",
    ")\n",
    "fig.update_layout(xaxis_title=\"Value [$]\")\n",
    "fig.show()"
   ]
  },
  {
   "cell_type": "markdown",
   "metadata": {},
   "source": [
    "As seen above, the dataset is massively right-skewed because of the huge outliers on the right side of the distribution. Even though we already excluded households with a high net worth with our `wrangle` function, the variance is still being distorted by some extreme outliers.\n",
    "\n",
    "One good way to deal with this is to look at the **trimmed variance**, where we remove extreme values before calculating variance. We can do this using the `trimmed_variance` function from the `SciPy` library."
   ]
  },
  {
   "cell_type": "code",
   "execution_count": 8,
   "metadata": {},
   "outputs": [
    {
     "data": {
      "text/plain": [
       "ASSET       1.726591e+10\n",
       "NFIN        1.176106e+10\n",
       "HOUSES      7.533378e+09\n",
       "NETWORTH    4.655633e+09\n",
       "DEBT        4.257384e+09\n",
       "PLOAN1      2.651050e+09\n",
       "MRTHEL      2.515424e+09\n",
       "NH_MORT     2.496514e+09\n",
       "HOMEEQ      1.045646e+09\n",
       "INCOME      5.933635e+08\n",
       "dtype: float64"
      ]
     },
     "execution_count": 8,
     "metadata": {},
     "output_type": "execute_result"
    }
   ],
   "source": [
    "# Calculate trimmed variance\n",
    "top_ten_trim_var = df.apply(trimmed_var).sort_values(ascending=False).head(10)\n",
    "top_ten_trim_var"
   ]
  },
  {
   "cell_type": "code",
   "execution_count": 9,
   "metadata": {},
   "outputs": [
    {
     "data": {
      "application/vnd.plotly.v1+json": {
       "config": {
        "plotlyServerURL": "https://plot.ly"
       },
       "data": [
        {
         "alignmentgroup": "True",
         "hovertemplate": "x=%{x}<br>y=%{y}<extra></extra>",
         "legendgroup": "",
         "marker": {
          "color": "#636efa",
          "pattern": {
           "shape": ""
          }
         },
         "name": "",
         "offsetgroup": "",
         "orientation": "h",
         "showlegend": false,
         "textposition": "auto",
         "type": "bar",
         "x": [
          17265905467.218727,
          11761064110.925726,
          7533378119.03984,
          4655633360.528514,
          4257383502.171252,
          2651050001.9251113,
          2515424436.6527348,
          2496513993.1502194,
          1045645714.8303003,
          593363451.7232053
         ],
         "xaxis": "x",
         "y": [
          "ASSET",
          "NFIN",
          "HOUSES",
          "NETWORTH",
          "DEBT",
          "PLOAN1",
          "MRTHEL",
          "NH_MORT",
          "HOMEEQ",
          "INCOME"
         ],
         "yaxis": "y"
        }
       ],
       "layout": {
        "barmode": "relative",
        "legend": {
         "tracegroupgap": 0
        },
        "template": {
         "data": {
          "bar": [
           {
            "error_x": {
             "color": "#2a3f5f"
            },
            "error_y": {
             "color": "#2a3f5f"
            },
            "marker": {
             "line": {
              "color": "#E5ECF6",
              "width": 0.5
             },
             "pattern": {
              "fillmode": "overlay",
              "size": 10,
              "solidity": 0.2
             }
            },
            "type": "bar"
           }
          ],
          "barpolar": [
           {
            "marker": {
             "line": {
              "color": "#E5ECF6",
              "width": 0.5
             },
             "pattern": {
              "fillmode": "overlay",
              "size": 10,
              "solidity": 0.2
             }
            },
            "type": "barpolar"
           }
          ],
          "carpet": [
           {
            "aaxis": {
             "endlinecolor": "#2a3f5f",
             "gridcolor": "white",
             "linecolor": "white",
             "minorgridcolor": "white",
             "startlinecolor": "#2a3f5f"
            },
            "baxis": {
             "endlinecolor": "#2a3f5f",
             "gridcolor": "white",
             "linecolor": "white",
             "minorgridcolor": "white",
             "startlinecolor": "#2a3f5f"
            },
            "type": "carpet"
           }
          ],
          "choropleth": [
           {
            "colorbar": {
             "outlinewidth": 0,
             "ticks": ""
            },
            "type": "choropleth"
           }
          ],
          "contour": [
           {
            "colorbar": {
             "outlinewidth": 0,
             "ticks": ""
            },
            "colorscale": [
             [
              0,
              "#0d0887"
             ],
             [
              0.1111111111111111,
              "#46039f"
             ],
             [
              0.2222222222222222,
              "#7201a8"
             ],
             [
              0.3333333333333333,
              "#9c179e"
             ],
             [
              0.4444444444444444,
              "#bd3786"
             ],
             [
              0.5555555555555556,
              "#d8576b"
             ],
             [
              0.6666666666666666,
              "#ed7953"
             ],
             [
              0.7777777777777778,
              "#fb9f3a"
             ],
             [
              0.8888888888888888,
              "#fdca26"
             ],
             [
              1,
              "#f0f921"
             ]
            ],
            "type": "contour"
           }
          ],
          "contourcarpet": [
           {
            "colorbar": {
             "outlinewidth": 0,
             "ticks": ""
            },
            "type": "contourcarpet"
           }
          ],
          "heatmap": [
           {
            "colorbar": {
             "outlinewidth": 0,
             "ticks": ""
            },
            "colorscale": [
             [
              0,
              "#0d0887"
             ],
             [
              0.1111111111111111,
              "#46039f"
             ],
             [
              0.2222222222222222,
              "#7201a8"
             ],
             [
              0.3333333333333333,
              "#9c179e"
             ],
             [
              0.4444444444444444,
              "#bd3786"
             ],
             [
              0.5555555555555556,
              "#d8576b"
             ],
             [
              0.6666666666666666,
              "#ed7953"
             ],
             [
              0.7777777777777778,
              "#fb9f3a"
             ],
             [
              0.8888888888888888,
              "#fdca26"
             ],
             [
              1,
              "#f0f921"
             ]
            ],
            "type": "heatmap"
           }
          ],
          "heatmapgl": [
           {
            "colorbar": {
             "outlinewidth": 0,
             "ticks": ""
            },
            "colorscale": [
             [
              0,
              "#0d0887"
             ],
             [
              0.1111111111111111,
              "#46039f"
             ],
             [
              0.2222222222222222,
              "#7201a8"
             ],
             [
              0.3333333333333333,
              "#9c179e"
             ],
             [
              0.4444444444444444,
              "#bd3786"
             ],
             [
              0.5555555555555556,
              "#d8576b"
             ],
             [
              0.6666666666666666,
              "#ed7953"
             ],
             [
              0.7777777777777778,
              "#fb9f3a"
             ],
             [
              0.8888888888888888,
              "#fdca26"
             ],
             [
              1,
              "#f0f921"
             ]
            ],
            "type": "heatmapgl"
           }
          ],
          "histogram": [
           {
            "marker": {
             "pattern": {
              "fillmode": "overlay",
              "size": 10,
              "solidity": 0.2
             }
            },
            "type": "histogram"
           }
          ],
          "histogram2d": [
           {
            "colorbar": {
             "outlinewidth": 0,
             "ticks": ""
            },
            "colorscale": [
             [
              0,
              "#0d0887"
             ],
             [
              0.1111111111111111,
              "#46039f"
             ],
             [
              0.2222222222222222,
              "#7201a8"
             ],
             [
              0.3333333333333333,
              "#9c179e"
             ],
             [
              0.4444444444444444,
              "#bd3786"
             ],
             [
              0.5555555555555556,
              "#d8576b"
             ],
             [
              0.6666666666666666,
              "#ed7953"
             ],
             [
              0.7777777777777778,
              "#fb9f3a"
             ],
             [
              0.8888888888888888,
              "#fdca26"
             ],
             [
              1,
              "#f0f921"
             ]
            ],
            "type": "histogram2d"
           }
          ],
          "histogram2dcontour": [
           {
            "colorbar": {
             "outlinewidth": 0,
             "ticks": ""
            },
            "colorscale": [
             [
              0,
              "#0d0887"
             ],
             [
              0.1111111111111111,
              "#46039f"
             ],
             [
              0.2222222222222222,
              "#7201a8"
             ],
             [
              0.3333333333333333,
              "#9c179e"
             ],
             [
              0.4444444444444444,
              "#bd3786"
             ],
             [
              0.5555555555555556,
              "#d8576b"
             ],
             [
              0.6666666666666666,
              "#ed7953"
             ],
             [
              0.7777777777777778,
              "#fb9f3a"
             ],
             [
              0.8888888888888888,
              "#fdca26"
             ],
             [
              1,
              "#f0f921"
             ]
            ],
            "type": "histogram2dcontour"
           }
          ],
          "mesh3d": [
           {
            "colorbar": {
             "outlinewidth": 0,
             "ticks": ""
            },
            "type": "mesh3d"
           }
          ],
          "parcoords": [
           {
            "line": {
             "colorbar": {
              "outlinewidth": 0,
              "ticks": ""
             }
            },
            "type": "parcoords"
           }
          ],
          "pie": [
           {
            "automargin": true,
            "type": "pie"
           }
          ],
          "scatter": [
           {
            "fillpattern": {
             "fillmode": "overlay",
             "size": 10,
             "solidity": 0.2
            },
            "type": "scatter"
           }
          ],
          "scatter3d": [
           {
            "line": {
             "colorbar": {
              "outlinewidth": 0,
              "ticks": ""
             }
            },
            "marker": {
             "colorbar": {
              "outlinewidth": 0,
              "ticks": ""
             }
            },
            "type": "scatter3d"
           }
          ],
          "scattercarpet": [
           {
            "marker": {
             "colorbar": {
              "outlinewidth": 0,
              "ticks": ""
             }
            },
            "type": "scattercarpet"
           }
          ],
          "scattergeo": [
           {
            "marker": {
             "colorbar": {
              "outlinewidth": 0,
              "ticks": ""
             }
            },
            "type": "scattergeo"
           }
          ],
          "scattergl": [
           {
            "marker": {
             "colorbar": {
              "outlinewidth": 0,
              "ticks": ""
             }
            },
            "type": "scattergl"
           }
          ],
          "scattermapbox": [
           {
            "marker": {
             "colorbar": {
              "outlinewidth": 0,
              "ticks": ""
             }
            },
            "type": "scattermapbox"
           }
          ],
          "scatterpolar": [
           {
            "marker": {
             "colorbar": {
              "outlinewidth": 0,
              "ticks": ""
             }
            },
            "type": "scatterpolar"
           }
          ],
          "scatterpolargl": [
           {
            "marker": {
             "colorbar": {
              "outlinewidth": 0,
              "ticks": ""
             }
            },
            "type": "scatterpolargl"
           }
          ],
          "scatterternary": [
           {
            "marker": {
             "colorbar": {
              "outlinewidth": 0,
              "ticks": ""
             }
            },
            "type": "scatterternary"
           }
          ],
          "surface": [
           {
            "colorbar": {
             "outlinewidth": 0,
             "ticks": ""
            },
            "colorscale": [
             [
              0,
              "#0d0887"
             ],
             [
              0.1111111111111111,
              "#46039f"
             ],
             [
              0.2222222222222222,
              "#7201a8"
             ],
             [
              0.3333333333333333,
              "#9c179e"
             ],
             [
              0.4444444444444444,
              "#bd3786"
             ],
             [
              0.5555555555555556,
              "#d8576b"
             ],
             [
              0.6666666666666666,
              "#ed7953"
             ],
             [
              0.7777777777777778,
              "#fb9f3a"
             ],
             [
              0.8888888888888888,
              "#fdca26"
             ],
             [
              1,
              "#f0f921"
             ]
            ],
            "type": "surface"
           }
          ],
          "table": [
           {
            "cells": {
             "fill": {
              "color": "#EBF0F8"
             },
             "line": {
              "color": "white"
             }
            },
            "header": {
             "fill": {
              "color": "#C8D4E3"
             },
             "line": {
              "color": "white"
             }
            },
            "type": "table"
           }
          ]
         },
         "layout": {
          "annotationdefaults": {
           "arrowcolor": "#2a3f5f",
           "arrowhead": 0,
           "arrowwidth": 1
          },
          "autotypenumbers": "strict",
          "coloraxis": {
           "colorbar": {
            "outlinewidth": 0,
            "ticks": ""
           }
          },
          "colorscale": {
           "diverging": [
            [
             0,
             "#8e0152"
            ],
            [
             0.1,
             "#c51b7d"
            ],
            [
             0.2,
             "#de77ae"
            ],
            [
             0.3,
             "#f1b6da"
            ],
            [
             0.4,
             "#fde0ef"
            ],
            [
             0.5,
             "#f7f7f7"
            ],
            [
             0.6,
             "#e6f5d0"
            ],
            [
             0.7,
             "#b8e186"
            ],
            [
             0.8,
             "#7fbc41"
            ],
            [
             0.9,
             "#4d9221"
            ],
            [
             1,
             "#276419"
            ]
           ],
           "sequential": [
            [
             0,
             "#0d0887"
            ],
            [
             0.1111111111111111,
             "#46039f"
            ],
            [
             0.2222222222222222,
             "#7201a8"
            ],
            [
             0.3333333333333333,
             "#9c179e"
            ],
            [
             0.4444444444444444,
             "#bd3786"
            ],
            [
             0.5555555555555556,
             "#d8576b"
            ],
            [
             0.6666666666666666,
             "#ed7953"
            ],
            [
             0.7777777777777778,
             "#fb9f3a"
            ],
            [
             0.8888888888888888,
             "#fdca26"
            ],
            [
             1,
             "#f0f921"
            ]
           ],
           "sequentialminus": [
            [
             0,
             "#0d0887"
            ],
            [
             0.1111111111111111,
             "#46039f"
            ],
            [
             0.2222222222222222,
             "#7201a8"
            ],
            [
             0.3333333333333333,
             "#9c179e"
            ],
            [
             0.4444444444444444,
             "#bd3786"
            ],
            [
             0.5555555555555556,
             "#d8576b"
            ],
            [
             0.6666666666666666,
             "#ed7953"
            ],
            [
             0.7777777777777778,
             "#fb9f3a"
            ],
            [
             0.8888888888888888,
             "#fdca26"
            ],
            [
             1,
             "#f0f921"
            ]
           ]
          },
          "colorway": [
           "#636efa",
           "#EF553B",
           "#00cc96",
           "#ab63fa",
           "#FFA15A",
           "#19d3f3",
           "#FF6692",
           "#B6E880",
           "#FF97FF",
           "#FECB52"
          ],
          "font": {
           "color": "#2a3f5f"
          },
          "geo": {
           "bgcolor": "white",
           "lakecolor": "white",
           "landcolor": "#E5ECF6",
           "showlakes": true,
           "showland": true,
           "subunitcolor": "white"
          },
          "hoverlabel": {
           "align": "left"
          },
          "hovermode": "closest",
          "mapbox": {
           "style": "light"
          },
          "paper_bgcolor": "white",
          "plot_bgcolor": "#E5ECF6",
          "polar": {
           "angularaxis": {
            "gridcolor": "white",
            "linecolor": "white",
            "ticks": ""
           },
           "bgcolor": "#E5ECF6",
           "radialaxis": {
            "gridcolor": "white",
            "linecolor": "white",
            "ticks": ""
           }
          },
          "scene": {
           "xaxis": {
            "backgroundcolor": "#E5ECF6",
            "gridcolor": "white",
            "gridwidth": 2,
            "linecolor": "white",
            "showbackground": true,
            "ticks": "",
            "zerolinecolor": "white"
           },
           "yaxis": {
            "backgroundcolor": "#E5ECF6",
            "gridcolor": "white",
            "gridwidth": 2,
            "linecolor": "white",
            "showbackground": true,
            "ticks": "",
            "zerolinecolor": "white"
           },
           "zaxis": {
            "backgroundcolor": "#E5ECF6",
            "gridcolor": "white",
            "gridwidth": 2,
            "linecolor": "white",
            "showbackground": true,
            "ticks": "",
            "zerolinecolor": "white"
           }
          },
          "shapedefaults": {
           "line": {
            "color": "#2a3f5f"
           }
          },
          "ternary": {
           "aaxis": {
            "gridcolor": "white",
            "linecolor": "white",
            "ticks": ""
           },
           "baxis": {
            "gridcolor": "white",
            "linecolor": "white",
            "ticks": ""
           },
           "bgcolor": "#E5ECF6",
           "caxis": {
            "gridcolor": "white",
            "linecolor": "white",
            "ticks": ""
           }
          },
          "title": {
           "x": 0.05
          },
          "xaxis": {
           "automargin": true,
           "gridcolor": "white",
           "linecolor": "white",
           "ticks": "",
           "title": {
            "standoff": 15
           },
           "zerolinecolor": "white",
           "zerolinewidth": 2
          },
          "yaxis": {
           "automargin": true,
           "gridcolor": "white",
           "linecolor": "white",
           "ticks": "",
           "title": {
            "standoff": 15
           },
           "zerolinecolor": "white",
           "zerolinewidth": 2
          }
         }
        },
        "title": {
         "text": "SCF: High Variance Features"
        },
        "xaxis": {
         "anchor": "y",
         "domain": [
          0,
          1
         ],
         "title": {
          "text": "Trimmed Variance"
         }
        },
        "yaxis": {
         "anchor": "x",
         "domain": [
          0,
          1
         ],
         "title": {
          "text": "Feature"
         }
        }
       }
      }
     },
     "metadata": {},
     "output_type": "display_data"
    }
   ],
   "source": [
    "# Create horizontal bar chart of `top_ten_trim_var`\n",
    "fig = px.bar(\n",
    "    x = top_ten_trim_var,\n",
    "    y = top_ten_trim_var.index,\n",
    "    title = \"SCF: High Variance Features\"\n",
    ")\n",
    "fig.update_layout(xaxis_title=\"Trimmed Variance\", yaxis_title=\"Feature\")\n",
    "fig.show()"
   ]
  },
  {
   "cell_type": "markdown",
   "metadata": {},
   "source": [
    "There are three things to notice in this plot. First, the variances have decreased a lot. In our previous chart, the x-axis went up to \\\\$80 billion; this one goes up to \\\\$12 billion. Second, the top 10 features have changed a bit. All the features relating to business ownership (`\"...BUS\"`) are gone. Finally, it can be see that there are big differences in variance from feature to feature. For example, the variance for `\"WAGEINC\"` is around than \\\\$500 million, while the variance for `\"ASSET\"` is nearly \\\\$12 billion. In other words, these features have completely different scales. This is something that needs to addressed before making clusters, one good ay is using the StandardScaler."
   ]
  },
  {
   "cell_type": "code",
   "execution_count": 10,
   "metadata": {},
   "outputs": [
    {
     "data": {
      "text/plain": [
       "['ASSET', 'NFIN', 'HOUSES', 'NETWORTH', 'DEBT']"
      ]
     },
     "execution_count": 10,
     "metadata": {},
     "output_type": "execute_result"
    }
   ],
   "source": [
    "high_var_cols = top_ten_trim_var.head(5).index.to_list()\n",
    "high_var_cols"
   ]
  },
  {
   "cell_type": "markdown",
   "metadata": {},
   "source": [
    "# Split"
   ]
  },
  {
   "cell_type": "code",
   "execution_count": 12,
   "metadata": {},
   "outputs": [
    {
     "name": "stdout",
     "output_type": "stream",
     "text": [
      "X shape: (2551, 5)\n"
     ]
    },
    {
     "data": {
      "text/html": [
       "<div>\n",
       "<style scoped>\n",
       "    .dataframe tbody tr th:only-of-type {\n",
       "        vertical-align: middle;\n",
       "    }\n",
       "\n",
       "    .dataframe tbody tr th {\n",
       "        vertical-align: top;\n",
       "    }\n",
       "\n",
       "    .dataframe thead th {\n",
       "        text-align: right;\n",
       "    }\n",
       "</style>\n",
       "<table border=\"1\" class=\"dataframe\">\n",
       "  <thead>\n",
       "    <tr style=\"text-align: right;\">\n",
       "      <th></th>\n",
       "      <th>ASSET</th>\n",
       "      <th>NFIN</th>\n",
       "      <th>HOUSES</th>\n",
       "      <th>NETWORTH</th>\n",
       "      <th>DEBT</th>\n",
       "    </tr>\n",
       "  </thead>\n",
       "  <tbody>\n",
       "    <tr>\n",
       "      <th>150</th>\n",
       "      <td>56185.0</td>\n",
       "      <td>53000.0</td>\n",
       "      <td>0.0</td>\n",
       "      <td>-7215.0</td>\n",
       "      <td>63400.0</td>\n",
       "    </tr>\n",
       "    <tr>\n",
       "      <th>151</th>\n",
       "      <td>55090.0</td>\n",
       "      <td>51900.0</td>\n",
       "      <td>0.0</td>\n",
       "      <td>-9310.0</td>\n",
       "      <td>64400.0</td>\n",
       "    </tr>\n",
       "    <tr>\n",
       "      <th>152</th>\n",
       "      <td>55200.0</td>\n",
       "      <td>52000.0</td>\n",
       "      <td>0.0</td>\n",
       "      <td>-10200.0</td>\n",
       "      <td>65400.0</td>\n",
       "    </tr>\n",
       "    <tr>\n",
       "      <th>153</th>\n",
       "      <td>55100.0</td>\n",
       "      <td>51900.0</td>\n",
       "      <td>0.0</td>\n",
       "      <td>-9300.0</td>\n",
       "      <td>64400.0</td>\n",
       "    </tr>\n",
       "    <tr>\n",
       "      <th>154</th>\n",
       "      <td>55185.0</td>\n",
       "      <td>52000.0</td>\n",
       "      <td>0.0</td>\n",
       "      <td>-8215.0</td>\n",
       "      <td>63400.0</td>\n",
       "    </tr>\n",
       "  </tbody>\n",
       "</table>\n",
       "</div>"
      ],
      "text/plain": [
       "       ASSET     NFIN  HOUSES  NETWORTH     DEBT\n",
       "150  56185.0  53000.0     0.0   -7215.0  63400.0\n",
       "151  55090.0  51900.0     0.0   -9310.0  64400.0\n",
       "152  55200.0  52000.0     0.0  -10200.0  65400.0\n",
       "153  55100.0  51900.0     0.0   -9300.0  64400.0\n",
       "154  55185.0  52000.0     0.0   -8215.0  63400.0"
      ]
     },
     "execution_count": 12,
     "metadata": {},
     "output_type": "execute_result"
    }
   ],
   "source": [
    "X = df[high_var_cols]\n",
    "print(\"X shape:\", X.shape)\n",
    "X.head()"
   ]
  },
  {
   "cell_type": "markdown",
   "metadata": {},
   "source": [
    "# Modelling"
   ]
  },
  {
   "cell_type": "code",
   "execution_count": 13,
   "metadata": {},
   "outputs": [
    {
     "name": "stdout",
     "output_type": "stream",
     "text": [
      "Inertia: [6524.131658131042, 4034.8563736936485, 3303.379438482993]\n",
      "\n",
      "Silhouette Scores: [0.7088905822791729, 0.6628617863534451, 0.6458280724081876]\n"
     ]
    }
   ],
   "source": [
    "n_clusters = range(2,13)\n",
    "inertia_errors = []\n",
    "silhouette_scores = []\n",
    "\n",
    "# Add `for` loop to train model and calculate inertia, silhouette score.\n",
    "for k in n_clusters:\n",
    "    #make model pipeline\n",
    "    model = make_pipeline(StandardScaler(), KMeans(n_clusters=k, random_state=42))\n",
    "    #Train model\n",
    "    model.fit(X) \n",
    "    # Cal model inertial and append to list\n",
    "    inertia_errors.append(model.named_steps['kmeans'].inertia_)\n",
    "    # Calculate silhouette score and append to list\n",
    "    silhouette_scores.append(silhouette_score(\n",
    "        X, \n",
    "        model.named_steps['kmeans'].labels_)\n",
    "        )\n",
    "    \n",
    "print(\"Inertia:\", inertia_errors[:3])\n",
    "print()\n",
    "print(\"Silhouette Scores:\", silhouette_scores[:3])"
   ]
  },
  {
   "cell_type": "code",
   "execution_count": 14,
   "metadata": {},
   "outputs": [
    {
     "data": {
      "application/vnd.plotly.v1+json": {
       "config": {
        "plotlyServerURL": "https://plot.ly"
       },
       "data": [
        {
         "hovertemplate": "x=%{x}<br>y=%{y}<extra></extra>",
         "legendgroup": "",
         "line": {
          "color": "#636efa",
          "dash": "solid"
         },
         "marker": {
          "symbol": "circle"
         },
         "mode": "lines",
         "name": "",
         "orientation": "v",
         "showlegend": false,
         "type": "scatter",
         "x": [
          2,
          3,
          4,
          5,
          6,
          7,
          8,
          9,
          10,
          11,
          12
         ],
         "xaxis": "x",
         "y": [
          6524.131658131042,
          4034.8563736936485,
          3303.379438482993,
          2818.0266304436664,
          2395.937755868509,
          2056.4759256925668,
          1829.429337144448,
          1640.9285768761445,
          1490.1961254073794,
          1379.73960982899,
          1289.8860433647787
         ],
         "yaxis": "y"
        }
       ],
       "layout": {
        "legend": {
         "tracegroupgap": 0
        },
        "template": {
         "data": {
          "bar": [
           {
            "error_x": {
             "color": "#2a3f5f"
            },
            "error_y": {
             "color": "#2a3f5f"
            },
            "marker": {
             "line": {
              "color": "#E5ECF6",
              "width": 0.5
             },
             "pattern": {
              "fillmode": "overlay",
              "size": 10,
              "solidity": 0.2
             }
            },
            "type": "bar"
           }
          ],
          "barpolar": [
           {
            "marker": {
             "line": {
              "color": "#E5ECF6",
              "width": 0.5
             },
             "pattern": {
              "fillmode": "overlay",
              "size": 10,
              "solidity": 0.2
             }
            },
            "type": "barpolar"
           }
          ],
          "carpet": [
           {
            "aaxis": {
             "endlinecolor": "#2a3f5f",
             "gridcolor": "white",
             "linecolor": "white",
             "minorgridcolor": "white",
             "startlinecolor": "#2a3f5f"
            },
            "baxis": {
             "endlinecolor": "#2a3f5f",
             "gridcolor": "white",
             "linecolor": "white",
             "minorgridcolor": "white",
             "startlinecolor": "#2a3f5f"
            },
            "type": "carpet"
           }
          ],
          "choropleth": [
           {
            "colorbar": {
             "outlinewidth": 0,
             "ticks": ""
            },
            "type": "choropleth"
           }
          ],
          "contour": [
           {
            "colorbar": {
             "outlinewidth": 0,
             "ticks": ""
            },
            "colorscale": [
             [
              0,
              "#0d0887"
             ],
             [
              0.1111111111111111,
              "#46039f"
             ],
             [
              0.2222222222222222,
              "#7201a8"
             ],
             [
              0.3333333333333333,
              "#9c179e"
             ],
             [
              0.4444444444444444,
              "#bd3786"
             ],
             [
              0.5555555555555556,
              "#d8576b"
             ],
             [
              0.6666666666666666,
              "#ed7953"
             ],
             [
              0.7777777777777778,
              "#fb9f3a"
             ],
             [
              0.8888888888888888,
              "#fdca26"
             ],
             [
              1,
              "#f0f921"
             ]
            ],
            "type": "contour"
           }
          ],
          "contourcarpet": [
           {
            "colorbar": {
             "outlinewidth": 0,
             "ticks": ""
            },
            "type": "contourcarpet"
           }
          ],
          "heatmap": [
           {
            "colorbar": {
             "outlinewidth": 0,
             "ticks": ""
            },
            "colorscale": [
             [
              0,
              "#0d0887"
             ],
             [
              0.1111111111111111,
              "#46039f"
             ],
             [
              0.2222222222222222,
              "#7201a8"
             ],
             [
              0.3333333333333333,
              "#9c179e"
             ],
             [
              0.4444444444444444,
              "#bd3786"
             ],
             [
              0.5555555555555556,
              "#d8576b"
             ],
             [
              0.6666666666666666,
              "#ed7953"
             ],
             [
              0.7777777777777778,
              "#fb9f3a"
             ],
             [
              0.8888888888888888,
              "#fdca26"
             ],
             [
              1,
              "#f0f921"
             ]
            ],
            "type": "heatmap"
           }
          ],
          "heatmapgl": [
           {
            "colorbar": {
             "outlinewidth": 0,
             "ticks": ""
            },
            "colorscale": [
             [
              0,
              "#0d0887"
             ],
             [
              0.1111111111111111,
              "#46039f"
             ],
             [
              0.2222222222222222,
              "#7201a8"
             ],
             [
              0.3333333333333333,
              "#9c179e"
             ],
             [
              0.4444444444444444,
              "#bd3786"
             ],
             [
              0.5555555555555556,
              "#d8576b"
             ],
             [
              0.6666666666666666,
              "#ed7953"
             ],
             [
              0.7777777777777778,
              "#fb9f3a"
             ],
             [
              0.8888888888888888,
              "#fdca26"
             ],
             [
              1,
              "#f0f921"
             ]
            ],
            "type": "heatmapgl"
           }
          ],
          "histogram": [
           {
            "marker": {
             "pattern": {
              "fillmode": "overlay",
              "size": 10,
              "solidity": 0.2
             }
            },
            "type": "histogram"
           }
          ],
          "histogram2d": [
           {
            "colorbar": {
             "outlinewidth": 0,
             "ticks": ""
            },
            "colorscale": [
             [
              0,
              "#0d0887"
             ],
             [
              0.1111111111111111,
              "#46039f"
             ],
             [
              0.2222222222222222,
              "#7201a8"
             ],
             [
              0.3333333333333333,
              "#9c179e"
             ],
             [
              0.4444444444444444,
              "#bd3786"
             ],
             [
              0.5555555555555556,
              "#d8576b"
             ],
             [
              0.6666666666666666,
              "#ed7953"
             ],
             [
              0.7777777777777778,
              "#fb9f3a"
             ],
             [
              0.8888888888888888,
              "#fdca26"
             ],
             [
              1,
              "#f0f921"
             ]
            ],
            "type": "histogram2d"
           }
          ],
          "histogram2dcontour": [
           {
            "colorbar": {
             "outlinewidth": 0,
             "ticks": ""
            },
            "colorscale": [
             [
              0,
              "#0d0887"
             ],
             [
              0.1111111111111111,
              "#46039f"
             ],
             [
              0.2222222222222222,
              "#7201a8"
             ],
             [
              0.3333333333333333,
              "#9c179e"
             ],
             [
              0.4444444444444444,
              "#bd3786"
             ],
             [
              0.5555555555555556,
              "#d8576b"
             ],
             [
              0.6666666666666666,
              "#ed7953"
             ],
             [
              0.7777777777777778,
              "#fb9f3a"
             ],
             [
              0.8888888888888888,
              "#fdca26"
             ],
             [
              1,
              "#f0f921"
             ]
            ],
            "type": "histogram2dcontour"
           }
          ],
          "mesh3d": [
           {
            "colorbar": {
             "outlinewidth": 0,
             "ticks": ""
            },
            "type": "mesh3d"
           }
          ],
          "parcoords": [
           {
            "line": {
             "colorbar": {
              "outlinewidth": 0,
              "ticks": ""
             }
            },
            "type": "parcoords"
           }
          ],
          "pie": [
           {
            "automargin": true,
            "type": "pie"
           }
          ],
          "scatter": [
           {
            "fillpattern": {
             "fillmode": "overlay",
             "size": 10,
             "solidity": 0.2
            },
            "type": "scatter"
           }
          ],
          "scatter3d": [
           {
            "line": {
             "colorbar": {
              "outlinewidth": 0,
              "ticks": ""
             }
            },
            "marker": {
             "colorbar": {
              "outlinewidth": 0,
              "ticks": ""
             }
            },
            "type": "scatter3d"
           }
          ],
          "scattercarpet": [
           {
            "marker": {
             "colorbar": {
              "outlinewidth": 0,
              "ticks": ""
             }
            },
            "type": "scattercarpet"
           }
          ],
          "scattergeo": [
           {
            "marker": {
             "colorbar": {
              "outlinewidth": 0,
              "ticks": ""
             }
            },
            "type": "scattergeo"
           }
          ],
          "scattergl": [
           {
            "marker": {
             "colorbar": {
              "outlinewidth": 0,
              "ticks": ""
             }
            },
            "type": "scattergl"
           }
          ],
          "scattermapbox": [
           {
            "marker": {
             "colorbar": {
              "outlinewidth": 0,
              "ticks": ""
             }
            },
            "type": "scattermapbox"
           }
          ],
          "scatterpolar": [
           {
            "marker": {
             "colorbar": {
              "outlinewidth": 0,
              "ticks": ""
             }
            },
            "type": "scatterpolar"
           }
          ],
          "scatterpolargl": [
           {
            "marker": {
             "colorbar": {
              "outlinewidth": 0,
              "ticks": ""
             }
            },
            "type": "scatterpolargl"
           }
          ],
          "scatterternary": [
           {
            "marker": {
             "colorbar": {
              "outlinewidth": 0,
              "ticks": ""
             }
            },
            "type": "scatterternary"
           }
          ],
          "surface": [
           {
            "colorbar": {
             "outlinewidth": 0,
             "ticks": ""
            },
            "colorscale": [
             [
              0,
              "#0d0887"
             ],
             [
              0.1111111111111111,
              "#46039f"
             ],
             [
              0.2222222222222222,
              "#7201a8"
             ],
             [
              0.3333333333333333,
              "#9c179e"
             ],
             [
              0.4444444444444444,
              "#bd3786"
             ],
             [
              0.5555555555555556,
              "#d8576b"
             ],
             [
              0.6666666666666666,
              "#ed7953"
             ],
             [
              0.7777777777777778,
              "#fb9f3a"
             ],
             [
              0.8888888888888888,
              "#fdca26"
             ],
             [
              1,
              "#f0f921"
             ]
            ],
            "type": "surface"
           }
          ],
          "table": [
           {
            "cells": {
             "fill": {
              "color": "#EBF0F8"
             },
             "line": {
              "color": "white"
             }
            },
            "header": {
             "fill": {
              "color": "#C8D4E3"
             },
             "line": {
              "color": "white"
             }
            },
            "type": "table"
           }
          ]
         },
         "layout": {
          "annotationdefaults": {
           "arrowcolor": "#2a3f5f",
           "arrowhead": 0,
           "arrowwidth": 1
          },
          "autotypenumbers": "strict",
          "coloraxis": {
           "colorbar": {
            "outlinewidth": 0,
            "ticks": ""
           }
          },
          "colorscale": {
           "diverging": [
            [
             0,
             "#8e0152"
            ],
            [
             0.1,
             "#c51b7d"
            ],
            [
             0.2,
             "#de77ae"
            ],
            [
             0.3,
             "#f1b6da"
            ],
            [
             0.4,
             "#fde0ef"
            ],
            [
             0.5,
             "#f7f7f7"
            ],
            [
             0.6,
             "#e6f5d0"
            ],
            [
             0.7,
             "#b8e186"
            ],
            [
             0.8,
             "#7fbc41"
            ],
            [
             0.9,
             "#4d9221"
            ],
            [
             1,
             "#276419"
            ]
           ],
           "sequential": [
            [
             0,
             "#0d0887"
            ],
            [
             0.1111111111111111,
             "#46039f"
            ],
            [
             0.2222222222222222,
             "#7201a8"
            ],
            [
             0.3333333333333333,
             "#9c179e"
            ],
            [
             0.4444444444444444,
             "#bd3786"
            ],
            [
             0.5555555555555556,
             "#d8576b"
            ],
            [
             0.6666666666666666,
             "#ed7953"
            ],
            [
             0.7777777777777778,
             "#fb9f3a"
            ],
            [
             0.8888888888888888,
             "#fdca26"
            ],
            [
             1,
             "#f0f921"
            ]
           ],
           "sequentialminus": [
            [
             0,
             "#0d0887"
            ],
            [
             0.1111111111111111,
             "#46039f"
            ],
            [
             0.2222222222222222,
             "#7201a8"
            ],
            [
             0.3333333333333333,
             "#9c179e"
            ],
            [
             0.4444444444444444,
             "#bd3786"
            ],
            [
             0.5555555555555556,
             "#d8576b"
            ],
            [
             0.6666666666666666,
             "#ed7953"
            ],
            [
             0.7777777777777778,
             "#fb9f3a"
            ],
            [
             0.8888888888888888,
             "#fdca26"
            ],
            [
             1,
             "#f0f921"
            ]
           ]
          },
          "colorway": [
           "#636efa",
           "#EF553B",
           "#00cc96",
           "#ab63fa",
           "#FFA15A",
           "#19d3f3",
           "#FF6692",
           "#B6E880",
           "#FF97FF",
           "#FECB52"
          ],
          "font": {
           "color": "#2a3f5f"
          },
          "geo": {
           "bgcolor": "white",
           "lakecolor": "white",
           "landcolor": "#E5ECF6",
           "showlakes": true,
           "showland": true,
           "subunitcolor": "white"
          },
          "hoverlabel": {
           "align": "left"
          },
          "hovermode": "closest",
          "mapbox": {
           "style": "light"
          },
          "paper_bgcolor": "white",
          "plot_bgcolor": "#E5ECF6",
          "polar": {
           "angularaxis": {
            "gridcolor": "white",
            "linecolor": "white",
            "ticks": ""
           },
           "bgcolor": "#E5ECF6",
           "radialaxis": {
            "gridcolor": "white",
            "linecolor": "white",
            "ticks": ""
           }
          },
          "scene": {
           "xaxis": {
            "backgroundcolor": "#E5ECF6",
            "gridcolor": "white",
            "gridwidth": 2,
            "linecolor": "white",
            "showbackground": true,
            "ticks": "",
            "zerolinecolor": "white"
           },
           "yaxis": {
            "backgroundcolor": "#E5ECF6",
            "gridcolor": "white",
            "gridwidth": 2,
            "linecolor": "white",
            "showbackground": true,
            "ticks": "",
            "zerolinecolor": "white"
           },
           "zaxis": {
            "backgroundcolor": "#E5ECF6",
            "gridcolor": "white",
            "gridwidth": 2,
            "linecolor": "white",
            "showbackground": true,
            "ticks": "",
            "zerolinecolor": "white"
           }
          },
          "shapedefaults": {
           "line": {
            "color": "#2a3f5f"
           }
          },
          "ternary": {
           "aaxis": {
            "gridcolor": "white",
            "linecolor": "white",
            "ticks": ""
           },
           "baxis": {
            "gridcolor": "white",
            "linecolor": "white",
            "ticks": ""
           },
           "bgcolor": "#E5ECF6",
           "caxis": {
            "gridcolor": "white",
            "linecolor": "white",
            "ticks": ""
           }
          },
          "title": {
           "x": 0.05
          },
          "xaxis": {
           "automargin": true,
           "gridcolor": "white",
           "linecolor": "white",
           "ticks": "",
           "title": {
            "standoff": 15
           },
           "zerolinecolor": "white",
           "zerolinewidth": 2
          },
          "yaxis": {
           "automargin": true,
           "gridcolor": "white",
           "linecolor": "white",
           "ticks": "",
           "title": {
            "standoff": 15
           },
           "zerolinecolor": "white",
           "zerolinewidth": 2
          }
         }
        },
        "title": {
         "text": "K-Means Model: Inertia vs Number of Clusters"
        },
        "xaxis": {
         "anchor": "y",
         "domain": [
          0,
          1
         ],
         "title": {
          "text": "Number of Clusters"
         }
        },
        "yaxis": {
         "anchor": "x",
         "domain": [
          0,
          1
         ],
         "title": {
          "text": "Inertia"
         }
        }
       }
      }
     },
     "metadata": {},
     "output_type": "display_data"
    }
   ],
   "source": [
    "# Create line plot of `inertia_errors` vs `n_clusters`\n",
    "fig = px.line(\n",
    "    x=n_clusters, \n",
    "    y=inertia_errors, \n",
    "    title= \"K-Means Model: Inertia vs Number of Clusters\"\n",
    ")\n",
    "fig.update_layout(xaxis_title=\"Number of Clusters\", yaxis_title=\"Inertia\")\n",
    "fig.show()"
   ]
  },
  {
   "cell_type": "code",
   "execution_count": 15,
   "metadata": {},
   "outputs": [
    {
     "data": {
      "application/vnd.plotly.v1+json": {
       "config": {
        "plotlyServerURL": "https://plot.ly"
       },
       "data": [
        {
         "hovertemplate": "x=%{x}<br>y=%{y}<extra></extra>",
         "legendgroup": "",
         "line": {
          "color": "#636efa",
          "dash": "solid"
         },
         "marker": {
          "symbol": "circle"
         },
         "mode": "lines",
         "name": "",
         "orientation": "v",
         "showlegend": false,
         "type": "scatter",
         "x": [
          2,
          3,
          4,
          5,
          6,
          7,
          8,
          9,
          10,
          11,
          12
         ],
         "xaxis": "x",
         "y": [
          0.7088905822791729,
          0.6628617863534451,
          0.6458280724081876,
          0.6235148756119485,
          0.6092603772229082,
          0.6057355739121347,
          0.6121402889666184,
          0.6106781560137287,
          0.6157211889712219,
          0.6076475679611525,
          0.567154817890006
         ],
         "yaxis": "y"
        }
       ],
       "layout": {
        "legend": {
         "tracegroupgap": 0
        },
        "template": {
         "data": {
          "bar": [
           {
            "error_x": {
             "color": "#2a3f5f"
            },
            "error_y": {
             "color": "#2a3f5f"
            },
            "marker": {
             "line": {
              "color": "#E5ECF6",
              "width": 0.5
             },
             "pattern": {
              "fillmode": "overlay",
              "size": 10,
              "solidity": 0.2
             }
            },
            "type": "bar"
           }
          ],
          "barpolar": [
           {
            "marker": {
             "line": {
              "color": "#E5ECF6",
              "width": 0.5
             },
             "pattern": {
              "fillmode": "overlay",
              "size": 10,
              "solidity": 0.2
             }
            },
            "type": "barpolar"
           }
          ],
          "carpet": [
           {
            "aaxis": {
             "endlinecolor": "#2a3f5f",
             "gridcolor": "white",
             "linecolor": "white",
             "minorgridcolor": "white",
             "startlinecolor": "#2a3f5f"
            },
            "baxis": {
             "endlinecolor": "#2a3f5f",
             "gridcolor": "white",
             "linecolor": "white",
             "minorgridcolor": "white",
             "startlinecolor": "#2a3f5f"
            },
            "type": "carpet"
           }
          ],
          "choropleth": [
           {
            "colorbar": {
             "outlinewidth": 0,
             "ticks": ""
            },
            "type": "choropleth"
           }
          ],
          "contour": [
           {
            "colorbar": {
             "outlinewidth": 0,
             "ticks": ""
            },
            "colorscale": [
             [
              0,
              "#0d0887"
             ],
             [
              0.1111111111111111,
              "#46039f"
             ],
             [
              0.2222222222222222,
              "#7201a8"
             ],
             [
              0.3333333333333333,
              "#9c179e"
             ],
             [
              0.4444444444444444,
              "#bd3786"
             ],
             [
              0.5555555555555556,
              "#d8576b"
             ],
             [
              0.6666666666666666,
              "#ed7953"
             ],
             [
              0.7777777777777778,
              "#fb9f3a"
             ],
             [
              0.8888888888888888,
              "#fdca26"
             ],
             [
              1,
              "#f0f921"
             ]
            ],
            "type": "contour"
           }
          ],
          "contourcarpet": [
           {
            "colorbar": {
             "outlinewidth": 0,
             "ticks": ""
            },
            "type": "contourcarpet"
           }
          ],
          "heatmap": [
           {
            "colorbar": {
             "outlinewidth": 0,
             "ticks": ""
            },
            "colorscale": [
             [
              0,
              "#0d0887"
             ],
             [
              0.1111111111111111,
              "#46039f"
             ],
             [
              0.2222222222222222,
              "#7201a8"
             ],
             [
              0.3333333333333333,
              "#9c179e"
             ],
             [
              0.4444444444444444,
              "#bd3786"
             ],
             [
              0.5555555555555556,
              "#d8576b"
             ],
             [
              0.6666666666666666,
              "#ed7953"
             ],
             [
              0.7777777777777778,
              "#fb9f3a"
             ],
             [
              0.8888888888888888,
              "#fdca26"
             ],
             [
              1,
              "#f0f921"
             ]
            ],
            "type": "heatmap"
           }
          ],
          "heatmapgl": [
           {
            "colorbar": {
             "outlinewidth": 0,
             "ticks": ""
            },
            "colorscale": [
             [
              0,
              "#0d0887"
             ],
             [
              0.1111111111111111,
              "#46039f"
             ],
             [
              0.2222222222222222,
              "#7201a8"
             ],
             [
              0.3333333333333333,
              "#9c179e"
             ],
             [
              0.4444444444444444,
              "#bd3786"
             ],
             [
              0.5555555555555556,
              "#d8576b"
             ],
             [
              0.6666666666666666,
              "#ed7953"
             ],
             [
              0.7777777777777778,
              "#fb9f3a"
             ],
             [
              0.8888888888888888,
              "#fdca26"
             ],
             [
              1,
              "#f0f921"
             ]
            ],
            "type": "heatmapgl"
           }
          ],
          "histogram": [
           {
            "marker": {
             "pattern": {
              "fillmode": "overlay",
              "size": 10,
              "solidity": 0.2
             }
            },
            "type": "histogram"
           }
          ],
          "histogram2d": [
           {
            "colorbar": {
             "outlinewidth": 0,
             "ticks": ""
            },
            "colorscale": [
             [
              0,
              "#0d0887"
             ],
             [
              0.1111111111111111,
              "#46039f"
             ],
             [
              0.2222222222222222,
              "#7201a8"
             ],
             [
              0.3333333333333333,
              "#9c179e"
             ],
             [
              0.4444444444444444,
              "#bd3786"
             ],
             [
              0.5555555555555556,
              "#d8576b"
             ],
             [
              0.6666666666666666,
              "#ed7953"
             ],
             [
              0.7777777777777778,
              "#fb9f3a"
             ],
             [
              0.8888888888888888,
              "#fdca26"
             ],
             [
              1,
              "#f0f921"
             ]
            ],
            "type": "histogram2d"
           }
          ],
          "histogram2dcontour": [
           {
            "colorbar": {
             "outlinewidth": 0,
             "ticks": ""
            },
            "colorscale": [
             [
              0,
              "#0d0887"
             ],
             [
              0.1111111111111111,
              "#46039f"
             ],
             [
              0.2222222222222222,
              "#7201a8"
             ],
             [
              0.3333333333333333,
              "#9c179e"
             ],
             [
              0.4444444444444444,
              "#bd3786"
             ],
             [
              0.5555555555555556,
              "#d8576b"
             ],
             [
              0.6666666666666666,
              "#ed7953"
             ],
             [
              0.7777777777777778,
              "#fb9f3a"
             ],
             [
              0.8888888888888888,
              "#fdca26"
             ],
             [
              1,
              "#f0f921"
             ]
            ],
            "type": "histogram2dcontour"
           }
          ],
          "mesh3d": [
           {
            "colorbar": {
             "outlinewidth": 0,
             "ticks": ""
            },
            "type": "mesh3d"
           }
          ],
          "parcoords": [
           {
            "line": {
             "colorbar": {
              "outlinewidth": 0,
              "ticks": ""
             }
            },
            "type": "parcoords"
           }
          ],
          "pie": [
           {
            "automargin": true,
            "type": "pie"
           }
          ],
          "scatter": [
           {
            "fillpattern": {
             "fillmode": "overlay",
             "size": 10,
             "solidity": 0.2
            },
            "type": "scatter"
           }
          ],
          "scatter3d": [
           {
            "line": {
             "colorbar": {
              "outlinewidth": 0,
              "ticks": ""
             }
            },
            "marker": {
             "colorbar": {
              "outlinewidth": 0,
              "ticks": ""
             }
            },
            "type": "scatter3d"
           }
          ],
          "scattercarpet": [
           {
            "marker": {
             "colorbar": {
              "outlinewidth": 0,
              "ticks": ""
             }
            },
            "type": "scattercarpet"
           }
          ],
          "scattergeo": [
           {
            "marker": {
             "colorbar": {
              "outlinewidth": 0,
              "ticks": ""
             }
            },
            "type": "scattergeo"
           }
          ],
          "scattergl": [
           {
            "marker": {
             "colorbar": {
              "outlinewidth": 0,
              "ticks": ""
             }
            },
            "type": "scattergl"
           }
          ],
          "scattermapbox": [
           {
            "marker": {
             "colorbar": {
              "outlinewidth": 0,
              "ticks": ""
             }
            },
            "type": "scattermapbox"
           }
          ],
          "scatterpolar": [
           {
            "marker": {
             "colorbar": {
              "outlinewidth": 0,
              "ticks": ""
             }
            },
            "type": "scatterpolar"
           }
          ],
          "scatterpolargl": [
           {
            "marker": {
             "colorbar": {
              "outlinewidth": 0,
              "ticks": ""
             }
            },
            "type": "scatterpolargl"
           }
          ],
          "scatterternary": [
           {
            "marker": {
             "colorbar": {
              "outlinewidth": 0,
              "ticks": ""
             }
            },
            "type": "scatterternary"
           }
          ],
          "surface": [
           {
            "colorbar": {
             "outlinewidth": 0,
             "ticks": ""
            },
            "colorscale": [
             [
              0,
              "#0d0887"
             ],
             [
              0.1111111111111111,
              "#46039f"
             ],
             [
              0.2222222222222222,
              "#7201a8"
             ],
             [
              0.3333333333333333,
              "#9c179e"
             ],
             [
              0.4444444444444444,
              "#bd3786"
             ],
             [
              0.5555555555555556,
              "#d8576b"
             ],
             [
              0.6666666666666666,
              "#ed7953"
             ],
             [
              0.7777777777777778,
              "#fb9f3a"
             ],
             [
              0.8888888888888888,
              "#fdca26"
             ],
             [
              1,
              "#f0f921"
             ]
            ],
            "type": "surface"
           }
          ],
          "table": [
           {
            "cells": {
             "fill": {
              "color": "#EBF0F8"
             },
             "line": {
              "color": "white"
             }
            },
            "header": {
             "fill": {
              "color": "#C8D4E3"
             },
             "line": {
              "color": "white"
             }
            },
            "type": "table"
           }
          ]
         },
         "layout": {
          "annotationdefaults": {
           "arrowcolor": "#2a3f5f",
           "arrowhead": 0,
           "arrowwidth": 1
          },
          "autotypenumbers": "strict",
          "coloraxis": {
           "colorbar": {
            "outlinewidth": 0,
            "ticks": ""
           }
          },
          "colorscale": {
           "diverging": [
            [
             0,
             "#8e0152"
            ],
            [
             0.1,
             "#c51b7d"
            ],
            [
             0.2,
             "#de77ae"
            ],
            [
             0.3,
             "#f1b6da"
            ],
            [
             0.4,
             "#fde0ef"
            ],
            [
             0.5,
             "#f7f7f7"
            ],
            [
             0.6,
             "#e6f5d0"
            ],
            [
             0.7,
             "#b8e186"
            ],
            [
             0.8,
             "#7fbc41"
            ],
            [
             0.9,
             "#4d9221"
            ],
            [
             1,
             "#276419"
            ]
           ],
           "sequential": [
            [
             0,
             "#0d0887"
            ],
            [
             0.1111111111111111,
             "#46039f"
            ],
            [
             0.2222222222222222,
             "#7201a8"
            ],
            [
             0.3333333333333333,
             "#9c179e"
            ],
            [
             0.4444444444444444,
             "#bd3786"
            ],
            [
             0.5555555555555556,
             "#d8576b"
            ],
            [
             0.6666666666666666,
             "#ed7953"
            ],
            [
             0.7777777777777778,
             "#fb9f3a"
            ],
            [
             0.8888888888888888,
             "#fdca26"
            ],
            [
             1,
             "#f0f921"
            ]
           ],
           "sequentialminus": [
            [
             0,
             "#0d0887"
            ],
            [
             0.1111111111111111,
             "#46039f"
            ],
            [
             0.2222222222222222,
             "#7201a8"
            ],
            [
             0.3333333333333333,
             "#9c179e"
            ],
            [
             0.4444444444444444,
             "#bd3786"
            ],
            [
             0.5555555555555556,
             "#d8576b"
            ],
            [
             0.6666666666666666,
             "#ed7953"
            ],
            [
             0.7777777777777778,
             "#fb9f3a"
            ],
            [
             0.8888888888888888,
             "#fdca26"
            ],
            [
             1,
             "#f0f921"
            ]
           ]
          },
          "colorway": [
           "#636efa",
           "#EF553B",
           "#00cc96",
           "#ab63fa",
           "#FFA15A",
           "#19d3f3",
           "#FF6692",
           "#B6E880",
           "#FF97FF",
           "#FECB52"
          ],
          "font": {
           "color": "#2a3f5f"
          },
          "geo": {
           "bgcolor": "white",
           "lakecolor": "white",
           "landcolor": "#E5ECF6",
           "showlakes": true,
           "showland": true,
           "subunitcolor": "white"
          },
          "hoverlabel": {
           "align": "left"
          },
          "hovermode": "closest",
          "mapbox": {
           "style": "light"
          },
          "paper_bgcolor": "white",
          "plot_bgcolor": "#E5ECF6",
          "polar": {
           "angularaxis": {
            "gridcolor": "white",
            "linecolor": "white",
            "ticks": ""
           },
           "bgcolor": "#E5ECF6",
           "radialaxis": {
            "gridcolor": "white",
            "linecolor": "white",
            "ticks": ""
           }
          },
          "scene": {
           "xaxis": {
            "backgroundcolor": "#E5ECF6",
            "gridcolor": "white",
            "gridwidth": 2,
            "linecolor": "white",
            "showbackground": true,
            "ticks": "",
            "zerolinecolor": "white"
           },
           "yaxis": {
            "backgroundcolor": "#E5ECF6",
            "gridcolor": "white",
            "gridwidth": 2,
            "linecolor": "white",
            "showbackground": true,
            "ticks": "",
            "zerolinecolor": "white"
           },
           "zaxis": {
            "backgroundcolor": "#E5ECF6",
            "gridcolor": "white",
            "gridwidth": 2,
            "linecolor": "white",
            "showbackground": true,
            "ticks": "",
            "zerolinecolor": "white"
           }
          },
          "shapedefaults": {
           "line": {
            "color": "#2a3f5f"
           }
          },
          "ternary": {
           "aaxis": {
            "gridcolor": "white",
            "linecolor": "white",
            "ticks": ""
           },
           "baxis": {
            "gridcolor": "white",
            "linecolor": "white",
            "ticks": ""
           },
           "bgcolor": "#E5ECF6",
           "caxis": {
            "gridcolor": "white",
            "linecolor": "white",
            "ticks": ""
           }
          },
          "title": {
           "x": 0.05
          },
          "xaxis": {
           "automargin": true,
           "gridcolor": "white",
           "linecolor": "white",
           "ticks": "",
           "title": {
            "standoff": 15
           },
           "zerolinecolor": "white",
           "zerolinewidth": 2
          },
          "yaxis": {
           "automargin": true,
           "gridcolor": "white",
           "linecolor": "white",
           "ticks": "",
           "title": {
            "standoff": 15
           },
           "zerolinecolor": "white",
           "zerolinewidth": 2
          }
         }
        },
        "title": {
         "text": "Silhouette Score vs Number of Clusters"
        },
        "xaxis": {
         "anchor": "y",
         "domain": [
          0,
          1
         ],
         "title": {
          "text": "Number of Clusters"
         }
        },
        "yaxis": {
         "anchor": "x",
         "domain": [
          0,
          1
         ],
         "title": {
          "text": "Silhouette Score"
         }
        }
       }
      }
     },
     "metadata": {},
     "output_type": "display_data"
    }
   ],
   "source": [
    "# Create a line plot of `silhouette_scores` vs `n_clusters`\n",
    "fig = px.line(\n",
    "    x=n_clusters, \n",
    "    y=silhouette_scores, \n",
    "    title= \"Silhouette Score vs Number of Clusters\"\n",
    ")\n",
    "fig.update_layout(\n",
    "    xaxis_title=\"Number of Clusters\", yaxis_title=\"Silhouette Score\")\n",
    "\n",
    "fig.show()"
   ]
  },
  {
   "cell_type": "markdown",
   "metadata": {},
   "source": [
    "Based on the above plots, using 4 clusters is reasonable."
   ]
  },
  {
   "cell_type": "code",
   "execution_count": 16,
   "metadata": {},
   "outputs": [
    {
     "data": {
      "text/plain": [
       "Pipeline(steps=[('standardscaler', StandardScaler()),\n",
       "                ('kmeans', KMeans(n_clusters=4, random_state=42))])"
      ]
     },
     "execution_count": 16,
     "metadata": {},
     "output_type": "execute_result"
    }
   ],
   "source": [
    "final_model = make_pipeline(\n",
    "    StandardScaler(), \n",
    "    KMeans(n_clusters=4, random_state=42)\n",
    ")\n",
    "final_model.fit(X)"
   ]
  },
  {
   "cell_type": "code",
   "execution_count": 17,
   "metadata": {},
   "outputs": [
    {
     "name": "stdout",
     "output_type": "stream",
     "text": [
      "[0 0 0 0 0]\n"
     ]
    }
   ],
   "source": [
    "labels = final_model.named_steps['kmeans'].labels_\n",
    "print(labels[:5])"
   ]
  },
  {
   "cell_type": "code",
   "execution_count": 18,
   "metadata": {},
   "outputs": [
    {
     "data": {
      "text/html": [
       "<div>\n",
       "<style scoped>\n",
       "    .dataframe tbody tr th:only-of-type {\n",
       "        vertical-align: middle;\n",
       "    }\n",
       "\n",
       "    .dataframe tbody tr th {\n",
       "        vertical-align: top;\n",
       "    }\n",
       "\n",
       "    .dataframe thead th {\n",
       "        text-align: right;\n",
       "    }\n",
       "</style>\n",
       "<table border=\"1\" class=\"dataframe\">\n",
       "  <thead>\n",
       "    <tr style=\"text-align: right;\">\n",
       "      <th></th>\n",
       "      <th>ASSET</th>\n",
       "      <th>NFIN</th>\n",
       "      <th>HOUSES</th>\n",
       "      <th>NETWORTH</th>\n",
       "      <th>DEBT</th>\n",
       "    </tr>\n",
       "  </thead>\n",
       "  <tbody>\n",
       "    <tr>\n",
       "      <th>0</th>\n",
       "      <td>4.606971e+04</td>\n",
       "      <td>3.262453e+04</td>\n",
       "      <td>15808.776596</td>\n",
       "      <td>14729.694681</td>\n",
       "      <td>31340.018617</td>\n",
       "    </tr>\n",
       "    <tr>\n",
       "      <th>1</th>\n",
       "      <td>3.666664e+05</td>\n",
       "      <td>3.202373e+05</td>\n",
       "      <td>258969.135802</td>\n",
       "      <td>131358.121399</td>\n",
       "      <td>235308.302469</td>\n",
       "    </tr>\n",
       "    <tr>\n",
       "      <th>2</th>\n",
       "      <td>8.054979e+05</td>\n",
       "      <td>5.445849e+05</td>\n",
       "      <td>247132.812500</td>\n",
       "      <td>697602.250000</td>\n",
       "      <td>107895.625000</td>\n",
       "    </tr>\n",
       "    <tr>\n",
       "      <th>3</th>\n",
       "      <td>1.528714e+06</td>\n",
       "      <td>1.316484e+06</td>\n",
       "      <td>832017.543860</td>\n",
       "      <td>778612.982456</td>\n",
       "      <td>750101.403509</td>\n",
       "    </tr>\n",
       "  </tbody>\n",
       "</table>\n",
       "</div>"
      ],
      "text/plain": [
       "          ASSET          NFIN         HOUSES       NETWORTH           DEBT\n",
       "0  4.606971e+04  3.262453e+04   15808.776596   14729.694681   31340.018617\n",
       "1  3.666664e+05  3.202373e+05  258969.135802  131358.121399  235308.302469\n",
       "2  8.054979e+05  5.445849e+05  247132.812500  697602.250000  107895.625000\n",
       "3  1.528714e+06  1.316484e+06  832017.543860  778612.982456  750101.403509"
      ]
     },
     "execution_count": 18,
     "metadata": {},
     "output_type": "execute_result"
    }
   ],
   "source": [
    "xgb = X.groupby(labels).mean()\n",
    "xgb"
   ]
  },
  {
   "cell_type": "code",
   "execution_count": 19,
   "metadata": {},
   "outputs": [
    {
     "data": {
      "application/vnd.plotly.v1+json": {
       "config": {
        "plotlyServerURL": "https://plot.ly"
       },
       "data": [
        {
         "alignmentgroup": "True",
         "hovertemplate": "variable=ASSET<br>index=%{x}<br>value=%{y}<extra></extra>",
         "legendgroup": "ASSET",
         "marker": {
          "color": "#636efa",
          "pattern": {
           "shape": ""
          }
         },
         "name": "ASSET",
         "offsetgroup": "ASSET",
         "orientation": "v",
         "showlegend": true,
         "textposition": "auto",
         "type": "bar",
         "x": [
          0,
          1,
          2,
          3
         ],
         "xaxis": "x",
         "y": [
          46069.71329787234,
          366666.42386831273,
          805497.875,
          1528714.3859649124
         ],
         "yaxis": "y"
        },
        {
         "alignmentgroup": "True",
         "hovertemplate": "variable=NFIN<br>index=%{x}<br>value=%{y}<extra></extra>",
         "legendgroup": "NFIN",
         "marker": {
          "color": "#EF553B",
          "pattern": {
           "shape": ""
          }
         },
         "name": "NFIN",
         "offsetgroup": "NFIN",
         "orientation": "v",
         "showlegend": true,
         "textposition": "auto",
         "type": "bar",
         "x": [
          0,
          1,
          2,
          3
         ],
         "xaxis": "x",
         "y": [
          32624.531914893618,
          320237.34567901236,
          544584.8828125,
          1316484.2105263157
         ],
         "yaxis": "y"
        },
        {
         "alignmentgroup": "True",
         "hovertemplate": "variable=HOUSES<br>index=%{x}<br>value=%{y}<extra></extra>",
         "legendgroup": "HOUSES",
         "marker": {
          "color": "#00cc96",
          "pattern": {
           "shape": ""
          }
         },
         "name": "HOUSES",
         "offsetgroup": "HOUSES",
         "orientation": "v",
         "showlegend": true,
         "textposition": "auto",
         "type": "bar",
         "x": [
          0,
          1,
          2,
          3
         ],
         "xaxis": "x",
         "y": [
          15808.77659574468,
          258969.13580246913,
          247132.8125,
          832017.5438596491
         ],
         "yaxis": "y"
        },
        {
         "alignmentgroup": "True",
         "hovertemplate": "variable=NETWORTH<br>index=%{x}<br>value=%{y}<extra></extra>",
         "legendgroup": "NETWORTH",
         "marker": {
          "color": "#ab63fa",
          "pattern": {
           "shape": ""
          }
         },
         "name": "NETWORTH",
         "offsetgroup": "NETWORTH",
         "orientation": "v",
         "showlegend": true,
         "textposition": "auto",
         "type": "bar",
         "x": [
          0,
          1,
          2,
          3
         ],
         "xaxis": "x",
         "y": [
          14729.694680851064,
          131358.12139917695,
          697602.25,
          778612.9824561403
         ],
         "yaxis": "y"
        },
        {
         "alignmentgroup": "True",
         "hovertemplate": "variable=DEBT<br>index=%{x}<br>value=%{y}<extra></extra>",
         "legendgroup": "DEBT",
         "marker": {
          "color": "#FFA15A",
          "pattern": {
           "shape": ""
          }
         },
         "name": "DEBT",
         "offsetgroup": "DEBT",
         "orientation": "v",
         "showlegend": true,
         "textposition": "auto",
         "type": "bar",
         "x": [
          0,
          1,
          2,
          3
         ],
         "xaxis": "x",
         "y": [
          31340.018617021276,
          235308.30246913582,
          107895.625,
          750101.4035087719
         ],
         "yaxis": "y"
        }
       ],
       "layout": {
        "barmode": "group",
        "legend": {
         "title": {
          "text": "variable"
         },
         "tracegroupgap": 0
        },
        "template": {
         "data": {
          "bar": [
           {
            "error_x": {
             "color": "#2a3f5f"
            },
            "error_y": {
             "color": "#2a3f5f"
            },
            "marker": {
             "line": {
              "color": "#E5ECF6",
              "width": 0.5
             },
             "pattern": {
              "fillmode": "overlay",
              "size": 10,
              "solidity": 0.2
             }
            },
            "type": "bar"
           }
          ],
          "barpolar": [
           {
            "marker": {
             "line": {
              "color": "#E5ECF6",
              "width": 0.5
             },
             "pattern": {
              "fillmode": "overlay",
              "size": 10,
              "solidity": 0.2
             }
            },
            "type": "barpolar"
           }
          ],
          "carpet": [
           {
            "aaxis": {
             "endlinecolor": "#2a3f5f",
             "gridcolor": "white",
             "linecolor": "white",
             "minorgridcolor": "white",
             "startlinecolor": "#2a3f5f"
            },
            "baxis": {
             "endlinecolor": "#2a3f5f",
             "gridcolor": "white",
             "linecolor": "white",
             "minorgridcolor": "white",
             "startlinecolor": "#2a3f5f"
            },
            "type": "carpet"
           }
          ],
          "choropleth": [
           {
            "colorbar": {
             "outlinewidth": 0,
             "ticks": ""
            },
            "type": "choropleth"
           }
          ],
          "contour": [
           {
            "colorbar": {
             "outlinewidth": 0,
             "ticks": ""
            },
            "colorscale": [
             [
              0,
              "#0d0887"
             ],
             [
              0.1111111111111111,
              "#46039f"
             ],
             [
              0.2222222222222222,
              "#7201a8"
             ],
             [
              0.3333333333333333,
              "#9c179e"
             ],
             [
              0.4444444444444444,
              "#bd3786"
             ],
             [
              0.5555555555555556,
              "#d8576b"
             ],
             [
              0.6666666666666666,
              "#ed7953"
             ],
             [
              0.7777777777777778,
              "#fb9f3a"
             ],
             [
              0.8888888888888888,
              "#fdca26"
             ],
             [
              1,
              "#f0f921"
             ]
            ],
            "type": "contour"
           }
          ],
          "contourcarpet": [
           {
            "colorbar": {
             "outlinewidth": 0,
             "ticks": ""
            },
            "type": "contourcarpet"
           }
          ],
          "heatmap": [
           {
            "colorbar": {
             "outlinewidth": 0,
             "ticks": ""
            },
            "colorscale": [
             [
              0,
              "#0d0887"
             ],
             [
              0.1111111111111111,
              "#46039f"
             ],
             [
              0.2222222222222222,
              "#7201a8"
             ],
             [
              0.3333333333333333,
              "#9c179e"
             ],
             [
              0.4444444444444444,
              "#bd3786"
             ],
             [
              0.5555555555555556,
              "#d8576b"
             ],
             [
              0.6666666666666666,
              "#ed7953"
             ],
             [
              0.7777777777777778,
              "#fb9f3a"
             ],
             [
              0.8888888888888888,
              "#fdca26"
             ],
             [
              1,
              "#f0f921"
             ]
            ],
            "type": "heatmap"
           }
          ],
          "heatmapgl": [
           {
            "colorbar": {
             "outlinewidth": 0,
             "ticks": ""
            },
            "colorscale": [
             [
              0,
              "#0d0887"
             ],
             [
              0.1111111111111111,
              "#46039f"
             ],
             [
              0.2222222222222222,
              "#7201a8"
             ],
             [
              0.3333333333333333,
              "#9c179e"
             ],
             [
              0.4444444444444444,
              "#bd3786"
             ],
             [
              0.5555555555555556,
              "#d8576b"
             ],
             [
              0.6666666666666666,
              "#ed7953"
             ],
             [
              0.7777777777777778,
              "#fb9f3a"
             ],
             [
              0.8888888888888888,
              "#fdca26"
             ],
             [
              1,
              "#f0f921"
             ]
            ],
            "type": "heatmapgl"
           }
          ],
          "histogram": [
           {
            "marker": {
             "pattern": {
              "fillmode": "overlay",
              "size": 10,
              "solidity": 0.2
             }
            },
            "type": "histogram"
           }
          ],
          "histogram2d": [
           {
            "colorbar": {
             "outlinewidth": 0,
             "ticks": ""
            },
            "colorscale": [
             [
              0,
              "#0d0887"
             ],
             [
              0.1111111111111111,
              "#46039f"
             ],
             [
              0.2222222222222222,
              "#7201a8"
             ],
             [
              0.3333333333333333,
              "#9c179e"
             ],
             [
              0.4444444444444444,
              "#bd3786"
             ],
             [
              0.5555555555555556,
              "#d8576b"
             ],
             [
              0.6666666666666666,
              "#ed7953"
             ],
             [
              0.7777777777777778,
              "#fb9f3a"
             ],
             [
              0.8888888888888888,
              "#fdca26"
             ],
             [
              1,
              "#f0f921"
             ]
            ],
            "type": "histogram2d"
           }
          ],
          "histogram2dcontour": [
           {
            "colorbar": {
             "outlinewidth": 0,
             "ticks": ""
            },
            "colorscale": [
             [
              0,
              "#0d0887"
             ],
             [
              0.1111111111111111,
              "#46039f"
             ],
             [
              0.2222222222222222,
              "#7201a8"
             ],
             [
              0.3333333333333333,
              "#9c179e"
             ],
             [
              0.4444444444444444,
              "#bd3786"
             ],
             [
              0.5555555555555556,
              "#d8576b"
             ],
             [
              0.6666666666666666,
              "#ed7953"
             ],
             [
              0.7777777777777778,
              "#fb9f3a"
             ],
             [
              0.8888888888888888,
              "#fdca26"
             ],
             [
              1,
              "#f0f921"
             ]
            ],
            "type": "histogram2dcontour"
           }
          ],
          "mesh3d": [
           {
            "colorbar": {
             "outlinewidth": 0,
             "ticks": ""
            },
            "type": "mesh3d"
           }
          ],
          "parcoords": [
           {
            "line": {
             "colorbar": {
              "outlinewidth": 0,
              "ticks": ""
             }
            },
            "type": "parcoords"
           }
          ],
          "pie": [
           {
            "automargin": true,
            "type": "pie"
           }
          ],
          "scatter": [
           {
            "fillpattern": {
             "fillmode": "overlay",
             "size": 10,
             "solidity": 0.2
            },
            "type": "scatter"
           }
          ],
          "scatter3d": [
           {
            "line": {
             "colorbar": {
              "outlinewidth": 0,
              "ticks": ""
             }
            },
            "marker": {
             "colorbar": {
              "outlinewidth": 0,
              "ticks": ""
             }
            },
            "type": "scatter3d"
           }
          ],
          "scattercarpet": [
           {
            "marker": {
             "colorbar": {
              "outlinewidth": 0,
              "ticks": ""
             }
            },
            "type": "scattercarpet"
           }
          ],
          "scattergeo": [
           {
            "marker": {
             "colorbar": {
              "outlinewidth": 0,
              "ticks": ""
             }
            },
            "type": "scattergeo"
           }
          ],
          "scattergl": [
           {
            "marker": {
             "colorbar": {
              "outlinewidth": 0,
              "ticks": ""
             }
            },
            "type": "scattergl"
           }
          ],
          "scattermapbox": [
           {
            "marker": {
             "colorbar": {
              "outlinewidth": 0,
              "ticks": ""
             }
            },
            "type": "scattermapbox"
           }
          ],
          "scatterpolar": [
           {
            "marker": {
             "colorbar": {
              "outlinewidth": 0,
              "ticks": ""
             }
            },
            "type": "scatterpolar"
           }
          ],
          "scatterpolargl": [
           {
            "marker": {
             "colorbar": {
              "outlinewidth": 0,
              "ticks": ""
             }
            },
            "type": "scatterpolargl"
           }
          ],
          "scatterternary": [
           {
            "marker": {
             "colorbar": {
              "outlinewidth": 0,
              "ticks": ""
             }
            },
            "type": "scatterternary"
           }
          ],
          "surface": [
           {
            "colorbar": {
             "outlinewidth": 0,
             "ticks": ""
            },
            "colorscale": [
             [
              0,
              "#0d0887"
             ],
             [
              0.1111111111111111,
              "#46039f"
             ],
             [
              0.2222222222222222,
              "#7201a8"
             ],
             [
              0.3333333333333333,
              "#9c179e"
             ],
             [
              0.4444444444444444,
              "#bd3786"
             ],
             [
              0.5555555555555556,
              "#d8576b"
             ],
             [
              0.6666666666666666,
              "#ed7953"
             ],
             [
              0.7777777777777778,
              "#fb9f3a"
             ],
             [
              0.8888888888888888,
              "#fdca26"
             ],
             [
              1,
              "#f0f921"
             ]
            ],
            "type": "surface"
           }
          ],
          "table": [
           {
            "cells": {
             "fill": {
              "color": "#EBF0F8"
             },
             "line": {
              "color": "white"
             }
            },
            "header": {
             "fill": {
              "color": "#C8D4E3"
             },
             "line": {
              "color": "white"
             }
            },
            "type": "table"
           }
          ]
         },
         "layout": {
          "annotationdefaults": {
           "arrowcolor": "#2a3f5f",
           "arrowhead": 0,
           "arrowwidth": 1
          },
          "autotypenumbers": "strict",
          "coloraxis": {
           "colorbar": {
            "outlinewidth": 0,
            "ticks": ""
           }
          },
          "colorscale": {
           "diverging": [
            [
             0,
             "#8e0152"
            ],
            [
             0.1,
             "#c51b7d"
            ],
            [
             0.2,
             "#de77ae"
            ],
            [
             0.3,
             "#f1b6da"
            ],
            [
             0.4,
             "#fde0ef"
            ],
            [
             0.5,
             "#f7f7f7"
            ],
            [
             0.6,
             "#e6f5d0"
            ],
            [
             0.7,
             "#b8e186"
            ],
            [
             0.8,
             "#7fbc41"
            ],
            [
             0.9,
             "#4d9221"
            ],
            [
             1,
             "#276419"
            ]
           ],
           "sequential": [
            [
             0,
             "#0d0887"
            ],
            [
             0.1111111111111111,
             "#46039f"
            ],
            [
             0.2222222222222222,
             "#7201a8"
            ],
            [
             0.3333333333333333,
             "#9c179e"
            ],
            [
             0.4444444444444444,
             "#bd3786"
            ],
            [
             0.5555555555555556,
             "#d8576b"
            ],
            [
             0.6666666666666666,
             "#ed7953"
            ],
            [
             0.7777777777777778,
             "#fb9f3a"
            ],
            [
             0.8888888888888888,
             "#fdca26"
            ],
            [
             1,
             "#f0f921"
            ]
           ],
           "sequentialminus": [
            [
             0,
             "#0d0887"
            ],
            [
             0.1111111111111111,
             "#46039f"
            ],
            [
             0.2222222222222222,
             "#7201a8"
            ],
            [
             0.3333333333333333,
             "#9c179e"
            ],
            [
             0.4444444444444444,
             "#bd3786"
            ],
            [
             0.5555555555555556,
             "#d8576b"
            ],
            [
             0.6666666666666666,
             "#ed7953"
            ],
            [
             0.7777777777777778,
             "#fb9f3a"
            ],
            [
             0.8888888888888888,
             "#fdca26"
            ],
            [
             1,
             "#f0f921"
            ]
           ]
          },
          "colorway": [
           "#636efa",
           "#EF553B",
           "#00cc96",
           "#ab63fa",
           "#FFA15A",
           "#19d3f3",
           "#FF6692",
           "#B6E880",
           "#FF97FF",
           "#FECB52"
          ],
          "font": {
           "color": "#2a3f5f"
          },
          "geo": {
           "bgcolor": "white",
           "lakecolor": "white",
           "landcolor": "#E5ECF6",
           "showlakes": true,
           "showland": true,
           "subunitcolor": "white"
          },
          "hoverlabel": {
           "align": "left"
          },
          "hovermode": "closest",
          "mapbox": {
           "style": "light"
          },
          "paper_bgcolor": "white",
          "plot_bgcolor": "#E5ECF6",
          "polar": {
           "angularaxis": {
            "gridcolor": "white",
            "linecolor": "white",
            "ticks": ""
           },
           "bgcolor": "#E5ECF6",
           "radialaxis": {
            "gridcolor": "white",
            "linecolor": "white",
            "ticks": ""
           }
          },
          "scene": {
           "xaxis": {
            "backgroundcolor": "#E5ECF6",
            "gridcolor": "white",
            "gridwidth": 2,
            "linecolor": "white",
            "showbackground": true,
            "ticks": "",
            "zerolinecolor": "white"
           },
           "yaxis": {
            "backgroundcolor": "#E5ECF6",
            "gridcolor": "white",
            "gridwidth": 2,
            "linecolor": "white",
            "showbackground": true,
            "ticks": "",
            "zerolinecolor": "white"
           },
           "zaxis": {
            "backgroundcolor": "#E5ECF6",
            "gridcolor": "white",
            "gridwidth": 2,
            "linecolor": "white",
            "showbackground": true,
            "ticks": "",
            "zerolinecolor": "white"
           }
          },
          "shapedefaults": {
           "line": {
            "color": "#2a3f5f"
           }
          },
          "ternary": {
           "aaxis": {
            "gridcolor": "white",
            "linecolor": "white",
            "ticks": ""
           },
           "baxis": {
            "gridcolor": "white",
            "linecolor": "white",
            "ticks": ""
           },
           "bgcolor": "#E5ECF6",
           "caxis": {
            "gridcolor": "white",
            "linecolor": "white",
            "ticks": ""
           }
          },
          "title": {
           "x": 0.05
          },
          "xaxis": {
           "automargin": true,
           "gridcolor": "white",
           "linecolor": "white",
           "ticks": "",
           "title": {
            "standoff": 15
           },
           "zerolinecolor": "white",
           "zerolinewidth": 2
          },
          "yaxis": {
           "automargin": true,
           "gridcolor": "white",
           "linecolor": "white",
           "ticks": "",
           "title": {
            "standoff": 15
           },
           "zerolinecolor": "white",
           "zerolinewidth": 2
          }
         }
        },
        "title": {
         "text": "Mean Household Finances by Cluster"
        },
        "xaxis": {
         "anchor": "y",
         "domain": [
          0,
          1
         ],
         "title": {
          "text": "Cluster"
         }
        },
        "yaxis": {
         "anchor": "x",
         "domain": [
          0,
          1
         ],
         "title": {
          "text": "Value [$]"
         }
        }
       }
      }
     },
     "metadata": {},
     "output_type": "display_data"
    }
   ],
   "source": [
    "# Create side-by-side bar chart of `xgb`\n",
    "fig = px.bar(\n",
    "    xgb,\n",
    "    barmode = 'group',\n",
    "    title = \"Mean Household Finances by Cluster\"\n",
    ")\n",
    "fig.update_layout(xaxis_title = \"Cluster\", yaxis_title=\"Value [$]\")\n",
    "fig.show()"
   ]
  },
  {
   "cell_type": "markdown",
   "metadata": {},
   "source": [
    "Since thenclusters are based partially on `NETWORTH`, which means that the households in the 0 cluster have the smallest net worth, and the households in the 2 cluster have the highest. Based on that, there are some interesting things to unpack here.\n",
    "\n",
    "First, take a look at the `DEBT` variable. You might think that it would scale as net worth increases, but it doesn't. The lowest amount of debt is carried by the households in cluster 2, even though the value of their houses (shown in green) is roughly the same. You can't *really* tell from this data what's going on, but one possibility might be that the people in cluster 2 have enough money to pay down their debts, but not quite enough money to leverage what they have into additional debts. The people in cluster 3, by contrast, might not need to worry about carrying debt because their net worth is so high. \n",
    "\n",
    "Finally, it would be interesting to take a look at the relationship between `DEBT` and `HOUSES`. The value of the debt for the people in cluster 0 is higher than the value of their houses, suggesting that most of the debt being carried by those people is tied up in their mortgages — if they own a home at all. Contrast that with the other three clusters: the value of everyone else's debt is lower than the value of their homes.\n"
   ]
  },
  {
   "cell_type": "code",
   "execution_count": 20,
   "metadata": {},
   "outputs": [
    {
     "name": "stdout",
     "output_type": "stream",
     "text": [
      "X_pca shape: (2551, 2)\n"
     ]
    },
    {
     "data": {
      "text/html": [
       "<div>\n",
       "<style scoped>\n",
       "    .dataframe tbody tr th:only-of-type {\n",
       "        vertical-align: middle;\n",
       "    }\n",
       "\n",
       "    .dataframe tbody tr th {\n",
       "        vertical-align: top;\n",
       "    }\n",
       "\n",
       "    .dataframe thead th {\n",
       "        text-align: right;\n",
       "    }\n",
       "</style>\n",
       "<table border=\"1\" class=\"dataframe\">\n",
       "  <thead>\n",
       "    <tr style=\"text-align: right;\">\n",
       "      <th></th>\n",
       "      <th>PC1</th>\n",
       "      <th>PC2</th>\n",
       "    </tr>\n",
       "  </thead>\n",
       "  <tbody>\n",
       "    <tr>\n",
       "      <th>0</th>\n",
       "      <td>-197719.042163</td>\n",
       "      <td>10944.997437</td>\n",
       "    </tr>\n",
       "    <tr>\n",
       "      <th>1</th>\n",
       "      <td>-199622.184630</td>\n",
       "      <td>12895.487290</td>\n",
       "    </tr>\n",
       "    <tr>\n",
       "      <th>2</th>\n",
       "      <td>-199626.285528</td>\n",
       "      <td>14101.193275</td>\n",
       "    </tr>\n",
       "    <tr>\n",
       "      <th>3</th>\n",
       "      <td>-199611.697167</td>\n",
       "      <td>12887.753571</td>\n",
       "    </tr>\n",
       "    <tr>\n",
       "      <th>4</th>\n",
       "      <td>-199297.207027</td>\n",
       "      <td>11562.428277</td>\n",
       "    </tr>\n",
       "  </tbody>\n",
       "</table>\n",
       "</div>"
      ],
      "text/plain": [
       "             PC1           PC2\n",
       "0 -197719.042163  10944.997437\n",
       "1 -199622.184630  12895.487290\n",
       "2 -199626.285528  14101.193275\n",
       "3 -199611.697167  12887.753571\n",
       "4 -199297.207027  11562.428277"
      ]
     },
     "execution_count": 20,
     "metadata": {},
     "output_type": "execute_result"
    }
   ],
   "source": [
    "# Instantiate transformer\n",
    "pca = PCA(n_components=2, random_state=42)\n",
    "\n",
    "# Transform `X`\n",
    "X_t = pca.fit_transform(X)\n",
    "\n",
    "# Put `X_t` into DataFrame\n",
    "X_pca = pd.DataFrame(X_t, columns=['PC1','PC2'])\n",
    "\n",
    "print(\"X_pca shape:\", X_pca.shape)\n",
    "X_pca.head()"
   ]
  },
  {
   "cell_type": "code",
   "execution_count": 21,
   "metadata": {},
   "outputs": [
    {
     "data": {
      "text/plain": [
       "0    1880\n",
       "1     486\n",
       "2     128\n",
       "3      57\n",
       "dtype: int64"
      ]
     },
     "execution_count": 21,
     "metadata": {},
     "output_type": "execute_result"
    }
   ],
   "source": [
    "labelss = pd.DataFrame(labels).value_counts()\n",
    "labelss"
   ]
  },
  {
   "cell_type": "code",
   "execution_count": 22,
   "metadata": {},
   "outputs": [
    {
     "data": {
      "application/vnd.plotly.v1+json": {
       "config": {
        "plotlyServerURL": "https://plot.ly"
       },
       "data": [
        {
         "hovertemplate": "color=0<br>PC1=%{x}<br>PC2=%{y}<extra></extra>",
         "legendgroup": "0",
         "marker": {
          "color": "#636efa",
          "symbol": "circle"
         },
         "mode": "markers",
         "name": "0",
         "showlegend": true,
         "type": "scattergl",
         "x": [
          -197719.04216262017,
          -199622.18462963903,
          -199626.28552798275,
          -199611.69716655565,
          -199297.2070268907,
          7823.923830491001,
          7825.647878969549,
          7820.404147430124,
          7825.647878969549,
          6242.2392831478355,
          -229619.4493952752,
          -229791.85424313016,
          -231197.6142595575,
          -231197.6142595575,
          -229791.85424313016,
          -276709.3697412037,
          -276709.3697412037,
          -276709.3697412037,
          -276688.39481504605,
          -276709.3697412037,
          -230892.78687642078,
          -232313.13525427482,
          -230892.78687642078,
          -232313.13525427482,
          -230734.9703899925,
          72300.63848659497,
          78414.82946156582,
          72227.22624504301,
          73140.14007314859,
          74127.18111079383,
          -221556.7281333859,
          -221556.7281333859,
          -221556.7281333859,
          -221556.7281333859,
          -221556.7281333859,
          -267564.7938603295,
          -267722.61034675775,
          -267722.61034675775,
          -267722.61034675775,
          -267722.61034675775,
          -16743.828097872916,
          -16916.232945727887,
          -18311.50549907636,
          -16733.340634794065,
          -16733.340634794065,
          54525.35753878514,
          53686.36049247695,
          53791.2351232655,
          54892.923286790436,
          55049.73069272775,
          -273931.87153780524,
          -275912.8032396588,
          -274380.1241422281,
          -275914.5272881374,
          -273988.62196538976,
          -277713.2943608471,
          -277713.2943608471,
          -277713.2943608471,
          -277713.2943608471,
          -277713.2943608471,
          -253784.8449269065,
          -253784.8449269065,
          -255363.0097911888,
          -253784.8449269065,
          -253784.8449269065,
          -265662.8283323222,
          -267398.8096830327,
          -268819.1580608868,
          -267398.8096830327,
          -263295.5810358987,
          -56146.72523188449,
          -56104.77537956909,
          -56157.21269496334,
          -56083.80045341138,
          -56451.36620141664,
          -261427.98069855353,
          -261427.98069855353,
          -261427.98069855353,
          -261427.98069855353,
          -261427.98069855353,
          3318.4309264976882,
          4738.779304351757,
          1582.4495757871464,
          3318.4309264976882,
          4896.595790779976,
          -243314.05467468515,
          -240624.95699629653,
          -245186.26516334526,
          -245805.02548499758,
          -246726.79328750246,
          -163292.918775527,
          -163135.10228909872,
          -163135.10228909872,
          -163292.918775527,
          -163135.10228909872,
          -98885.33424937863,
          -117312.96173587309,
          -100534.65875873482,
          -72422.55229434908,
          -89573.24974285411,
          -261314.4590338689,
          -261156.64254744072,
          -261329.04739529567,
          -261156.64254744072,
          -261329.04739529567,
          -263090.12604749814,
          -263121.15892011207,
          -263091.8500959767,
          -263060.8172233628,
          -263002.1995750921,
          -267779.0839841155,
          -267779.0839841155,
          -267621.26749768737,
          -267621.26749768737,
          -267621.26749768737,
          -273761.08214310044,
          -273766.3258746398,
          -273766.3258746398,
          -273766.3258746398,
          -273761.08214310044,
          37352.115398082016,
          4646.7470283700595,
          8470.73196133725,
          34191.23572617034,
          48889.0233766311,
          -260631.53344607202,
          -260631.53344607202,
          -261155.9066000146,
          -260002.28566134092,
          -260002.28566134092,
          -252797.82476184636,
          -259110.48421897553,
          -259110.48421897553,
          -255796.33800398267,
          -252482.19178898988,
          -255764.95672721017,
          -255912.2857505596,
          -255758.2037055035,
          -255758.2037055035,
          -255912.2857505596,
          -266764.26994799235,
          -266764.26994799235,
          -266764.26994799235,
          -266764.26994799235,
          -266764.26994799235,
          -224674.29007414464,
          -224674.29007414464,
          -224674.29007414464,
          -224674.29007414464,
          -224832.10656057284,
          -274821.0915949813,
          -274821.0915949813,
          -274821.0915949813,
          -274821.0915949813,
          -274821.0915949813,
          -127.25488154570866,
          -127.25488154570866,
          -442.8878544021133,
          -123707.05376819838,
          -123707.05376819838,
          -123707.05376819838,
          -123707.05376819838,
          -123707.05376819838,
          -256920.87116342472,
          -256863.82840943715,
          -256874.315872516,
          -256832.36602020057,
          -257156.20078975277,
          14387.941515302386,
          14387.941515302386,
          14387.941515302386,
          14398.428978381235,
          14398.428978381235,
          -269345.17604379746,
          -267626.4351778724,
          -266818.38821246725,
          -269991.9584258173,
          -268887.2430208197,
          -157261.98117714317,
          -261514.62649603307,
          -249674.78705013826,
          -250340.82450572492,
          -232045.45384176107,
          -188143.93937541213,
          -181688.97953157092,
          -183173.10663220566,
          -186730.10558440525,
          -164294.68505489468,
          -259042.7718048595,
          -257443.63201441945,
          -257233.8827528425,
          -257129.0081220539,
          -257412.16962518296,
          -207391.08850852383,
          -208969.25337280612,
          -208969.25337280612,
          -209127.06985923435,
          -207391.08850852383,
          -260270.04827128013,
          -260427.8647577084,
          -260270.04827128013,
          -260410.62427292287,
          -260445.10524249385,
          -176185.78410951028,
          -175696.6750417111,
          -176243.3194397675,
          -169165.8574014044,
          -175169.78007959138,
          -255308.13167322808,
          -255150.31518679982,
          -255308.13167322808,
          -255150.31518679982,
          -255150.31518679982,
          -273915.53064513206,
          -273884.0682558956,
          -273905.04318205325,
          -273915.53064513206,
          -273905.04318205325,
          -269202.4355953366,
          -269370.7395448438,
          -269212.9230584154,
          -269370.7395448438,
          -269370.7395448438,
          -265887.80884820403,
          -265887.80884820403,
          -265887.80884820403,
          -265992.6834789926,
          -265729.99236177583,
          -273407.3998862558,
          -273407.3998862558,
          -273391.8834499488,
          -273459.12134061224,
          -273426.3644195198,
          -31198.11605796424,
          -31370.520905819212,
          -31370.520905819212,
          -29792.35604153692,
          -29792.35604153692,
          -223482.58391096408,
          -221385.0912951937,
          -220336.3449873085,
          -220336.3449873085,
          -219287.59867942327,
          5222.529978046579,
          5119.379395736607,
          5117.655347258055,
          5119.379395736607,
          6024.1826106326835,
          -5246.113801064612,
          -9822.791907483279,
          -28763.422402229517,
          -224855.52910867866,
          -223277.36424439645,
          -223277.36424439645,
          -223277.36424439645,
          -223435.1807308247,
          -143074.40142616027,
          -142830.73191986667,
          -140991.0963396508,
          -145591.66734102622,
          -146470.06106786546,
          -69199.3834624932,
          -86049.95330352303,
          -89807.34238973715,
          -106657.91223076693,
          -91670.30573822591,
          -169846.7741878617,
          -170348.86145456435,
          -174024.5189346171,
          -169829.5337030762,
          -169829.5337030762,
          -273572.30780768115,
          -273572.30780768115,
          -273572.30780768115,
          -273572.30780768115,
          -273572.30780768115,
          -208721.01132975557,
          -210471.58104189284,
          -210471.58104189284,
          -210471.58104189284,
          -210471.58104189284,
          -251452.10440367155,
          -251452.10440367155,
          -251462.59186675033,
          -251462.59186675033,
          -251452.10440367155,
          -143124.04726334792,
          -133756.7932055098,
          -139336.38434207794,
          -140175.4060665158,
          -135888.28738497852,
          -364367.67176242237,
          -356998.0351207534,
          -364712.4848240398,
          -362776.3783826284,
          -249573.20652064466,
          -253360.8021949221,
          -250046.65597992932,
          -253834.25165420686,
          -252238.8463051391,
          -246710.16098797246,
          -246710.16098797246,
          -246710.16098797246,
          -246710.16098797246,
          -246710.16098797246,
          -224196.07191767072,
          -224196.07191767072,
          -224196.07191767072,
          -224196.07191767072,
          -224196.07191767072,
          -259780.74493560218,
          -260110.96626988545,
          -259953.1497834572,
          -259780.74493560218,
          -259938.56142203044,
          -300555.96338452544,
          -300602.169271372,
          -300839.18107226345,
          -300184.3349768175,
          -297948.2510382462,
          -196006.73375460546,
          -195167.73670829728,
          -196006.73375460546,
          -196478.6695931538,
          -195167.73670829728,
          -273840.2452009062,
          -273840.2452009062,
          -273840.2452009062,
          -273840.2452009062,
          -273849.0086155064,
          -235365.67894070112,
          -236943.8438049834,
          -236942.11975650484,
          -234316.93263281582,
          -235893.37344861962,
          81258.8291685115,
          81258.8291685115,
          81258.8291685115,
          81258.8291685115,
          82836.99403279378,
          -253934.07579360312,
          -256923.50731132142,
          -253987.0176492428,
          -254091.89228003132,
          -256660.81619410464,
          66479.28445788444,
          66479.28445788444,
          66479.28445788444,
          66479.28445788444,
          66479.28445788444,
          -250507.26446423837,
          -250120.0183219313,
          -249172.75116028602,
          -248818.76647931672,
          -250725.55894458535,
          -273158.1305841581,
          -273158.1305841581,
          -273147.64312107925,
          -273147.64312107925,
          -273147.64312107925,
          -272838.1853921614,
          -272838.1853921614,
          -272838.1853921614,
          -272827.6979290825,
          -272838.1853921614,
          -268651.61867231684,
          -268651.61867231684,
          -265968.73840303696,
          -267389.086780891,
          -268651.61867231684,
          -125652.51373165079,
          -125652.51373165079,
          -125652.51373165079,
          -125652.51373165079,
          -125652.51373165079,
          -196451.407673472,
          -193768.52740419217,
          -193753.93904276539,
          -194385.20498847825,
          -192821.62848562276,
          -40012.53720902388,
          -40054.487061339285,
          -39876.2001889988,
          -40023.02467210272,
          -40002.04974594502,
          -242312.233000128,
          -242312.233000128,
          -242312.233000128,
          -242310.50895164945,
          -242312.233000128,
          -246253.8751452848,
          -244680.95401254194,
          -246259.11887682418,
          -246253.8751452848,
          -244680.95401254194,
          -254738.8074089121,
          -253160.64254462984,
          -254738.8074089121,
          -253160.64254462984,
          -253160.64254462984,
          -43731.77135873391,
          25903.597005829677,
          -46672.85564111018,
          -43742.9784143044,
          16771.823308673578,
          -177992.64573441772,
          -205768.34734578608,
          -195089.7681243062,
          -182449.86084862112,
          -179398.40575084504,
          -271551.457472545,
          -272960.10637781234,
          -269432.7151546753,
          -269994.43272234005,
          -270880.85605677805,
          -250681.30019476762,
          -250645.09517671814,
          -250715.7811643387,
          -250648.54327367523,
          -252226.7081379575,
          -112433.1353466526,
          -113122.7547380725,
          -113295.15958592745,
          -112433.1353466526,
          -112433.1353466526,
          -226041.57107886043,
          -226046.81481039984,
          -226146.4457096489,
          -226046.81481039984,
          -226151.68944118833,
          -117944.18777320476,
          -132504.80377770963,
          -126900.67546663963,
          -126049.36679478666,
          -132768.34912633043,
          -207080.10514645954,
          -207080.10514645954,
          -207080.10514645954,
          -205366.60801207388,
          -205344.12379574895,
          -187123.38699693576,
          -187441.74533067353,
          -187175.82431233002,
          -187133.87446001463,
          -187357.84562604272,
          -238709.25175113152,
          -238707.52770265294,
          -238707.52770265294,
          -237660.50544324634,
          -239757.9980590168,
          -237554.50416695783,
          -237554.50416695783,
          -237554.50416695783,
          -237554.50416695783,
          -237554.50416695783,
          -273471.32275444805,
          -273471.32275444805,
          -273471.32275444805,
          -273473.0468029267,
          -273473.0468029267,
          -259800.91695005394,
          -259644.82451210427,
          -259800.91695005394,
          -259802.64099853253,
          -259802.64099853253,
          -248288.67687249416,
          -248409.36026599264,
          -248584.41723720642,
          -248512.80317470562,
          -248429.25287413687,
          -98735.86839088361,
          -98735.86839088361,
          -97157.70352660131,
          -100314.03325516588,
          -98735.86839088361,
          -144361.16915400856,
          -145922.09353350534,
          -145939.33401829083,
          -144028.29569636658,
          -146570.59996400378,
          -272685.478884572,
          -272685.478884572,
          -272685.478884572,
          -272685.478884572,
          -272685.478884572,
          95465.87986832151,
          99264.03025267033,
          96839.87491962187,
          -266784.3207888642,
          -267099.95376172074,
          -266784.3207888642,
          -266942.1372752924,
          -266942.1372752924,
          -260589.33094738965,
          -258666.35638739733,
          -259916.9520407552,
          -259779.02816247122,
          -258390.5086308294,
          -254014.35357871483,
          -259071.3773383324,
          -251818.85832875554,
          -255755.507074861,
          -256230.68058262425,
          -255914.4269535769,
          -256978.6896977691,
          -255791.16302282343,
          -255930.01497598764,
          -258041.22839348266,
          -268747.0738333306,
          -267803.2021562339,
          -267908.0767870224,
          -267803.2021562339,
          -268379.50808532536,
          -261446.59541997637,
          -260926.72875305274,
          -260857.76681391074,
          -260978.4502074092,
          -262084.4933570398,
          -273509.38302920794,
          -273509.38302920794,
          -273509.38302920794,
          -273509.38302920794,
          -273509.38302920794,
          -275051.38835045724,
          -273373.3942578408,
          -274159.4494485094,
          -275890.3853967655,
          -273635.07629456674,
          -190982.96505288922,
          -190982.96505288922,
          -190982.96505288922,
          -190982.96505288922,
          -190982.96505288922,
          -206015.21792118123,
          -204104.45487274646,
          -203546.12323544198,
          -204422.46469547227,
          -204768.9909409355,
          -283962.1577464231,
          -283962.1577464231,
          -283963.8817949016,
          -283963.8817949016,
          -283963.8817949016,
          -273792.7247137691,
          -273787.48098222964,
          -273787.48098222964,
          -273792.7247137691,
          -273787.48098222964,
          -281236.9986176947,
          -281236.9986176947,
          -281236.9986176947,
          -281236.9986176947,
          -281236.9986176947,
          -258370.54803440842,
          -258188.52672069575,
          -258470.25650174922,
          -258171.2862359103,
          -258421.5536277272,
          -180702.73867589203,
          -182280.90354017433,
          -182280.90354017433,
          -180702.73867589203,
          -182280.90354017433,
          -248665.78450662433,
          -249010.59420233424,
          -249769.17553289607,
          -249958.8208655366,
          -249010.59420233424,
          -274718.88591708743,
          -275753.31500421726,
          -274374.07622137753,
          -275925.7198520722,
          -275753.31500421726,
          -259420.16181703433,
          -259414.91808549486,
          -259420.16181703433,
          -259414.91808549486,
          -259414.91808549486,
          -257830.62572632395,
          -252901.5180792633,
          -247133.41338589462,
          -249440.65526324217,
          -247552.9119090488,
          -247036.38650069374,
          -247036.38650069374,
          -247194.20298712194,
          -247036.38650069374,
          -247036.38650069374,
          -80557.23933892966,
          -80489.70912186321,
          -96595.19253423839,
          -90037.32113948313,
          -99757.67372201366,
          -251547.28731919912,
          -253305.69237105656,
          -253419.6227428484,
          -253527.72816781374,
          -253540.65554040894,
          -230589.38452830582,
          -230993.28560954233,
          -233363.95680560835,
          -232514.47229622133,
          -231690.56815158526,
          -247410.08726159885,
          -247237.68241374393,
          -247237.68241374393,
          -247237.68241374393,
          -247237.68241374393,
          -262470.36219286453,
          -262491.3371190222,
          -262649.1536054504,
          -262459.8747297856,
          -262628.1786792928,
          -273740.1072169427,
          -273435.97078765597,
          -273509.38302920794,
          -273467.43317689246,
          -273666.69497539074,
          -185168.37517246703,
          -185273.24980325554,
          -185273.24980325554,
          -185273.24980325554,
          -185273.24980325554,
          -149748.23869509026,
          -147874.7878835226,
          -147874.7878835226,
          -147874.7878835226,
          -147874.7878835226,
          -219457.37590250795,
          -227936.0026965806,
          -220486.66090497182,
          -222003.41461151734,
          -225484.85569552635,
          -47323.72442195512,
          -51461.440770474444,
          -42841.19837772585,
          -43875.62746485568,
          -41461.959594886066,
          -249812.37374061433,
          -259217.32118526864,
          -244867.12080569958,
          -248653.70739948616,
          -258217.48041105954,
          -275993.3193341512,
          -275984.6990917585,
          -275991.5952856727,
          -275998.4914795869,
          -275984.6990917585,
          17076.85827297282,
          15326.288560835545,
          15498.693408690515,
          15326.288560835545,
          15326.288560835545,
          -272049.04257952364,
          -272049.04257952364,
          -272049.04257952364,
          -272049.04257952364,
          -272049.04257952364,
          -206571.3988688088,
          -206729.2153552371,
          -206729.2153552371,
          -206571.3988688088,
          -206729.2153552371,
          -275918.4454605842,
          -275918.4454605842,
          -275918.4454605842,
          -275918.4454605842,
          -275918.4454605842,
          -38513.17149805281,
          -36777.190147342284,
          -40105.92472376185,
          -36917.76614898502,
          -38355.35501162459,
          3802.222222795301,
          4143.064772857999,
          6764.930542571048,
          5024.011671481587,
          4541.588369854381,
          -240086.4863849589,
          -239819.7589457786,
          -241240.10732363258,
          -239871.69172092737,
          -240396.06487487,
          -155902.10705601744,
          -120148.72514980428,
          -112814.46243844052,
          -107192.38595525906,
          -95953.40513433184,
          -275395.7784091564,
          -275411.43801767094,
          -275394.0543606779,
          -275394.0543606779,
          -275397.502457635,
          -273037.4471906596,
          -273037.4471906596,
          -273037.4471906596,
          -273037.4471906596,
          -273037.4471906596,
          -265577.1005168088,
          -268728.58317200385,
          -265555.62105040567,
          -268261.8910649949,
          -266741.20891856134,
          -273750.5946800216,
          -273750.5946800216,
          -273750.5946800216,
          -273740.1072169427,
          -273750.5946800216,
          -249942.28923600752,
          -255939.31572028028,
          -261305.07625883998,
          -254992.41680171085,
          -253414.25193742855,
          -273131.8343583693,
          -273121.34689529036,
          -273152.809284527,
          -273089.8845060539,
          -273068.90957989614,
          20560.87076841789,
          -53501.593494436485,
          -95941.61389139359,
          -9412.41947193506,
          -26512.150453911887,
          -126742.2909815587,
          -126759.53146634423,
          -126931.93631419918,
          -127431.91037297861,
          -128837.6703894059,
          -168066.92340935697,
          -171509.70938792452,
          -173588.77638586645,
          -170577.39883078192,
          -172928.33371730006,
          -266896.0884539531,
          -267053.9049403813,
          -267053.9049403813,
          -266896.0884539531,
          -266896.0884539531,
          -263262.97484880866,
          -265788.03863166034,
          -264916.7336435834,
          -265945.85511808854,
          -268313.1024145121,
          -91298.32080485126,
          -86668.70084279291,
          -88194.93293192636,
          -86880.46826535175,
          -83512.37111422831,
          -254414.09271163767,
          -254414.09271163767,
          -254414.09271163767,
          -254414.09271163767,
          -254414.09271163767,
          -275870.8059269423,
          -275975.68055773084,
          -275975.68055773084,
          -275975.68055773084,
          -275975.68055773084,
          -279648.4273349205,
          -279648.4273349205,
          -279648.4273349205,
          -279648.4273349205,
          -279648.4273349205,
          -216023.33065380534,
          -215165.4238093326,
          -215528.4017281175,
          -214986.63239674666,
          -214691.9743500479,
          -267220.2211994637,
          -267209.7337363849,
          -267230.7086625425,
          -267230.7086625425,
          -267230.7086625425,
          -178035.40873689295,
          -178035.40873689295,
          -178035.40873689295,
          -178035.40873689295,
          -178035.40873689295,
          -264201.7024458435,
          -264306.57707663206,
          -264516.3263382091,
          -264044.8950399062,
          -264988.76671700284,
          -97682.21260891063,
          -97769.84675491364,
          -97682.21260891063,
          -99348.01161919597,
          -99365.25210398146,
          -166093.35547248533,
          -166103.8429355642,
          -166093.35547248533,
          -166103.8429355642,
          -166103.8429355642,
          -222274.00485082396,
          -222274.00485082396,
          -223852.16971510623,
          -223322.75115870917,
          -222274.00485082396,
          -13585.075564920688,
          -13585.075564920688,
          -13585.075564920688,
          -13585.075564920688,
          -13585.075564920688,
          -3495.676795301885,
          -5073.841659584188,
          -3512.917280087373,
          -5091.082144369702,
          -3495.676795301885,
          69385.536073029,
          69385.536073029,
          69396.02353610785,
          69700.15996539456,
          69396.02353610785,
          -275892.74540001433,
          -270375.4748053049,
          -273626.5883597491,
          -221468.19548699938,
          -273731.4629905377,
          -278831.7055853901,
          -278831.7055853901,
          -278831.7055853901,
          -278821.2181223113,
          -278663.401635883,
          -270159.4927223807,
          -270149.0052593018,
          -270421.67929935193,
          -270557.51177913154,
          -113298.50745198806,
          -119532.6153082826,
          -122846.76152327543,
          -124109.29341470129,
          -125676.97081590471,
          -127107.80665683761,
          -292358.8916223894,
          -292765.17732158327,
          -292323.1902515351,
          -292895.2658601471,
          -292954.456197248,
          -266093.52178781753,
          -266093.52178781753,
          -266093.52178781753,
          -265935.70530138933,
          -266093.52178781753,
          -207619.0644192016,
          -207776.88090562983,
          -207617.34037072308,
          -207776.88090562983,
          -207617.34037072308,
          -260309.36469602695,
          -262030.62558402886,
          -261932.35482075153,
          -260293.84825972002,
          -260288.67611428435,
          -99645.35205581806,
          -99561.45235118724,
          -99477.55264655642,
          -99508.51049554753,
          -99928.51355894704,
          -2587.9512355409624,
          -2587.9512355409624,
          -2587.9512355409624,
          -2587.9512355409624,
          -2587.9512355409624,
          68618.57590033641,
          70552.46532149745,
          69122.10381961573,
          70113.61310563462,
          80707.79288252724,
          -262080.89282494152,
          -262253.29767279647,
          -262253.29767279647,
          -262253.29767279647,
          -262253.29767279647,
          -279449.44589884946,
          -279296.0055842586,
          -279278.76509947306,
          -279278.76509947306,
          -279278.76509947306,
          -227591.14462633466,
          -221685.99370742525,
          -225528.9765570067,
          -229167.58544213834,
          -225528.9765570067,
          -133037.24371113567,
          -128935.52868473798,
          -131658.3406453515,
          -121443.55160654943,
          -123009.60750494104,
          -257964.2812552517,
          -258136.68610310677,
          -256534.3129740209,
          -256361.90812616594,
          -256539.55670556036,
          -257196.04836184697,
          -257196.04836184697,
          -258774.21322612933,
          -258774.21322612933,
          -257196.04836184697,
          -225467.49391102183,
          -225295.0890631668,
          -222311.16418245723,
          -223899.81650981837,
          -222321.65164553607,
          -275405.3317010443,
          -275508.3450931346,
          -275335.65390086453,
          -275557.4774837793,
          -275166.98349438177,
          -258975.71202221123,
          -262132.04175077588,
          -260361.57943049434,
          -259133.52850863957,
          -261273.99737949274,
          -255942.8823721305,
          -254579.5121718797,
          -255103.88532582228,
          -255103.88532582228,
          -256152.63163370758,
          -192489.57150055395,
          -192489.57150055395,
          -179984.93597979407,
          -176828.60625122947,
          -192610.25489405243,
          -266538.03155909287,
          -266475.1067806197,
          -266411.6774619012,
          -266906.1018473436,
          -266938.06877682556,
          -249705.83421155397,
          -249548.01772512568,
          -249705.83421155397,
          -249705.83421155397,
          -249548.01772512568,
          -152341.41120581698,
          -152341.41120581698,
          -152341.41120581698,
          -152341.41120581698,
          -152341.41120581698,
          -234688.2838158186,
          -236249.20819531544,
          -234688.2838158186,
          -236266.44868010088,
          -234688.2838158186,
          -184584.19413900626,
          -164637.83267936917,
          -163553.29888418943,
          -181595.7717017788,
          -170033.86563265577,
          43811.2362379519,
          68564.62038532743,
          50917.06792668921,
          64104.57127283026,
          35209.56698486996,
          -272411.12266995857,
          -272411.12266995857,
          -272411.12266995857,
          -272411.12266995857,
          -272411.12266995857,
          -263769.9445287328,
          -262423.81481326756,
          -263881.572181228,
          -262494.208474485,
          -263287.52122710564,
          -276320.29791028175,
          -276330.7853733607,
          -276330.7853733607,
          -276330.7853733607,
          -276320.29791028175,
          -251343.8801943857,
          -249765.7153301034,
          -249765.7153301034,
          -249593.31048224843,
          -251343.8801943857,
          91893.99440280722,
          91736.17791637902,
          91578.36142995078,
          91578.36142995078,
          91736.17791637902,
          -268714.63956597465,
          -268556.8230795464,
          -268552.72218119854,
          -268542.2347181197,
          -268531.7472550408,
          -267383.5952168827,
          -267381.8711684041,
          -267383.5952168827,
          -267383.5952168827,
          -267224.0546819759,
          -273998.9294447875,
          -272922.5505053423,
          -272550.7287228058,
          -272698.4242031308,
          -272778.5894663894,
          -273690.6884818829,
          -272893.6412878901,
          -273271.1899587288,
          -273785.0756495925,
          -273743.12579727714,
          -265864.6025194905,
          -265708.51008154085,
          -265861.08283642965,
          -265859.3587879512,
          -265706.7860330624,
          -210603.02631046798,
          -237660.68105390668,
          -211022.52483362204,
          -227372.47977355268,
          -248473.2554882034,
          -230122.46276758096,
          -230280.27925400922,
          -230122.46276758096,
          -230122.46276758096,
          -230122.46276758096,
          -246459.20317980676,
          -246407.48172545026,
          -246648.8485124472,
          -246229.9047321597,
          -246717.8104515892,
          -50297.27538840512,
          -50297.27538840512,
          -50297.27538840512,
          -50297.27538840512,
          -50297.27538840512,
          -263767.36685610225,
          -263609.55036967393,
          -263592.3098848886,
          -263767.36685610225,
          -263767.36685610225,
          -257707.93880049133,
          -257508.17246174772,
          -257665.9889481759,
          -257665.9889481759,
          -257577.8502619274,
          -213391.8110231396,
          -230495.2828025384,
          -229133.38556079002,
          -221299.87582933655,
          -225274.2363391899,
          -229797.35944698163,
          -229797.35944698163,
          -229797.35944698163,
          -231375.52431126396,
          -231375.52431126396,
          -231603.1687519708,
          -231603.1687519708,
          -231603.1687519708,
          -231603.1687519708,
          -231603.1687519708,
          -144843.82989559686,
          -146421.99475987916,
          -146279.77571536857,
          -144843.82989559686,
          -146526.8693906677,
          -244273.94130456084,
          -244284.4287676397,
          -244273.94130456084,
          -244284.4287676397,
          -244284.4287676397,
          -248742.4059565152,
          -248446.665591803,
          -248547.4563771573,
          -248739.7538331565,
          -248774.23480272744,
          -262608.69117935596,
          -262830.16535820864,
          -262625.9316641415,
          -262468.1151777132,
          -262778.44390385214,
          -244276.50882882433,
          -244276.50882882433,
          -244276.50882882433,
          -244276.50882882433,
          -244448.91367667934,
          -260829.68867098005,
          -260834.93240251948,
          -260827.96462250155,
          -262411.37321832334,
          -262235.4486874074,
          -253744.3292695237,
          -253555.55493410435,
          -248972.02902840052,
          -253758.5511739747,
          -253758.5511739747,
          -223397.49135639917,
          -221719.49726378286,
          -227848.00909477912,
          -229784.61045917802,
          -226124.2317569008,
          -194783.81825407693,
          -194941.63474050505,
          -194783.81825407693,
          -194783.81825407693,
          -194783.81825407693,
          -219049.519859243,
          -219221.924707098,
          -219049.519859243,
          -220800.08957138023,
          -220627.6847235253,
          -174637.79424700956,
          -175318.97480688948,
          -175057.29277016365,
          -174742.66887779807,
          -174847.5435085866,
          -272523.7966053161,
          -271999.42345137347,
          -271910.1462625026,
          -272553.9824086605,
          -274765.05962743075,
          -253938.63738777948,
          -253955.87787256495,
          -253955.87787256495,
          -253955.87787256495,
          -253955.87787256495,
          -109820.19866128298,
          -109820.19866128298,
          -109978.01514771121,
          -109820.19866128298,
          -109820.19866128298,
          -204906.57821652706,
          -204561.7685208171,
          -206139.93338509943,
          -207545.69340152675,
          -206312.33823295438,
          -238395.97284552135,
          -238553.78933194967,
          -238395.97284552135,
          -238395.97284552135,
          -238553.78933194967,
          -240543.07457407593,
          -252079.2839608134,
          -258633.948385096,
          -241591.82088196115,
          -245786.80611350207,
          -267793.7156512335,
          -267793.7156512335,
          -267898.590282022,
          -267688.84102044493,
          -267688.84102044493,
          -71942.83298101765,
          -5659.908681161229,
          -103348.31378023532,
          -62326.51477197448,
          -3923.9273304507187,
          -264405.75045762036,
          -264241.1809494855,
          -264239.4569010069,
          -264371.2694880494,
          -264414.5138722207,
          -263209.5952910642,
          -256051.12027459394,
          -262159.12493470043,
          -263163.3383085464,
          -261901.394642127,
          -271562.41779450915,
          -271562.41779450915,
          -271720.23428093735,
          -271562.41779450915,
          -271562.41779450915,
          -240228.90934616906,
          -240228.90934616906,
          -240228.90934616906,
          -240228.90934616906,
          -240071.09285974083,
          -268813.227709446,
          -268813.227709446,
          -268813.227709446,
          -268813.227709446,
          -268813.227709446,
          -262046.3958558151,
          -266317.9284524562,
          -261267.80088675284,
          -267096.5234215184,
          -266465.2574758056,
          -249212.82842179833,
          -249155.00674712594,
          -249158.454844083,
          -249063.63217776283,
          -249120.52577755495,
          -233681.5544922502,
          -235235.00998900257,
          -233572.44087984398,
          -234986.54077623683,
          -233439.83830119114,
          -216705.37368006565,
          -216101.95671257318,
          -214555.62069450322,
          -214176.33002922218,
          -214176.33002922218,
          -261133.48622359717,
          -259081.87190003018,
          -259239.68838645853,
          -257503.70703574797,
          -260186.58730502785,
          -213762.49003468486,
          -211245.49889576036,
          -213191.2295080479,
          -213605.68262874748,
          -211245.49889576036,
          -278174.7049427997,
          -278191.94542758516,
          -278174.7049427997,
          -278191.94542758516,
          -278181.45796450635,
          -196115.0082309458,
          -198621.51190679142,
          -196404.05175856032,
          -198317.37547750474,
          -192691.48982864662,
          -260102.54978649013,
          -260102.54978649013,
          -260102.54978649013,
          -260102.54978649013,
          -260102.54978649013,
          -270768.6600026707,
          -270412.0862579897,
          -268985.79127926583,
          -271083.28389503626,
          -271083.28389503626,
          -264780.21834034997,
          -264607.81349249504,
          -264449.9970060668,
          -264607.81349249504,
          -264780.21834034997,
          -116383.76157139736,
          -116931.16191830667,
          -117075.16208895491,
          -114517.49404833707,
          -114794.77352698054,
          -298966.3251307052,
          -299047.20625500166,
          -299141.5934227113,
          -299064.4467397871,
          -299124.3529379258,
          -272053.3676556897,
          -272053.3676556897,
          -272053.3676556897,
          -272053.3676556897,
          -272053.3676556897,
          -262860.7129104113,
          -262702.89642398304,
          -262702.89642398304,
          -262702.89642398304,
          -262702.89642398304,
          -269186.74369359115,
          -266363.28742266854,
          -269502.3766664476,
          -268871.1107207347,
          -266661.6799107395,
          -133268.68860412572,
          -197880.84589815658,
          -132072.1064395859,
          -238538.82755615364,
          -241523.05684812236,
          -283803.767143993,
          -283252.071630857,
          -284993.36059419217,
          -282752.09757207765,
          -284993.36059419217,
          -268265.67810169124,
          -268438.08294954617,
          -268438.08294954617,
          -268107.86161526304,
          -268438.08294954617,
          -256454.97920007195,
          -256952.41439776059,
          -256936.89796145368,
          -256412.52480751104,
          -256323.16661302946,
          -271778.95162119734,
          -271149.7038364662,
          -271883.8262519858,
          -272198.45014435146,
          -272596.9737413478,
          -232560.92051314324,
          -232546.3321517165,
          -234296.90186385374,
          -234296.90186385374,
          -234139.08537742548,
          -262101.498151594,
          -260809.65743603287,
          -262394.71849422937,
          -262133.06279524253,
          -263825.94293398934,
          -163330.62875885834,
          -163330.62875885834,
          -163330.62875885834,
          -163330.62875885834,
          -163330.62875885834,
          -266965.5239240576,
          -267123.3404104858,
          -266965.5239240576,
          -266965.5239240576,
          -267123.3404104858,
          -231180.47932803424,
          -230289.0449663318,
          -230131.73302014903,
          -230760.98080488015,
          -231337.79127421704,
          -249406.62053818817,
          -256192.72945460211,
          -252562.95026675286,
          -250826.96891604227,
          -247828.45567390593,
          -269482.23077403015,
          -270758.0266481569,
          -269312.4780495339,
          -271137.3173134378,
          -268777.0949463033,
          -237768.16795583736,
          -237890.28307141145,
          -237971.1641957078,
          -237873.04258662593,
          -237862.55512354695,
          -253962.84302315256,
          -257276.9892381454,
          -251437.77924030085,
          -255541.00788743488,
          -256961.35626528892,
          -265515.51636188634,
          -265515.51636188634,
          -265515.51636188634,
          -265515.51636188634,
          -265515.51636188634,
          -274398.04367657786,
          -274398.04367657786,
          -274398.04367657786,
          -274398.04367657786,
          -274398.04367657786,
          -214516.52301357908,
          -221847.7642459423,
          -233562.26050502015,
          -151623.20692970237,
          -238355.03113205568,
          -271791.49135108513,
          -271791.49135108513,
          -272001.2406126622,
          -271791.49135108513,
          -271466.3799956407,
          -273821.8593384602,
          -273820.13528998167,
          -273813.23909606744,
          -273806.3429021532,
          -273813.23909606744,
          -158847.0753505301,
          -157286.15097103332,
          -157111.09399981954,
          -158847.0753505301,
          -157128.3344846051,
          -306116.76944724226,
          -295954.9140763962,
          -317696.73430320335,
          -309210.7247380192,
          -315075.5176365415,
          -227712.93870093653,
          -227712.93870093653,
          -227450.24758371976,
          -227712.93870093653,
          -226664.19239305126,
          -254525.5252662736,
          -256103.69013055583,
          -254525.5252662736,
          -254525.5252662736,
          -254525.5252662736,
          102715.52241962712,
          102715.52241962712,
          102715.52241962707,
          102715.52241962707,
          102715.52241962712,
          -236277.97963757755,
          -239869.40533121384,
          -244975.12687591556,
          -239291.0812411406,
          -236555.25911622096,
          -225582.70423461302,
          -227333.2739467503,
          -225755.10908246794,
          -227160.86909889532,
          -227160.86909889532,
          -265124.21622101485,
          -252025.44784747183,
          -252339.3567718497,
          -258020.750283266,
          -264806.85919967986,
          -247015.20494457352,
          -235514.7830451306,
          -242178.86296241073,
          -246338.06070665707,
          -236471.77276860882,
          -185105.01644495444,
          -187314.44725494966,
          -190312.96049708605,
          -192048.94184779652,
          -189050.42860566018,
          -260293.51788848476,
          -260293.51788848476,
          -260135.70140205653,
          -260135.70140205653,
          -260135.70140205653,
          -272205.05197939207,
          -268654.181034757,
          -271968.3272497498,
          -271415.9695472509,
          -267865.09860261576,
          -261881.96716462774,
          -261718.9069466601,
          -261718.9069466601,
          -261724.15067819957,
          -261724.15067819957,
          -235132.68468055892,
          -233721.6809325922,
          -235132.68468055892,
          -235310.33325995336,
          -235299.84579687452,
          -19473.44007939882,
          -19473.44007939882,
          -19473.44007939882,
          -21062.092406760014,
          -21041.117480602334,
          -160984.85406567255,
          -160984.85406567255,
          -159406.68920139028,
          -159406.68920139028,
          -159406.68920139028,
          -183625.02085293806,
          -183625.02085293806,
          -183625.02085293806,
          -183625.02085293806,
          -183625.02085293806,
          -256278.92851262246,
          -254700.7636483401,
          -256278.92851262246,
          -256278.92851262246,
          -254700.7636483401,
          -274361.01180178626,
          -274705.8214974962,
          -274498.93568007025,
          -274533.41664964124,
          -274705.8214974962,
          -169035.56446479922,
          -168941.17729708957,
          -168846.7901293799,
          -167279.11272817643,
          -169035.56446479922,
          -183277.40762636627,
          -180209.56543165288,
          -182145.56972179888,
          -183271.26005295417,
          -173049.6422857725,
          -88889.1527899189,
          -87468.80441206486,
          -88889.1527899189,
          -88889.1527899189,
          -87310.98792563661,
          -247548.82869471505,
          -247378.14789533862,
          -247536.76035536517,
          -247576.41347037177,
          -245944.8031032544,
          -253028.75654026755,
          -253186.5730266958,
          -253028.75654026755,
          -253184.84897821728,
          -253186.5730266958,
          -242065.60997034778,
          -245431.47763969708,
          -239871.1638256249,
          -242818.22318187563,
          -244059.27051796054,
          -234673.17810351012,
          -236040.72270899426,
          -234652.20317735244,
          -236223.6150199281,
          -236059.6872422583,
          -243239.45952547624,
          -243067.05467762126,
          -241682.26958735165,
          -243077.5421407001,
          -241661.29466119388,
          -269247.8333554003,
          -269247.8333554003,
          -269247.8333554003,
          -269247.8333554003,
          -269247.8333554003,
          -232486.56147902898,
          -238010.138504017,
          -237378.87255830417,
          -239746.1198547276,
          -237378.87255830417,
          -268090.176094763,
          -268090.176094763,
          -268247.99258119124,
          -268090.176094763,
          -268090.176094763,
          -258789.55884685297,
          -252634.71587615204,
          -243653.76451116972,
          -260697.9450454185,
          -238746.8650704679,
          -268386.1618860947,
          -268318.64872194186,
          -267697.8702393078,
          -268329.13618502073,
          -269896.81358622416,
          -91699.00703749327,
          -91711.21854905068,
          -91688.51957441441,
          -91860.92442226938,
          -91688.51957441441,
          -266736.5341470784,
          -270858.10713706736,
          -273112.91169902054,
          -273574.36007449,
          -268498.4279443256,
          -242944.69549672058,
          -249677.64679334374,
          -240018.69329772083,
          -240637.4536193731,
          -242283.9853227529,
          -253879.28942290504,
          -254510.55536861796,
          -251827.67509933808,
          -251827.67509933808,
          -254037.1059093333,
          -44801.5406172578,
          -44801.5406172578,
          -44801.5406172578,
          -44643.72413082956,
          -44801.5406172578,
          -261522.89816434425,
          -261838.5311372006,
          -252211.7254650786,
          -252211.7254650786,
          -262154.1641100571,
          -268457.2152237411,
          -268439.9747389555,
          -268310.6711030643,
          -268310.6711030643,
          -268439.9747389555,
          -273194.75913684233,
          -273194.75913684233,
          -273194.75913684233,
          -273194.75913684233,
          -273194.75913684233,
          -260757.27270712343,
          -265965.21675925516,
          -258863.47486998473,
          -263440.1529764034,
          -264544.86838140094,
          -259499.95602338522,
          -259499.95602338522,
          -259342.13953695705,
          -259499.95602338522,
          -259499.95602338522,
          11725.428849827937,
          9484.165827713308,
          11897.833697682907,
          6036.068870613865,
          5174.044631339017,
          -261774.3546834027,
          -261414.82452498414,
          -261513.09528826148,
          -261413.1004765056,
          -261471.71812477632,
          -268072.7242891852,
          -267125.82537061576,
          -267757.0913163288,
          -268388.35726204165,
          -263496.04618276656,
          -255103.88532582228,
          -255103.88532582228,
          -255103.88532582228,
          -255103.88532582228,
          -255103.88532582228,
          -269407.1027908135,
          -269389.86230602796,
          -269407.1027908135,
          -269407.1027908135,
          -269389.86230602796,
          -261540.40871695368,
          -261540.40871695368,
          -261382.5922305255,
          -261382.5922305255,
          -261557.64920173914,
          -269858.12437495554,
          -270005.45339830493,
          -270194.7322739697,
          -270173.757347812,
          -270173.757347812,
          -233406.87140351482,
          -233249.05491708656,
          -233406.87140351482,
          -233406.87140351482,
          -233406.87140351482,
          -260567.19597855344,
          -259392.60011372197,
          -260724.50792473627,
          -260619.63329394773,
          -259020.4935035077,
          8719.126621455725,
          8720.85066993428,
          8778.67234460662,
          8795.912829392119,
          8878.667156362504,
          -261867.16990073837,
          -261852.5815393116,
          -261470.6387506719,
          -261783.61960016968,
          -261677.52456809784,
          -245587.3158363983,
          -247328.4693325445,
          -243952.25737232383,
          -249732.05374829937,
          -248610.8938321146,
          -245174.03280313886,
          -245016.21631671066,
          -245033.45680149613,
          -245016.21631671066,
          -245016.21631671066,
          -273345.7786051779,
          -273340.5348736384,
          -273345.7786051779,
          -273345.7786051779,
          -273345.7786051779,
          -219744.63464902446,
          -220274.05320542154,
          -219744.63464902446,
          -219744.63464902446,
          -218695.88834113925,
          -167989.60390578632,
          -167831.7874193581,
          -167831.7874193581,
          -167989.60390578632,
          -167989.60390578632,
          -181919.36180468276,
          -181929.84926776163,
          -181929.84926776163,
          -181929.84926776163,
          -181919.36180468276,
          -61512.95458239248,
          -61462.95717651453,
          -59883.06826375368,
          -59974.44283311681,
          -59886.51636071078,
          -185606.06883183238,
          -186273.48590405128,
          -184071.11865749233,
          -167844.08694108436,
          -166661.92994659764,
          -252743.06206847014,
          -252911.3660179772,
          -252753.549531549,
          -252753.549531549,
          -252911.3660179772,
          -203176.5665646575,
          -54794.58835255079,
          -199830.5915034524,
          -221009.82953104738,
          -199830.5915034524,
          -268064.87862836587,
          -268409.68832407583,
          -269030.3457763537,
          -267926.9547500819,
          -267892.4737805109,
          -235963.51819858458,
          -235963.51819858458,
          -235963.51819858458,
          -235963.51819858458,
          -235963.51819858458,
          -242338.0435877547,
          -248557.94581554524,
          -246675.24786380623,
          -222119.05139375877,
          -249076.43694500226,
          180573.02950347305,
          188790.5951186998,
          172115.5288233248,
          -246907.68525727896,
          -248485.8501215613,
          -246907.68525727896,
          -246907.68525727896,
          -248485.8501215613,
          -78225.24628201018,
          -44330.72682593788,
          39974.55969460546,
          -78052.84143415523,
          -204076.98658684865,
          -203657.48806369453,
          -202341.0052361381,
          -201132.42428084288,
          -203657.48806369453,
          -274217.19804596726,
          -274234.43853075267,
          -274217.19804596726,
          -274234.43853075267,
          -274234.43853075267,
          -221427.97984131498,
          -226951.55686630303,
          -223795.22713773843,
          -224742.12605630778,
          -223795.22713773843,
          93589.6022490309,
          93704.96434289828,
          93663.01449058286,
          93785.12960615687,
          93722.20482768377,
          -209129.79044348284,
          -208191.3608270105,
          -207226.0096835107,
          -206449.93741567564,
          -206900.89832806628,
          -267406.4728336558,
          -268143.1179504027,
          -267248.6563472276,
          -268358.61548376456,
          -267511.85200468975,
          -168343.76153046163,
          -169673.93098230357,
          -169673.93098230357,
          -168740.29268052804,
          -168932.59013652723,
          -248339.47653002047,
          -248339.47653002047,
          -249917.64139430277,
          -248339.47653002047,
          -248339.47653002047,
          -270659.81165209453,
          -270659.81165209453,
          -270659.81165209453,
          -270659.81165209453,
          -270659.81165209453,
          -269144.9768855936,
          -266935.54607559834,
          -265199.56472488784,
          -265199.56472488784,
          -267724.62850773946,
          -99892.55529669418,
          -146440.29266030627,
          -154089.26026964627,
          -94444.60770984628,
          -135199.58779090043,
          -207145.4639372095,
          -207145.4639372095,
          -207145.4639372095,
          -207145.4639372095,
          -207145.4639372095,
          -268354.8853729616,
          -269459.6007779591,
          -264882.9226715404,
          -268354.8853729616,
          -268354.8853729616,
          -227816.92761382964,
          -227715.20875359527,
          -229397.7446014707,
          -227871.30119154492,
          -227765.20615947316,
          -272158.3320162968,
          -271193.48541304236,
          -272063.94484858715,
          -272231.7442578487,
          -271780.7833454581,
          -255252.77961171832,
          -255410.59609814652,
          -255252.77961171832,
          -255410.59609814652,
          -255410.59609814652,
          -247199.31547999562,
          -247339.89148163833,
          -247251.0369343521,
          -248619.3619772583,
          -247339.89148163833,
          2343.522766569632,
          2015.9535556451963,
          2360.763251355129,
          2360.763251355129,
          2360.763251355129,
          -270251.9998583635,
          -257163.71894789932,
          -263623.7074283779,
          -272156.28515858116,
          -261740.39705431796,
          -252979.69825369958,
          -252912.16803663308,
          -254557.86311798176,
          -253084.57288448807,
          -252807.2934058445,
          -257042.51328676197,
          -257042.51328676197,
          -256884.69680033377,
          -257042.51328676197,
          -257042.51328676197,
          -5098.187195591535,
          9547.128516813897,
          25280.229421798154,
          22068.9357719791,
          14474.442158819034,
          -266359.2401465069,
          -266359.2401465069,
          -266359.2401465069,
          -266359.2401465069,
          -266359.2401465069,
          -257454.86703457587,
          -250645.54951434248,
          -250821.40245915455,
          -256665.7846024347,
          -257500.91269630133,
          -273730.64588726836,
          -273713.4054024828,
          -273730.64588726836,
          -273730.64588726836,
          -273678.9244329119,
          -273770.52085987135,
          -273770.52085987135,
          -273770.52085987135,
          -273770.52085987135,
          -273770.52085987135,
          -272471.317694781,
          -272471.317694781,
          -272471.317694781,
          -272471.317694781,
          -272471.317694781,
          -257356.67681638073,
          -252417.02079117717,
          -251785.7548454642,
          -254468.63511474413,
          -253206.10322331832,
          -265240.71592445456,
          -247880.9024173493,
          -189488.80243890441,
          -265242.43997293303,
          -265242.43997293303,
          -257093.24483688135,
          -255233.0742943689,
          -256519.87648251362,
          -255435.92736203177,
          -256574.03186439857,
          -263331.5690836005,
          -262995.97026507725,
          -263532.0503903318,
          -263005.9531879106,
          -262984.9782617529,
          -271750.81808466197,
          -271721.07974390395,
          -271750.81808466197,
          -271731.5672069828,
          -271750.81808466197,
          -184040.58743365953,
          -185618.75229794183,
          -186987.50361770275,
          -183701.021469489,
          -185608.264834863,
          -275808.24953016464,
          -275773.7685605936,
          -275791.0090453791,
          -275773.7685605936,
          -275791.0090453791,
          -229555.77797328518,
          -229555.77797328518,
          -229555.77797328518,
          -229555.77797328518,
          -229397.96148685692,
          -153994.49950010452,
          -145761.84098320553,
          -163102.2228911416,
          -147937.35127912127,
          -157937.78561775296,
          -275823.5573878991,
          -275823.5573878991,
          -275823.5573878991,
          -275823.5573878991,
          -275823.5573878991,
          -264168.88100683223,
          -264168.88100683223,
          -264168.88100683223,
          -264168.88100683223,
          -264168.88100683223,
          273465.654004833,
          272992.20454554836,
          269835.87481698376,
          274412.5529234024,
          280567.3958941033
         ],
         "xaxis": "x",
         "y": [
          10944.997437157332,
          12895.487289612352,
          14101.193274691394,
          12887.753570804613,
          11562.428277132545,
          28316.86386409309,
          28304.11203621425,
          28307.97889561757,
          28304.11203621425,
          28925.40973559429,
          -17360.990209888387,
          -16085.807422004034,
          -16743.559369911673,
          -16743.559369911673,
          -16085.807422004034,
          26821.04764238943,
          26821.04764238943,
          26821.04764238943,
          26805.580204776157,
          26821.04764238943,
          -54347.30626649497,
          -53791.618510515924,
          -54347.30626649497,
          -53791.618510515924,
          -54409.04935049264,
          -26733.330518120238,
          -31242.088582391345,
          -26679.194486473756,
          -27297.765324549502,
          -28091.74941835443,
          -59833.58763363961,
          -59833.58763363961,
          -59833.58763363961,
          -59833.58763363961,
          -59833.58763363961,
          -37215.47892407554,
          -37153.7358400779,
          -37153.7358400779,
          -37153.7358400779,
          -37153.7358400779,
          28545.97145642229,
          29821.15424430664,
          29155.66857759236,
          28538.23773761565,
          28538.23773761565,
          -72540.20254513055,
          -71921.50504059938,
          -71998.84222866577,
          -72756.62000526102,
          -72926.88848546258,
          -32334.703855492597,
          -17682.853622701423,
          -29019.228606993285,
          -17670.101794822578,
          -31845.116287024342,
          25402.218132544283,
          25402.218132544283,
          25402.218132544283,
          25402.218132544283,
          25402.218132544283,
          -42897.10931641581,
          -42897.10931641581,
          -42279.678476439105,
          -42897.10931641581,
          -42897.10931641581,
          -34409.00811252271,
          -33729.83418854832,
          -33174.14643256928,
          -33729.83418854832,
          -35335.154372487785,
          40531.43024386158,
          40500.495368635005,
          40539.16396266821,
          40485.02793102172,
          40701.44539115219,
          -42209.77402096114,
          -42209.77402096114,
          -42209.77402096114,
          -42209.77402096114,
          -42209.77402096114,
          40476.95182019496,
          39921.26406421592,
          41156.12574416934,
          40476.95182019496,
          39859.52098021824,
          -8736.337993140207,
          -10329.0101725992,
          -6809.3753457323655,
          -6353.085936140605,
          -5771.96040654715,
          -48068.923574810586,
          -48130.66665880825,
          -48130.66665880825,
          -48068.923574810586,
          -48130.66665880825,
          -37312.048771660826,
          -37285.01240520335,
          -38740.10022302133,
          -42261.9037836318,
          -38052.421143983636,
          -28395.96635597759,
          -28457.709439975264,
          -27182.52665209091,
          -28457.709439975264,
          -27182.52665209091,
          -37087.9827361984,
          -36858.449834379215,
          -37075.230908319565,
          -37304.763810138735,
          -37738.325958019406,
          -37549.16883086011,
          -37549.16883086011,
          -37610.91191485777,
          -37610.91191485777,
          -37610.91191485777,
          -34722.30107483788,
          -34718.43421543454,
          -34718.43421543454,
          -34718.43421543454,
          -34722.30107483788,
          -200905.82197914788,
          -176891.38575334067,
          -183620.18556538044,
          -193956.2738447658,
          -196197.76148301302,
          -37807.70131591749,
          -37807.70131591749,
          -37421.0153755855,
          -38271.7244443159,
          -38271.7244443159,
          -46345.63033700707,
          -43875.90697710022,
          -43875.90697710022,
          -45172.51174105129,
          -46469.11650500242,
          -32708.99940238414,
          -32654.99003719311,
          -32828.783962365946,
          -32828.783962365946,
          -32654.99003719311,
          -22301.634047044245,
          -22301.634047044245,
          -22301.634047044245,
          -22301.634047044245,
          -22301.634047044245,
          -52611.753335839545,
          -52611.753335839545,
          -52611.753335839545,
          -52611.753335839545,
          -52550.01025184187,
          -25904.293622940375,
          -25904.293622940375,
          -25904.293622940375,
          -25904.293622940375,
          -25904.293622940375,
          127233.47521042053,
          127233.47521042053,
          127356.96137841587,
          12210.25626190265,
          12210.25626190265,
          12210.25626190265,
          12210.25626190265,
          12210.25626190265,
          -22215.77083322717,
          -23405.882714238476,
          -23398.148995431846,
          -23429.0838706584,
          -20894.185732502985,
          -3829.204055352715,
          -3829.204055352715,
          -3829.204055352715,
          -3836.937774159356,
          -3836.937774159356,
          -34695.183453961276,
          -35246.83909914721,
          -35695.82462580286,
          -34333.44466706098,
          -34765.64625504468,
          -73366.34867376226,
          -29536.11804798218,
          -39893.95644843013,
          -37761.09630948992,
          -38908.18341875813,
          7960.761381957556,
          4106.85988057721,
          2993.044182706871,
          7005.3652751376085,
          -2939.9159167435205,
          -28632.005880579844,
          -29264.904158169833,
          -29419.578534302636,
          -29496.915722369038,
          -29288.105314589757,
          -59182.37554160017,
          -58564.944701623455,
          -58564.944701623455,
          -58503.2016176258,
          -59182.37554160017,
          -28850.940284262808,
          -28789.197200265135,
          -28850.940284262808,
          -28916.715479053564,
          -28661.6789214767,
          -38066.01339657613,
          -38297.23185101231,
          -38606.32183261854,
          -41275.012270676365,
          -38877.76776724947,
          -41522.04918960422,
          -41583.792273601895,
          -41522.04918960422,
          -41583.792273601895,
          -41583.792273601895,
          -33230.75032340985,
          -33253.95147982976,
          -33238.484042216485,
          -33230.75032340985,
          -33238.484042216485,
          -161.8118016155095,
          -92.33499881119994,
          -154.07808280886746,
          -92.33499881119994,
          -92.33499881119994,
          -38561.39932934181,
          -38561.39932934181,
          -38561.39932934181,
          -38484.06214127541,
          -38623.14241333948,
          9269.489196397739,
          9269.489196397739,
          9154.722745488158,
          9652.04403276305,
          9409.759303065019,
          -22540.79420304785,
          -21265.611415163505,
          -21265.611415163505,
          -21883.04225514022,
          -21883.04225514022,
          -66060.845041879,
          -67607.588803207,
          -68380.96068387099,
          -68380.96068387099,
          -69154.33256453498,
          1046.8034454189153,
          1111.3888056064711,
          1124.1406334853164,
          1111.3888056064711,
          -692.4024708638344,
          108253.26286483207,
          110043.81230076456,
          116367.0609553869,
          -25870.571001028322,
          -26488.001841005032,
          -26488.001841005032,
          -26488.001841005032,
          -26426.25875700737,
          7561.461347463538,
          5200.483800936388,
          4045.823748461573,
          27786.51042106042,
          33026.448511117334,
          -49028.194254333015,
          -46968.75241713722,
          -46501.64635255226,
          -44442.204515356454,
          -46279.693898469726,
          -42850.82872975855,
          -42049.034087195694,
          -39884.859485891,
          -42978.347008546974,
          -42978.347008546974,
          -34861.50801335739,
          -34861.50801335739,
          -34861.50801335739,
          -34861.50801335739,
          -34861.50801335739,
          1491.5551453452854,
          3384.1687732063456,
          3384.1687732063456,
          3384.1687732063456,
          3384.1687732063456,
          -42502.87368340787,
          -42502.87368340787,
          -42495.139964601236,
          -42495.139964601236,
          -42502.87368340787,
          147203.77322665634,
          146055.34236221053,
          119153.61875260396,
          111732.20819818703,
          93649.96299491698,
          665223.9392700011,
          642775.4286703418,
          682146.3199296239,
          667826.0172216824,
          -45791.61677360862,
          -44309.7827576645,
          -45606.387521615594,
          -44124.55350567149,
          -44869.50262443665,
          -21328.783498233817,
          -21328.783498233817,
          -21328.783498233817,
          -21328.783498233817,
          -21328.783498233817,
          -63186.84080428659,
          -63186.84080428659,
          -63186.84080428659,
          -63186.84080428659,
          -63186.84080428659,
          -25813.135299626323,
          -24476.209427744303,
          -24537.952511741965,
          -25813.135299626323,
          -25751.392215628657,
          253826.52544328207,
          256670.54667407402,
          252138.3319363458,
          247993.16165492835,
          243965.40211426312,
          -33050.68940162195,
          -33669.386906153144,
          -33050.68940162195,
          -32702.672055323146,
          -33669.386906153144,
          -34066.93974394464,
          -34066.93974394464,
          -34066.93974394464,
          -34066.93974394464,
          -34071.957853016844,
          -42136.041587655855,
          -41518.61074767913,
          -41531.36257555797,
          -42909.413468319835,
          -42304.73445622197,
          -140920.66591010155,
          -140920.66591010155,
          -140920.66591010155,
          -140920.66591010155,
          -141538.0967500783,
          -44807.83161247651,
          -42657.98445068603,
          -44823.42571654523,
          -44746.08852847883,
          -42797.06472275012,
          -278644.5847891756,
          -278644.5847891756,
          -278644.5847891756,
          -278644.5847891756,
          -278644.5847891756,
          122862.93496577554,
          122850.13364130989,
          122092.24524389827,
          122267.46595102875,
          122929.2994340052,
          -34363.29972097698,
          -34363.29972097698,
          -34371.03343978362,
          -34371.03343978362,
          -34371.03343978362,
          -35402.868329822195,
          -35402.868329822195,
          -35402.868329822195,
          -35410.602048628825,
          -35402.868329822195,
          -13507.719339745798,
          -13507.719339745798,
          -14557.351767706226,
          -14001.664011727173,
          -13507.719339745798,
          -54884.625918317724,
          -54884.625918317724,
          -54884.625918317724,
          -54884.625918317724,
          -54884.625918317724,
          -37245.04791040057,
          -38294.680338360995,
          -39508.120042247676,
          -39261.147706256976,
          -38665.13884234702,
          -67610.2761166412,
          -67579.34124141464,
          -67710.81446112753,
          -67602.54239783455,
          -67618.00983544784,
          -24637.73423410201,
          -24637.73423410201,
          -24637.73423410201,
          -24650.486061980868,
          -24637.73423410201,
          -45920.831187441465,
          -46534.39516801486,
          -45916.964328038135,
          -45920.831187441465,
          -46534.39516801486,
          -43286.32858585678,
          -43903.759425833494,
          -43286.32858585678,
          -43903.759425833494,
          -43903.759425833494,
          -3368.7220197309657,
          3099.790914947793,
          7062.250293190747,
          31310.474156774635,
          26153.367756060183,
          38203.57550099159,
          49070.35828458176,
          44856.234468671384,
          38703.34804497098,
          37545.823553083945,
          157947.45346403233,
          162430.36792624978,
          138016.28570508776,
          137282.46323366824,
          140347.03302855734,
          -32686.17266296001,
          -32953.96104841572,
          -32431.136105383142,
          -32928.457392658034,
          -32311.02655268132,
          -9624.983330287087,
          -4524.252178749683,
          -3249.0693908653357,
          -9624.983330287087,
          -9624.983330287087,
          -45042.294606108204,
          -45038.42774670488,
          -44964.957418041806,
          -45038.42774670488,
          -44961.090558638476,
          -46531.75791717195,
          -41339.821805531246,
          -42554.305258554195,
          -42138.486054177454,
          -40724.78920057707,
          -21658.00676286206,
          -21658.00676286206,
          -21658.00676286206,
          -22205.795548644688,
          -22337.180686836447,
          -16373.115636065071,
          -16253.154913041035,
          -16334.447042031874,
          -16365.381917258434,
          -16315.024663494149,
          -47849.524614504204,
          -47862.276442383045,
          -47862.276442383045,
          -48622.89649516819,
          -47076.15273384021,
          -57597.50837180422,
          -57597.50837180422,
          -57597.50837180422,
          -57597.50837180422,
          -57597.50837180422,
          -33443.51567211357,
          -33443.51567211357,
          -33443.51567211357,
          -33430.76384423472,
          -33430.76384423472,
          -39420.45416106378,
          -39469.44541718262,
          -39420.45416106378,
          -39407.702333184934,
          -39407.702333184934,
          -46938.334173121606,
          -46045.70622160256,
          -45856.44485881644,
          -45280.596548871945,
          -47004.10936791236,
          -121129.05942195737,
          -121129.05942195737,
          -121746.49026193407,
          -120511.62858198064,
          -121129.05942195737,
          -56991.47866849035,
          -56501.56610730207,
          -56374.04782851363,
          -57242.48311527413,
          -56127.07549252296,
          -34367.43082494367,
          -34367.43082494367,
          -34367.43082494367,
          -34367.43082494367,
          -34367.43082494367,
          60206.44740189918,
          32148.559209040162,
          50008.85195822771,
          -3186.4186646351113,
          -3062.932496639769,
          -3186.4186646351113,
          -3124.675580637431,
          -3124.675580637431,
          53050.12245100479,
          49882.326035259386,
          48076.90957825582,
          47056.76334794834,
          47842.03357464442,
          -37646.11594482344,
          -35619.329945382575,
          -38477.28174622651,
          -36928.68653721252,
          -36730.70545734066,
          -41606.130019189724,
          -40717.991687616115,
          -41447.22516984373,
          -41525.75219251334,
          -39842.60518392137,
          -30679.458709217382,
          -31375.49340181499,
          -31298.15621374858,
          -31375.49340181499,
          -30895.876169347852,
          44384.54350982446,
          41644.916571269634,
          41134.84345611591,
          42027.471407634956,
          49102.71982499656,
          -34907.91032619723,
          -34907.91032619723,
          -34907.91032619723,
          -34907.91032619723,
          -34907.91032619723,
          86882.0889539584,
          85644.693944896,
          86278.98555349596,
          87500.7864584896,
          85892.29961316392,
          -68447.58531332381,
          -68447.58531332381,
          -68447.58531332381,
          -68447.58531332381,
          -68447.58531332381,
          -34719.24800511408,
          -37866.558874174014,
          -36048.30764175711,
          -36550.118548977465,
          -37988.97609635574,
          44151.356970649125,
          44151.356970649125,
          44164.10879852798,
          44164.10879852798,
          44164.10879852798,
          -33608.32228331139,
          -33612.18914271471,
          -33612.18914271471,
          -33608.32228331139,
          -33612.18914271471,
          62404.787833155926,
          62404.787833155926,
          62404.787833155926,
          62404.787833155926,
          62404.787833155926,
          -31997.83838284343,
          -32017.260761381167,
          -31120.67786893767,
          -32144.779040169593,
          -31271.397304146027,
          -33281.15123857909,
          -32663.72039860237,
          -32663.72039860237,
          -33281.15123857909,
          -32663.72039860237,
          -41763.10645696866,
          -39212.74088119995,
          -33601.93661450882,
          -32199.235547836033,
          -39212.74088119995,
          44792.523183165154,
          52443.61991047125,
          42242.15760739645,
          53718.802698355605,
          52443.61991047125,
          -41964.93580228051,
          -41968.80266168383,
          -41964.93580228051,
          -41968.80266168383,
          -41968.80266168383,
          -46469.81994212402,
          -50104.66778124482,
          -54358.2131248968,
          -52656.794987436006,
          -54048.864372631215,
          -45226.215341402,
          -45226.215341402,
          -45164.47225740433,
          -45226.215341402,
          -45226.215341402,
          28361.77917817427,
          27163.933578356322,
          35873.140116278875,
          10317.000840843126,
          4476.223011638525,
          106161.31180440515,
          109147.5805761711,
          109920.42396770834,
          109474.80954628672,
          109151.4088506401,
          -4168.390543666979,
          -4963.956099084203,
          -3270.3983468854985,
          -3896.829570223336,
          -3356.350068969778,
          -24343.910377828648,
          -25619.093165712995,
          -25619.093165712995,
          -25619.093165712995,
          -25619.093165712995,
          -3811.389922673955,
          -3795.922485060679,
          -3734.179401063004,
          -3819.1236414805976,
          -3749.646838676281,
          -34737.76851245115,
          -34962.046357843705,
          -34907.91032619723,
          -34938.845201423785,
          -34791.90454409762,
          -90868.41241392755,
          -90791.07522586115,
          -90791.07522586115,
          -90791.07522586115,
          -90791.07522586115,
          84632.90233713457,
          84403.21616424542,
          84403.21616424542,
          84403.21616424542,
          84403.21616424542,
          -45825.76538504035,
          -42359.78563008687,
          -45230.64903629543,
          -44822.40860346433,
          -43347.801640505066,
          6175.327390400757,
          36779.71429962516,
          -26979.425094592345,
          -19328.328367286245,
          -37180.88739766714,
          13017.77396995135,
          17931.732472122785,
          11119.332470092255,
          12709.691882240228,
          17576.86807220548,
          -14650.036988432688,
          -14713.796127826907,
          -14662.788816311537,
          -14611.781504796165,
          -14713.796127826907,
          49971.73854202232,
          51864.35216988339,
          50589.16938199904,
          51864.35216988339,
          51864.35216988339,
          -35582.985577400505,
          -35582.985577400505,
          -35582.985577400505,
          -35582.985577400505,
          -35582.985577400505,
          -80096.61266454568,
          -80034.869580548,
          -80034.869580548,
          -80096.61266454568,
          -80034.869580548,
          -18206.79458279444,
          -18206.79458279444,
          -18206.79458279444,
          -18206.79458279444,
          -18206.79458279444,
          -16002.107674832543,
          -16681.281598806934,
          -14171.237130969152,
          -16747.056793597698,
          -16063.850758830218,
          -10155.795810059448,
          -10407.141671275247,
          -12340.571372935246,
          -11056.77405103301,
          -10701.022985927566,
          116522.73558064438,
          116817.75689339575,
          117373.44464937478,
          116910.68818553087,
          117297.37412586287,
          -43395.48424622081,
          -47821.26461511254,
          -48665.51439479267,
          -49367.324741339,
          -50732.68995079513,
          -21094.96512367529,
          -21048.975921232104,
          -21107.716951554125,
          -21107.716951554125,
          -21082.213295796446,
          -35255.92767249602,
          -35255.92767249602,
          -35255.92767249602,
          -35255.92767249602,
          -35255.92767249602,
          -38970.31613353635,
          -36646.333632141024,
          -38931.520873047695,
          -36990.48411903651,
          -38111.87334599931,
          -34730.03479364451,
          -34730.03479364451,
          -34730.03479364451,
          -34737.76851245115,
          -34730.03479364451,
          -44146.29843588349,
          -41800.06124397197,
          -39700.79638805113,
          -42170.519747957995,
          -42787.95058793472,
          -35186.32420323626,
          -35194.0579220429,
          -35170.85676562298,
          -35217.25907846284,
          -35232.72651607611,
          -207356.3416569346,
          -152740.81944444304,
          -120324.11080946263,
          -185510.56965237757,
          -173704.4313233938,
          -8795.373012046486,
          -8667.854733258055,
          -7392.671945373703,
          -3694.6418605090853,
          -4352.393808416724,
          -21148.08902893539,
          -22216.620588759983,
          -18999.832916895735,
          -21373.639388859327,
          -21673.68466065979,
          -33662.758198420626,
          -33601.01511442296,
          -33601.01511442296,
          -33662.758198420626,
          -33662.758198420626,
          -19505.795524492685,
          -18517.90618052993,
          -13907.087590180818,
          -18456.16309653226,
          -17530.016836567193,
          -60188.379674336116,
          -61963.33500619987,
          -61438.83545835826,
          -62025.711422474786,
          -63198.19668615329,
          -42433.08618801742,
          -42433.08618801742,
          -42433.08618801742,
          -42433.08618801742,
          -42433.08618801742,
          -4235.7502978472285,
          -4158.413109780833,
          -4158.413109780833,
          -4158.413109780833,
          -4158.413109780833,
          9800.824437821426,
          9800.824437821426,
          9800.824437821426,
          9800.824437821426,
          9800.824437821426,
          -34249.42666389332,
          -34537.86974859233,
          -34395.860655397686,
          -34615.08027020328,
          -34723.099000585345,
          -37633.47973900046,
          -37641.2134578071,
          -37625.74602019381,
          -37625.74602019381,
          -37625.74602019381,
          -103820.35681253749,
          -103820.35681253749,
          -103820.35681253749,
          -103820.35681253749,
          -103820.35681253749,
          -39039.88993685787,
          -38962.552748791466,
          -38807.87837265867,
          -39210.15841705941,
          -38514.12372446181,
          -89978.03925092293,
          -90028.22034164498,
          -89978.03925092293,
          -89410.78950166825,
          -89283.27122287983,
          41004.64143350898,
          41012.375152315624,
          41004.64143350898,
          41012.375152315624,
          41012.375152315624,
          9315.662178219314,
          9315.662178219314,
          9933.093018196045,
          10089.034058883319,
          9315.662178219314,
          16779.819597469035,
          16779.819597469035,
          16779.819597469035,
          16779.819597469035,
          16779.819597469035,
          -140884.38573230253,
          -140266.95489232583,
          -140756.86745351405,
          -140139.43661353737,
          -140884.38573230253,
          -88994.06381748257,
          -88994.06381748257,
          -89001.79753628923,
          -89226.07538168179,
          -89001.79753628923,
          69481.67177133505,
          64988.32036036505,
          67385.77319042345,
          29092.303104279872,
          67463.11037848983,
          38625.871578304475,
          38625.871578304475,
          38625.871578304475,
          38618.137859497845,
          38556.39477550017,
          23323.661542840528,
          23315.927824033883,
          23517.00451300652,
          23671.80555559477,
          -92349.57064807377,
          -37505.88868653601,
          -36209.283922584924,
          -35715.33925060354,
          -35105.64212943347,
          -34542.22065464779,
          154587.33132158362,
          154892.47180001377,
          154730.44370444072,
          154818.96288641647,
          154977.41604043145,
          -37972.62336839358,
          -37972.62336839358,
          -37972.62336839358,
          -38034.36645239125,
          -37972.62336839358,
          -77775.09546307471,
          -77713.35237907706,
          -77787.84729095355,
          -77713.35237907706,
          -77787.84729095355,
          2686.10380272186,
          4361.936356642588,
          3635.082167548507,
          2571.337351812267,
          2533.0818681757473,
          39497.83574996174,
          39435.96599950862,
          39374.0962490555,
          39451.56010357736,
          39706.64615774102,
          111420.48109226626,
          111420.48109226626,
          111420.48109226626,
          111420.48109226626,
          111420.48109226626,
          -19152.284403109214,
          -15007.586924337422,
          -14614.671896859798,
          -17466.955335585153,
          -14290.611337460996,
          45753.40528109915,
          47028.588068983496,
          47028.588068983496,
          47028.588068983496,
          47028.588068983496,
          8678.250474086528,
          7543.337792869451,
          7415.819514081012,
          7415.819514081012,
          7415.819514081012,
          21743.224944137088,
          21449.644811363803,
          19012.164451598055,
          22347.903956234957,
          19012.164451598055,
          -116587.05742613382,
          -118355.16570437906,
          -117057.54760878436,
          -124590.18972645173,
          -122670.45413202872,
          -5286.545581481431,
          -4011.3627935970812,
          -4772.93059964439,
          -6048.11338752874,
          -4769.063740241073,
          12545.420495038927,
          12545.420495038927,
          13162.851335015635,
          13162.851335015635,
          12545.420495038927,
          -35029.67742571435,
          -36304.8602135987,
          -36264.53910566778,
          -35639.37454688442,
          -36256.80538686115,
          124978.9368882421,
          125950.37830637202,
          124812.7500154205,
          125894.76599618109,
          123425.51638636096,
          -35842.91396818471,
          -34608.05228823128,
          -35542.26276978253,
          -35781.170884187035,
          -35426.840823373364,
          -47861.88932731922,
          -48867.27277218241,
          -48480.58683185041,
          -48480.58683185041,
          -47707.214951186405,
          -60962.863929359046,
          -60962.863929359046,
          -65009.68269765372,
          -66244.54437760716,
          -60070.235977840006,
          -38081.908763330124,
          -38128.31107616995,
          -38120.45069090789,
          -37919.75400130158,
          -37950.81554298359,
          -47107.03900924782,
          -47168.782093245514,
          -47107.03900924782,
          -47107.03900924782,
          -47168.782093245514,
          -41156.65263814639,
          -41156.65263814639,
          -41156.65263814639,
          -41156.65263814639,
          -41156.65263814639,
          -5174.792221780141,
          -4684.879660591863,
          -5174.792221780141,
          -4557.361381803425,
          -5174.792221780141,
          -77850.13270488239,
          -90373.69051342121,
          -92976.40002548204,
          -80108.5052628767,
          -91530.18754361609,
          -164386.49451910236,
          -167666.29608131386,
          -166658.89918470883,
          -166681.03085668394,
          -163802.6251275413,
          -28714.7076754639,
          -28714.7076754639,
          -28714.7076754639,
          -28714.7076754639,
          -28714.7076754639,
          -32579.265866804555,
          -33457.131032879326,
          -32382.144118756372,
          -33634.830402389794,
          -32935.016931909995,
          -14466.317126014435,
          -14458.583407207796,
          -14458.583407207796,
          -14458.583407207796,
          -14466.317126014435,
          -29902.375112575253,
          -30519.80595255198,
          -30519.80595255198,
          -31794.988740436318,
          -29902.375112575253,
          -61780.52382580209,
          -61718.780741804425,
          -61657.03765780676,
          -61657.03765780676,
          -61718.780741804425,
          -6169.0965215148935,
          -6230.839605512568,
          -7436.545590592602,
          -7444.279309399238,
          -7452.01302820588,
          -35523.29435277601,
          -35536.046180654856,
          -35523.29435277601,
          -35523.29435277601,
          -35597.78926465252,
          -22836.825865380302,
          -30518.857467912952,
          -33548.361283608836,
          -32176.595092162606,
          -32002.674500534333,
          -34544.6017053274,
          -35132.36433463204,
          -34853.950457593004,
          -34474.99823606765,
          -34505.933111294195,
          -35092.753960297814,
          -35141.745216416646,
          -35083.8689918223,
          -35096.62081970114,
          -35154.49704429549,
          -76704.45001812471,
          -56751.455496993534,
          -76395.1012658591,
          -64338.23364630738,
          -48777.99140734772,
          -53243.825878105104,
          -53182.08279410743,
          -53243.825878105104,
          -53243.825878105104,
          -53243.825878105104,
          -15342.06761247178,
          -15724.622448837084,
          -13939.366545798983,
          -17038.060720357957,
          -13429.293430645244,
          76111.8552937783,
          76111.8552937783,
          76111.8552937783,
          76111.8552937783,
          76111.8552937783,
          82143.18390417895,
          82081.44082018128,
          81953.92254139282,
          82143.18390417895,
          82143.18390417895,
          -7317.989536977058,
          -7410.66749620129,
          -7348.924412203626,
          -7348.924412203626,
          -7244.4806233796635,
          -10573.568516877898,
          -3757.7148307347743,
          -2996.5204655036423,
          -7358.896038205897,
          -6078.215881103064,
          -44568.776128480655,
          -44568.776128480655,
          -44568.776128480655,
          -43951.34528850395,
          -43951.34528850395,
          -31922.711598776117,
          -31922.711598776117,
          -31922.711598776117,
          -31922.711598776117,
          -31922.711598776117,
          70333.4387463558,
          70950.86958633251,
          71994.04081001767,
          70333.4387463558,
          71028.20677439892,
          -8248.880616429073,
          -8241.146897622431,
          -8248.880616429073,
          -8241.146897622431,
          -8241.146897622431,
          -41849.80174631077,
          -42931.69106061593,
          -41080.65996278706,
          -40763.88032121252,
          -40508.843763635654,
          -38350.06510828102,
          -35606.406058933135,
          -38222.54682949258,
          -38284.28991349027,
          -35988.96089529845,
          -21171.739648556817,
          -21171.739648556817,
          -21171.739648556817,
          -21171.739648556817,
          -19896.556860672466,
          2295.8971753323017,
          2299.764034735619,
          2283.1453474534574,
          2904.4430468334976,
          1638.1452274246762,
          -28778.638126037746,
          -28917.845064557267,
          -32243.217484957007,
          -28882.95524840626,
          -28882.95524840626,
          -25648.984490332616,
          -26886.379499395018,
          -18977.554272291487,
          -15827.38508140258,
          -23638.217600606215,
          -91104.5382345648,
          -91042.7951505671,
          -91104.5382345648,
          -91104.5382345648,
          -91104.5382345648,
          -35882.667705690226,
          -34607.48491780588,
          -35882.667705690226,
          -33990.05407782915,
          -35265.2368657135,
          -42600.63438472946,
          -42043.67996419595,
          -42291.28563246388,
          -42523.29719666307,
          -42445.96000859667,
          -4201.073375701001,
          -4587.759316033001,
          -3560.1821964165824,
          -1882.7193641315105,
          12376.302866795548,
          -32680.884227896742,
          -32553.365949108294,
          -32553.365949108294,
          -32553.365949108294,
          -32553.365949108294,
          78923.99281475438,
          78923.99281475438,
          78985.73589875206,
          78923.99281475438,
          78923.99281475438,
          -7008.838293916733,
          -9559.20386968543,
          -8941.773029708722,
          -9599.524977616351,
          -7666.59024182437,
          -2043.7518290818425,
          -1982.008745084169,
          -2043.7518290818425,
          -2043.7518290818425,
          -1982.008745084169,
          -49689.50759359613,
          -41182.41690629214,
          -36348.84265214214,
          -48916.13571293213,
          -45822.648190276144,
          -39122.78707581603,
          -39122.78707581603,
          -39045.44988774962,
          -39200.124263882426,
          -39200.124263882426,
          -84685.58789263219,
          -110617.68317165422,
          -72398.71417709555,
          -88444.1822976835,
          -111296.85709562861,
          -6376.725343615174,
          -6558.25298759464,
          -6571.004815473479,
          -6631.761901192044,
          -6381.743452687385,
          -39053.35010914895,
          -43115.25951863953,
          -39839.4738176918,
          -38697.12514933467,
          -39650.67506188917,
          -28936.6970745014,
          -28936.6970745014,
          -28874.953990503724,
          -28936.6970745014,
          -28936.6970745014,
          31131.664817371635,
          31131.664817371635,
          31131.664817371635,
          31131.664817371635,
          31069.92173337396,
          -31582.3240427138,
          -31582.3240427138,
          -31582.3240427138,
          -31582.3240427138,
          -31582.3240427138,
          -38965.31603729644,
          -37290.519050552655,
          -39266.29773847815,
          -36989.53734937095,
          -37236.50968536163,
          -45112.27926167579,
          -44434.416328700536,
          -44408.91267294284,
          -45110.263206279255,
          -44689.4528862774,
          -43051.07003719749,
          -42337.05579365892,
          -42962.093685986816,
          -42580.4531880915,
          -43174.6828716483,
          -14201.69606753935,
          -18664.835825134567,
          -17941.30868243617,
          -20746.710815781742,
          -20746.710815781742,
          -37815.48113306666,
          -38618.14122503641,
          -38556.39814103872,
          -39235.57206501311,
          -38185.93963705271,
          -59680.70071793168,
          -61536.793231525255,
          -60702.94493141808,
          -59850.9691981332,
          -61536.793231525255,
          23391.80133503803,
          23519.319613826465,
          23391.80133503803,
          23519.319613826465,
          23511.585895019827,
          -59835.147709492936,
          -57986.788914705976,
          -60770.046869885125,
          -58211.06676009854,
          -63507.78332743568,
          -40970.01293752823,
          -40970.01293752823,
          -40970.01293752823,
          -40970.01293752823,
          -40970.01293752823,
          -36005.374057953304,
          -36268.320497379056,
          -37320.10625508209,
          -35773.3624937541,
          -35773.3624937541,
          -17730.607756037087,
          -19005.790543921437,
          -19067.533627919118,
          -19005.790543921437,
          -17730.607756037087,
          -15955.8119862058,
          -9811.909610983252,
          -13204.49638791991,
          -27664.468641364143,
          -26311.948665413394,
          163648.85759191596,
          163478.8919412121,
          163548.49541047186,
          163606.41022000054,
          163420.97713168344,
          -33455.90898401365,
          -33455.90898401365,
          -33455.90898401365,
          -33455.90898401365,
          -33455.90898401365,
          -39045.343659466445,
          -39107.08674346411,
          -39107.08674346411,
          -39107.08674346411,
          -39107.08674346411,
          -20592.016571384833,
          -21575.873804554478,
          -20468.530403389483,
          -20715.50273938017,
          -21579.905915347576,
          -72288.41723929634,
          -30035.0541612657,
          -90636.29444201998,
          -29804.892605374444,
          -29298.785082608294,
          39844.18376928939,
          35763.59884805947,
          48642.94500569141,
          32065.56876319485,
          48642.94500569141,
          15509.12156564644,
          16784.30435353078,
          16784.30435353078,
          15447.378481648766,
          16784.30435353078,
          -6209.29581749569,
          -5684.51560337872,
          -5799.282054288314,
          -6185.967994620315,
          -6148.538731777129,
          -36183.97392929282,
          -36647.99705769122,
          -36106.63674122643,
          -35874.62517702723,
          -35580.743862374904,
          -13849.870252210123,
          -15063.309956096804,
          -13170.696328235737,
          -13170.696328235737,
          -13232.439412233414,
          -38801.574715824485,
          -39512.30046174619,
          -38843.862310254124,
          -33040.42006548334,
          -32680.041838480047,
          -73712.56693106402,
          -73712.56693106402,
          -73712.56693106402,
          -73712.56693106402,
          -73712.56693106402,
          -20699.509412820236,
          -20637.76632882256,
          -20699.509412820236,
          -20699.509412820236,
          -20637.76632882256,
          -35125.03530706693,
          -35782.40140563134,
          -35898.407187730925,
          -35434.38405933253,
          -35009.02952496733,
          -18957.185970182865,
          -16302.233358282989,
          -17722.324290229437,
          -18401.49821420382,
          -19574.616810159583,
          -23730.412409502933,
          -14294.059779158753,
          -26091.51662248552,
          -11488.657645813186,
          -28945.910011949927,
          -41884.727174968495,
          -41679.87170811368,
          -41849.83735881749,
          -41807.38998690208,
          -41815.12370570873,
          -45005.87415649528,
          -43709.26939254417,
          -45993.763500458015,
          -44388.44331651856,
          -43832.75556053952,
          -31483.61758287124,
          -31483.61758287124,
          -31483.61758287124,
          -31483.61758287124,
          -31483.61758287124,
          -20303.817116165977,
          -20303.817116165977,
          -20303.817116165977,
          -20303.817116165977,
          -20303.817116165977,
          -70927.71500317285,
          -65576.10825543343,
          -56937.54434841656,
          -117306.82668659286,
          -53403.23485378209,
          -30434.49121320892,
          -30434.49121320892,
          -30279.816837076112,
          -30434.49121320892,
          -30674.236496214748,
          -33644.24003500172,
          -33656.99186288055,
          -33707.99917439594,
          -33759.006485911304,
          -33707.99917439594,
          -91114.72078830808,
          -91604.63334949638,
          -91793.89471228246,
          -91114.72078830808,
          -91666.37643349404,
          304339.3668558748,
          211593.31751314647,
          370799.2385227565,
          317202.74400790286,
          347629.77326581057,
          -66657.87308740945,
          -66657.87308740945,
          -66796.9533594735,
          -66657.87308740945,
          -67431.24496807341,
          -26363.331659348023,
          -25745.900819371305,
          -26363.331659348023,
          -26363.331659348023,
          -26363.331659348023,
          -247211.3593166089,
          -247211.3593166089,
          -247211.35931660893,
          -247211.35931660893,
          -247211.3593166089,
          75264.20149393872,
          77913.32623384059,
          78787.5893925991,
          77650.75979378114,
          76616.72146988947,
          -22179.97180547265,
          -20287.35817761158,
          -20904.7890175883,
          -21562.54096549594,
          -21562.54096549594,
          -37670.77682532866,
          -42795.452797135404,
          -42684.718457018906,
          -40461.967433102735,
          -37807.01482120286,
          -50730.21940441881,
          -57407.97246032595,
          -52985.42530102692,
          -51721.27540976774,
          -58122.76791837849,
          -49436.45067370088,
          -48572.047497733474,
          -47398.92890177773,
          -46719.75497780332,
          -47892.87357375909,
          29523.24228141201,
          29523.24228141201,
          29461.49919741433,
          29461.49919741433,
          29461.49919741433,
          893.634054178311,
          -495.585335769305,
          801.0194281818037,
          584.9186341899541,
          -804.3007557576534,
          -3451.9044422864945,
          -3517.514385687486,
          -3517.514385687486,
          -3513.647526284162,
          -3513.647526284162,
          -14750.112629874546,
          -14096.227541370226,
          -14750.112629874546,
          -13471.062982586876,
          -13478.796701393521,
          -160146.82885526423,
          -160146.82885526423,
          -160146.82885526423,
          -159521.66429648089,
          -159537.13173409415,
          -101495.89790876622,
          -101495.89790876622,
          -102113.32874874292,
          -102113.32874874292,
          -102113.32874874292,
          -53568.437135815046,
          -53568.437135815046,
          -53568.437135815046,
          -53568.437135815046,
          -53568.437135815046,
          -30036.657048194855,
          -30654.08788817157,
          -30036.657048194855,
          -30036.657048194855,
          -30654.08788817157,
          15101.299536338413,
          17651.665112107108,
          16121.445766645897,
          16376.48232422276,
          17651.665112107108,
          -28291.74212027671,
          -28361.345589536464,
          -28430.94905879623,
          -29040.64617996631,
          -28291.74212027671,
          -41194.62860022398,
          -42293.21216278848,
          -41827.19742352506,
          -41379.5283979281,
          -45338.62949290253,
          -45164.146433590104,
          -45719.83418956915,
          -45164.146433590104,
          -45164.146433590104,
          -45781.57727356682,
          -9420.310628763042,
          -10682.741588768555,
          -9509.573423914948,
          -9216.281382701553,
          -10229.018886922418,
          -42187.81821554018,
          -42126.07513154253,
          -42187.81821554018,
          -42138.82695942137,
          -42126.07513154253,
          6409.434820721059,
          8088.594421037473,
          128.17634714128857,
          10870.558522919746,
          10100.05617949906,
          -21288.10984728527,
          -22088.847511594617,
          -21303.577284898543,
          -20805.93100490363,
          -21948.577404927342,
          11617.549670776432,
          10342.366882892087,
          11015.586268413002,
          10350.10060169873,
          11000.118830799718,
          -36520.71089603244,
          -36520.71089603244,
          -36520.71089603244,
          -36520.71089603244,
          -36520.71089603244,
          -42904.58069912944,
          -40743.572759210954,
          -40990.54509520164,
          -40064.39883523656,
          -40990.54509520164,
          -36937.3183799474,
          -36937.3183799474,
          -36875.57529594975,
          -36937.3183799474,
          -36937.3183799474,
          40225.84848679427,
          37817.868210885084,
          35511.952126904485,
          42180.205198653006,
          32384.476819089985,
          -30186.252820187445,
          -28404.698525162898,
          -28643.93714234695,
          -28396.964806356264,
          -27787.267685186187,
          24846.158162971442,
          24866.643709656928,
          24838.4244441648,
          26113.607232049155,
          24838.4244441648,
          -34162.143678009386,
          -31122.79218699987,
          -29460.04264357228,
          -29119.759016080116,
          -32862.878918493865,
          -55549.52054586613,
          -50584.47307200327,
          -57707.22809291868,
          -57250.93868332694,
          -56036.74483068445,
          -35903.18042854407,
          -35656.20809255339,
          -36705.8405205138,
          -36705.8405205138,
          -35841.4373445464,
          -37697.23603680772,
          -37697.23603680772,
          -37697.23603680772,
          -37758.97912080539,
          -37697.23603680772,
          -40414.32518154918,
          -40290.83901355386,
          -44057.16713741181,
          -44057.16713741181,
          -40167.352845558504,
          -28810.834517314466,
          -28938.35279610291,
          -29894.739887016178,
          -29894.739887016178,
          -28938.35279610291,
          -35139.92189039642,
          -35139.92189039642,
          -35139.92189039642,
          -35139.92189039642,
          -35139.92189039642,
          -39196.51657548621,
          -37158.99480356305,
          -39937.43358345826,
          -38146.884147525794,
          -37714.68255954209,
          -38735.84316764364,
          -38735.84316764364,
          -38797.5862516413,
          -38735.84316764364,
          -38735.84316764364,
          8023.736031947427,
          24601.112274443978,
          6748.553244063078,
          50104.76803213099,
          56480.68197155273,
          -36511.57966943317,
          -38065.28661525552,
          -37338.43242616144,
          -38078.03844313437,
          -37644.476295253684,
          -36775.21311450566,
          -37145.671618491695,
          -36898.69928250101,
          -36651.726946510316,
          -38565.76255043814,
          -48480.58683185041,
          -48480.58683185041,
          -48480.58683185041,
          -48480.58683185041,
          -48480.58683185041,
          -32077.994541141037,
          -32205.51281992947,
          -32077.994541141037,
          -32077.994541141037,
          -32205.51281992947,
          -28992.89878111547,
          -28992.89878111547,
          -29054.641865113153,
          -29054.641865113153,
          -28865.38050232704,
          -36289.20599765503,
          -36235.196632464,
          -36150.25239204641,
          -36165.71982965969,
          -36165.71982965969,
          -50497.193198650275,
          -50558.93628264794,
          -50497.193198650275,
          -50497.193198650275,
          -50497.193198650275,
          53625.14589982543,
          52758.96939348175,
          53741.151681925025,
          53663.81449385864,
          53030.91621626863,
          -19245.440256707698,
          -19258.19208458655,
          -18580.32915161129,
          -18707.84743039973,
          -19319.93516858422,
          -28000.991214265094,
          -29214.430918151782,
          -30933.911626399098,
          -29724.504033305522,
          -29403.69228093788,
          -33933.470560618625,
          -33216.0411530077,
          -34971.71172059718,
          -34232.20484141994,
          -33680.49962733614,
          -32074.900443209153,
          -32136.643527206823,
          -32009.12524841838,
          -32136.643527206823,
          -32136.643527206823,
          -35028.55633958081,
          -35032.423198984136,
          -35028.55633958081,
          -35028.55633958081,
          -35028.55633958081,
          11060.231803622413,
          10904.290762935121,
          11060.231803622413,
          11060.231803622413,
          10286.859922958409,
          36293.12737033922,
          36231.38428634155,
          36231.38428634155,
          36293.12737033922,
          36293.12737033922,
          -29243.07602559413,
          -29235.342306787483,
          -29235.342306787483,
          -29235.342306787483,
          -29243.07602559413,
          -69663.5937399668,
          -70033.39674845323,
          -70663.57941630883,
          -69987.73253873011,
          -70638.07576055112,
          -69283.8355578766,
          -68950.10623815056,
          -70574.18718754496,
          -82223.52653242585,
          -83412.16040656736,
          -43375.156714913384,
          -43305.67991210907,
          -43367.42299610674,
          -43367.42299610674,
          -43305.67991210907,
          8764.010363284986,
          -49529.5251521031,
          6126.447616658769,
          15740.978855021867,
          6126.447616658769,
          -12104.237985544965,
          -9553.872409776266,
          -4963.214373392613,
          -13124.38421585245,
          -13379.420773429321,
          -47574.716679167774,
          -47574.716679167774,
          -47574.716679167774,
          -47574.716679167774,
          -47574.716679167774,
          -9572.928216594199,
          -5587.915551408867,
          -7522.6119176233515,
          -25084.620662948284,
          -4057.520042905402,
          -121784.1411608102,
          -126695.93341823785,
          -114399.32051568032,
          -26034.648429288216,
          -25417.2175893115,
          -26034.648429288216,
          -26034.648429288216,
          -25417.2175893115,
          59159.40857458928,
          53749.874674700026,
          43413.996894687785,
          57884.22578670493,
          52740.4369489241,
          52431.0881966585,
          52061.263024949716,
          51443.19885269577,
          52431.0881966585,
          3499.605240832322,
          3627.1235196207604,
          3499.605240832322,
          3627.1235196207604,
          3627.1235196207604,
          -46507.376756176986,
          -44346.36881625848,
          -45581.230496211916,
          -45210.77199222589,
          -45581.230496211916,
          -13461.012987449658,
          -13546.083894322699,
          -13515.149019096138,
          -13720.004485950967,
          -13673.60217311113,
          -51424.12898539258,
          -51569.802978164254,
          -52227.042410273214,
          -52799.33760196458,
          -52466.787693279046,
          -37222.95930997129,
          -36952.91248401613,
          -37284.702393968975,
          -36848.63394658195,
          -37199.884820006824,
          -101854.7997333114,
          -93121.81369170012,
          -93121.81369170012,
          -98921.8793211774,
          -98605.09967960285,
          3292.8759894117225,
          3292.8759894117225,
          3910.3068293884453,
          3292.8759894117225,
          3292.8759894117225,
          -36779.646440446355,
          -36779.646440446355,
          -36779.646440446355,
          -36779.646440446355,
          -36779.646440446355,
          -36815.09887650654,
          -37679.50205247396,
          -38358.67597644833,
          -38358.67597644833,
          -37370.78663248559,
          51123.88323468143,
          57373.56678397981,
          59439.97598463236,
          51710.0075038983,
          55995.449746644845,
          93809.8683837295,
          93809.8683837295,
          93809.8683837295,
          93809.8683837295,
          93809.8683837295,
          -37015.28890029105,
          -36583.087312307354,
          -38373.63674823982,
          -37015.28890029105,
          -37015.28890029105,
          -40716.40277778648,
          -41468.76062263828,
          -41184.89336290801,
          -41419.76936651943,
          -41098.957614151805,
          -20807.38965380882,
          -21518.891784019695,
          -20876.99312306858,
          -20753.25362216233,
          -21085.803530847857,
          -20752.2576741895,
          -20690.514590191837,
          -20752.2576741895,
          -20690.514590191837,
          -20690.514590191837,
          -16770.727124715657,
          -16836.502319506417,
          -16388.172288350346,
          -15892.988625096343,
          -16836.502319506417,
          38899.677245037485,
          41322.524542017745,
          38772.158966249044,
          38772.158966249044,
          38772.158966249044,
          87024.74873019905,
          81907.80647719896,
          84431.53920229683,
          87773.39945697773,
          83698.3559131314,
          -28019.884546825575,
          -29217.73014664353,
          -27402.45370684886,
          -27942.547358759177,
          -29295.067334709925,
          -42652.537185578054,
          -42652.537185578054,
          -42714.28026957573,
          -42652.537185578054,
          -42652.537185578054,
          80497.62995876012,
          76386.10467388196,
          68755.13533883779,
          75940.92105740975,
          71291.8953156367,
          -38159.11928494109,
          -38159.11928494109,
          -38159.11928494109,
          -38159.11928494109,
          -38159.11928494109,
          -26340.989567145432,
          -30273.141022326203,
          -28972.454578684163,
          -26649.704987133784,
          -26407.590982729533,
          -31874.62773261915,
          -32002.146011407593,
          -31874.62773261915,
          -31874.62773261915,
          -32257.182568984448,
          -34715.34072791189,
          -34715.34072791189,
          -34715.34072791189,
          -34715.34072791189,
          -34715.34072791189,
          24952.40101965787,
          24952.40101965787,
          24952.40101965787,
          24952.40101965787,
          24952.40101965787,
          13636.54352874889,
          11703.984999621762,
          11457.012663631087,
          12506.645091591503,
          12012.700419610128,
          -38043.67578283329,
          -44835.41502257715,
          -67680.3561017156,
          -38030.92395495443,
          -38030.92395495443,
          20258.905266262675,
          17394.707508177198,
          19020.975578179266,
          17498.37457279461,
          18234.317190615417,
          -27571.598451523583,
          -27819.07745333607,
          -27357.64326821666,
          -27757.0810364275,
          -27772.548474040777,
          -32760.578943585057,
          -32771.028272126125,
          -32760.578943585057,
          -32763.29455331949,
          -32760.578943585057,
          130031.90685648176,
          130649.33769645846,
          140843.0662807266,
          127485.40814011636,
          130641.60397765182,
          -19091.68881550684,
          -19346.72537308372,
          -19219.207094295274,
          -19346.72537308372,
          -19219.207094295274,
          -60436.423571142615,
          -60436.423571142615,
          -60436.423571142615,
          -60436.423571142615,
          -60498.16665514029,
          -29913.68559973522,
          -35984.65486294761,
          -22049.374388593602,
          -33232.331782995025,
          -27005.807328438583,
          -7944.343344477766,
          -7944.343344477766,
          -7944.343344477766,
          -7944.343344477766,
          -7944.343344477766,
          -15609.387634916015,
          -15609.387634916015,
          -15609.387634916015,
          -15609.387634916015,
          -15609.387634916015,
          -208572.1346202382,
          -208386.90536824524,
          -207152.04368829174,
          -208942.59312422422,
          -211350.5734001334
         ],
         "yaxis": "y"
        },
        {
         "hovertemplate": "color=1<br>PC1=%{x}<br>PC2=%{y}<extra></extra>",
         "legendgroup": "1",
         "marker": {
          "color": "#EF553B",
          "symbol": "circle"
         },
         "mode": "markers",
         "name": "1",
         "showlegend": true,
         "type": "scattergl",
         "x": [
          630562.2955528321,
          627311.181998388,
          629723.2985065241,
          628779.4268294272,
          625733.0171341056,
          485820.7482280565,
          484242.5833637741,
          484242.5833637741,
          484242.5833637741,
          485978.5647144846,
          396180.3552663424,
          354671.2275665936,
          368804.690649329,
          393732.73811768234,
          388319.7165248975,
          165266.1382003176,
          165066.00540459828,
          165066.00540459828,
          163160.27132939154,
          164910.84104152882,
          122882.69823562019,
          122632.21862996084,
          124063.41583893169,
          125917.97275540994,
          122354.22927226748,
          228633.13117194583,
          228633.13117194583,
          228615.89068716034,
          228615.89068716034,
          230211.2960362282,
          55857.57816771282,
          55857.57816771282,
          55685.17331985785,
          55857.57816771282,
          55857.57816771282,
          284006.3235126752,
          283999.427318761,
          284216.65742705826,
          284102.87022747396,
          285681.0350917563,
          -299.6597294006635,
          -457.4762158289299,
          445474.958852293,
          444054.6104744389,
          443896.79398801073,
          443896.79398801073,
          443896.79398801073,
          62498.486159903456,
          51032.94327844805,
          92139.83373240958,
          84503.63544808279,
          69485.63275956955,
          204980.03448276376,
          39272.723733122824,
          415783.28904805094,
          415467.6560751944,
          414836.39012948156,
          414047.30769734044,
          417361.4539123331,
          769734.5381303929,
          769734.5381303929,
          768156.3732661105,
          769576.7216439646,
          767998.5567796825,
          241636.11314749235,
          241609.9720578869,
          240887.30341897157,
          241912.5216289147,
          241705.7909476721,
          -378223.71728324465,
          141566.18732375817,
          149471.6000065964,
          140234.6934931903,
          148709.1742752318,
          140005.26294426134,
          595856.1382679689,
          597434.3031322511,
          595683.7334201139,
          595856.1382679689,
          595856.1382679689,
          133031.8230155931,
          139674.70380700548,
          141080.4638234328,
          139516.88732057723,
          126786.69377553035,
          299259.9947648163,
          299259.9947648163,
          299259.9947648163,
          299259.9947648163,
          299259.9947648163,
          219070.54833349222,
          258871.86621069172,
          263764.1772899668,
          219070.54833349222,
          262028.19593925634,
          538607.0974400779,
          540185.26230436,
          540185.26230436,
          538607.0974400779,
          538607.0974400779,
          637873.1994919891,
          573848.2307992931,
          474048.3512913476,
          628274.6372382848,
          604921.1340639702,
          199993.8604440136,
          195103.2734132171,
          204086.60162806878,
          198731.3285525878,
          187801.664277154,
          265196.45565452334,
          272419.0094663735,
          277806.2581324748,
          259939.44227139401,
          279109.5066809765,
          128985.02580932177,
          128985.02580932177,
          128967.78532453628,
          129089.90044011027,
          128985.02580932177,
          273796.4097807636,
          273638.5932943354,
          273796.4097807636,
          273796.4097807636,
          274687.3396022206,
          581171.4114312598,
          581171.4114312599,
          579593.2465669775,
          579593.2465669776,
          579593.2465669776,
          595762.5638437205,
          595745.3233589351,
          595762.5638437205,
          595762.5638437205,
          595604.7473572923,
          204851.87687604007,
          205627.69869138743,
          206395.56077075138,
          204886.3578456111,
          207323.8948258095,
          85304.48130795704,
          80477.14556801786,
          525525.3168742883,
          525350.2599030745,
          525525.3168742883,
          525508.0763895026,
          525508.0763895026,
          541034.8399975536,
          541192.6564839818,
          541034.8399975536,
          541034.8399975536,
          541175.4159991964,
          765043.2140021182,
          766463.5623799723,
          766621.3788664003,
          766621.3788664003,
          765215.6188499731,
          222182.8082633224,
          222182.8082633224,
          222340.62474975063,
          222182.8082633224,
          222182.8082633224,
          616200.5048835183,
          616200.5048835183,
          616200.5048835183,
          616200.5048835183,
          616200.5048835183,
          855235.0850622354,
          815298.9829561671,
          882821.7944874562,
          818598.052872989,
          772316.4320170187,
          54587.28233123717,
          52713.83151966955,
          52696.59103488403,
          52713.83151966955,
          52713.83151966955,
          88760.72662136983,
          297317.8827588177,
          297312.6390272782,
          297475.6992452458,
          297475.6992452458,
          297317.8827588177,
          515871.6102836736,
          536951.4110721666,
          527512.6943011996,
          520171.4701460031,
          500140.41566539527,
          315754.3230654743,
          274734.64687237534,
          258071.55208330855,
          309823.89539865835,
          285701.00626881974,
          269353.33922993514,
          269520.3020171657,
          268304.5929220499,
          266411.40750723216,
          274067.2555547943,
          335639.34759336663,
          335663.9971410175,
          357582.425279075,
          337032.8792735081,
          346883.9598852031,
          131354.52532029527,
          92043.0171622884,
          56196.346423370356,
          91458.58060217933,
          54574.21381515373,
          254062.77773720236,
          253627.74634851512,
          253088.2802929002,
          255205.9112127972,
          252589.48750370866,
          120417.45209256207,
          111116.76685637541,
          111933.71531965066,
          105147.60640323677,
          102743.14844579191,
          462818.87178818794,
          481369.69410401717,
          626882.7586218601,
          574594.1265396137,
          330454.59954424493,
          212232.81072471556,
          221856.96427347884,
          330735.75154753035,
          269053.4988605848,
          307706.72642381745,
          201344.06585260807,
          180762.49690287316,
          207416.29387076662,
          190793.49930736396,
          172159.61518566564,
          173720.53956516244,
          172159.61518566564,
          172176.85567045113,
          172176.85567045113,
          207696.26312242693,
          207538.44663599873,
          207540.17068447726,
          207538.44663599873,
          207696.26312242693,
          310720.89984942717,
          311779.99044818373,
          310672.62649202783,
          307485.01040488697,
          311874.01714090566,
          105820.78164801936,
          103770.37067282198,
          103942.77552067698,
          105648.37680016439,
          105631.13631537888,
          579289.2432965805,
          580118.5106147629,
          592071.4506223869,
          576255.3210099929,
          580938.0941484832,
          102670.13141570003,
          99242.99040252085,
          94577.45774881593,
          99496.56120234993,
          89763.39272339205,
          369672.75793244026,
          366703.4214131573,
          366688.8330517306,
          368266.9979160129,
          366688.8330517306,
          62085.58550313714,
          62085.58550313714,
          62068.34501835165,
          62068.34501835165,
          62068.34501835165,
          862128.1444001056,
          862145.384884891,
          862128.1444001056,
          862128.1444001056,
          862145.384884891,
          445525.8595856727,
          425436.81784697075,
          471744.5172828033,
          524181.83267706435,
          293035.0165163759,
          293024.52905329707,
          291629.2564999486,
          291618.76903686975,
          291618.76903686975,
          157260.89128113393,
          157275.47964256062,
          157275.47964256062,
          157433.29612898888,
          157275.47964256062,
          355727.7802240088,
          361934.35474678775,
          364003.2129210474,
          355890.90432306164,
          352969.30265832925,
          355156.89412076917,
          359642.2853128943,
          341042.98334990046,
          375920.7370577733,
          417220.39200703404,
          62794.86308588498,
          42087.3448454957,
          3601.8902644080204,
          34072.47186967617,
          45809.2731842816,
          339675.68169961957,
          339106.74570169824,
          338917.1003690577,
          339313.6315191242,
          339417.07442783716,
          516976.4097851931,
          509101.3166584,
          504214.2493106642,
          510783.71786052466,
          505823.87656418316,
          495609.46912918356,
          465195.8262005121,
          496458.5569804008,
          493417.1926875334,
          483014.4226296521,
          398851.00064670853,
          388262.66528194916,
          404414.91177760874,
          431674.40410623164,
          425154.69349572575,
          59742.01841343419,
          203314.22777823836,
          136161.7071524918,
          125707.00099473202,
          159220.80378299614,
          449202.3982306774,
          449307.272861466,
          449360.21471710555,
          449202.3982306774,
          449307.272861466,
          132394.0735299104,
          132221.6686820555,
          133972.23839419268,
          132221.6686820555,
          132394.0735299104,
          507910.9074169715,
          505832.76849390985,
          503875.3129643465,
          505625.88267648395,
          507566.0977212615,
          157845.15324702745,
          159355.78789424335,
          158189.96294273742,
          159213.56884973278,
          161001.48297559202,
          508718.42731179163,
          519401.8071327936,
          510307.7324405436,
          507706.1432864119,
          518571.61173973104,
          657431.1317586299,
          658314.8940392081,
          604971.986737915,
          559965.7043216942,
          675674.7075463133,
          112625.94768535576,
          112349.95229132967,
          111068.75774723117,
          112274.81600129916,
          112348.2282428511,
          208060.64501511247,
          207943.98089066398,
          207578.66167734645,
          205847.1697607412,
          209990.273645237,
          375422.2713122901,
          373844.10644800775,
          375422.2713122901,
          375422.2713122901,
          375422.2713122901,
          89872.4213147355,
          89872.4213147355,
          90030.23780116376,
          89925.36317037526,
          90030.23780116376,
          390508.38752314844,
          390508.38752314844,
          398002.19076941896,
          396128.73995785136,
          392381.83833471604,
          495303.6592367843,
          495303.6592367843,
          495303.6592367843,
          495303.6592367843,
          495461.47572321247,
          477630.87636329286,
          477815.48522398004,
          477620.38890021417,
          477458.47151543805,
          477458.47151543805,
          38418.525795246496,
          38157.266400105305,
          38208.98785446179,
          38263.36143217702,
          38470.24724960298,
          82192.80614548578,
          81259.42193146789,
          82623.62875374978,
          79802.5011855385,
          83687.90792716829,
          408651.9898912376,
          409399.2127614994,
          408748.52464206045,
          408983.29354353424,
          409134.72346523154,
          184244.44185258498,
          184293.51118358274,
          184451.32767001088,
          184451.32767001088,
          184192.72039822847,
          235874.31324933688,
          235806.78303227032,
          235177.53524753926,
          235424.62892283828,
          235597.03377069338,
          538951.4787062961,
          435813.2680996667,
          556891.5982560235,
          530352.4220424113,
          580920.3339607756,
          999766.4816841644,
          986433.0840974743,
          223274.73563065834,
          288477.91439727106,
          238816.27091614317,
          264320.4759722885,
          280036.78432592243,
          427268.134751927,
          426906.08457143157,
          426923.32505621715,
          425517.5650397897,
          425689.9698876447,
          158406.35261543668,
          158511.22724622523,
          156933.06238194293,
          156828.1877511544,
          156933.06238194293,
          190470.31325979473,
          189839.34142658507,
          54962.1661871465,
          186364.24370143024,
          186720.97258229455,
          185591.44046641732,
          184840.48315478317,
          185244.63832377744,
          116990.27503895779,
          151961.99770203762,
          130947.50687154985,
          139725.15915338605,
          140861.51491276262,
          248464.56530929584,
          201136.85986561258,
          207449.5193227418,
          235856.48687982303,
          218479.43288793234,
          431561.885379001,
          124091.1342981115,
          278400.5992775809,
          344847.7266285965,
          259745.7824093224,
          416421.34211383184,
          392959.69444412895,
          417628.17604881665,
          364512.89454805845,
          406939.0754818082,
          68985.14028834166,
          68985.14028834166,
          68985.14028834166,
          69157.54513619668,
          68985.14028834166,
          -2430.6098581361944,
          -2272.79337170795,
          -2430.6098581361944,
          -2430.6098581361944,
          -2272.79337170795,
          98995.99410052749,
          100401.75411695479,
          100229.34926909984,
          98823.58925267252,
          100401.75411695479
         ],
         "xaxis": "x",
         "y": [
          108372.86075098116,
          110770.31358103955,
          108991.55825551237,
          109687.59294810994,
          111387.74442101626,
          236396.97943485767,
          237014.41027483434,
          237014.41027483434,
          237014.41027483434,
          236335.23635086,
          89102.57835912016,
          135634.631845628,
          30957.592397936132,
          61168.991498775256,
          20990.703023006554,
          -4894.8166675203975,
          -3484.381882040969,
          -3484.381882040969,
          -444.1037450839901,
          -2336.7173729450565,
          91031.08417601841,
          91149.67890139698,
          90571.74287624683,
          89215.62647535041,
          91320.23382553973,
          193609.60537222296,
          193609.60537222296,
          193737.12365101138,
          193737.12365101138,
          192992.17453224622,
          158378.24473851087,
          158378.24473851087,
          159653.42752639521,
          158378.24473851087,
          158378.24473851087,
          -62316.42209396433,
          -62265.414782448934,
          -63872.145095183216,
          -63030.52445517955,
          -63647.95529515625,
          128508.65799830489,
          128570.40108230255,
          375365.82156351797,
          375921.50931949704,
          375983.25240349484,
          375983.25240349484,
          375983.25240349484,
          175236.3349464382,
          162380.6847175569,
          182933.22922777515,
          168903.76311409555,
          160667.1195698315,
          24798.035276046947,
          89628.27347360202,
          110836.46268870629,
          110959.94885670164,
          111206.9211926923,
          111515.63661268067,
          110219.03184872957,
          239563.5321838321,
          239563.5321838321,
          240180.9630238088,
          239625.27526782983,
          240242.7061078065,
          91898.90045746775,
          91114.5445692417,
          97158.08476302016,
          91809.87460967028,
          91732.71358464612,
          769920.4782660992,
          -22942.119921745638,
          -27242.713825515897,
          -21938.10213461053,
          -28236.700904566118,
          -22452.207360557357,
          198949.42698605702,
          198331.99614608032,
          200224.60977394134,
          198949.42698605702,
          198949.42698605702,
          177.6744166291368,
          -3628.9748151597514,
          -2971.222867252111,
          -3567.2317311620773,
          1449.5521767180417,
          219505.2450967625,
          219505.2450967625,
          219505.2450967625,
          219505.2450967625,
          219505.2450967625,
          -90110.89759982441,
          -105682.50338403718,
          -107596.53898796502,
          -90110.89759982441,
          -106917.3650639906,
          -95743.68174382325,
          -96361.11258380002,
          -96361.11258380002,
          -95743.68174382325,
          -95743.68174382325,
          -36965.145346769,
          -5096.6114770188915,
          66215.24922897677,
          -50690.97620205424,
          -2550.144843882107,
          128949.37603525158,
          130850.65981130057,
          127351.78957011875,
          129443.32070723298,
          133710.92401079964,
          -74064.11683229826,
          -77385.73909553871,
          -78888.79710120236,
          -70558.11879891156,
          -90739.27731144108,
          120935.26273319998,
          120935.26273319998,
          121062.78101198841,
          120857.92554513356,
          120935.26273319998,
          -70313.5869843585,
          -70251.84390036081,
          -70313.5869843585,
          -70313.5869843585,
          -71025.21578102479,
          145453.76646441728,
          145453.7664644173,
          146071.197304394,
          146071.19730439404,
          146071.19730439404,
          125136.16292108808,
          125263.68119987655,
          125136.16292108808,
          125136.16292108808,
          125197.90600508577,
          62290.21898073078,
          56551.89643525122,
          61927.82469833094,
          62035.18242315392,
          53955.91621865721,
          135434.49816826923,
          171139.61622903103,
          -64180.146234060136,
          -63990.88487127402,
          -64180.146234060136,
          -64052.62795527169,
          -64052.62795527169,
          8055.318484169258,
          7993.575400171581,
          8055.318484169258,
          8055.318484169258,
          8121.093678960014,
          179795.89490278438,
          179240.2071468053,
          179178.46406280764,
          179178.46406280764,
          178520.71211489997,
          26325.796112605625,
          26325.796112605625,
          26264.053028607956,
          26325.796112605625,
          26325.796112605625,
          197647.46324295242,
          197647.46324295242,
          197647.46324295242,
          197647.46324295242,
          197647.46324295242,
          374388.561164853,
          395692.0159860118,
          368972.129324393,
          411929.7789911867,
          413710.5776029309,
          143972.0160051504,
          144201.70217803956,
          144329.220456828,
          144201.70217803956,
          144201.70217803956,
          42331.05820837456,
          294972.13692009787,
          294976.00377950113,
          294910.3938361002,
          294910.3938361002,
          294972.13692009787,
          -61821.95653771902,
          -77366.73133906542,
          -70406.38441308941,
          -64992.78124844142,
          -50221.378327759005,
          23358.26159789147,
          57308.62833760823,
          65906.46686229025,
          25320.609027318325,
          43120.91411046915,
          11847.161468597502,
          11122.33938053907,
          12620.533349261505,
          14562.96343428262,
          8917.348705435434,
          182444.76769311467,
          190922.13919143553,
          166171.54704539973,
          202656.0141504735,
          188595.14081100727,
          164501.57450168155,
          158785.42391380997,
          169789.63363721804,
          181518.2498643545,
          174315.17163439307,
          275098.206279606,
          274872.66176965897,
          276418.5247157758,
          274255.2309296822,
          275638.2999315163,
          43986.75856323103,
          47621.86680028702,
          48549.918907060695,
          51204.87151896056,
          52103.82309664694,
          61722.25461874005,
          47132.68726936594,
          -62275.99683287872,
          -20122.837957773147,
          -8023.973735988633,
          38349.11445705575,
          33496.86490809955,
          -7892.423346407107,
          16001.819657912221,
          61874.55030794742,
          137030.96340235454,
          147952.3535375832,
          129990.85140987739,
          142368.437566289,
          -58759.23000779466,
          -59249.14256898296,
          -58759.23000779466,
          -58886.74828658311,
          -58886.74828658311,
          85882.76228920363,
          85944.5053732013,
          85931.75354532246,
          85944.5053732013,
          85882.76228920363,
          -61551.80583027573,
          -62401.68867821277,
          -61194.7546496681,
          -58568.595138583856,
          -61991.614130693226,
          89964.84149905785,
          94145.0504263041,
          92869.86763841975,
          91240.02428694219,
          91367.5425657306,
          20665.150077483526,
          14531.520867759802,
          14565.287020695056,
          20994.631978039062,
          19524.894294474238,
          94552.23050789452,
          93718.37696533413,
          95060.59637011054,
          95914.61046663638,
          93079.27630480146,
          -83150.66600038044,
          -84404.42681219804,
          -83190.98710831137,
          -83808.4179482881,
          -83190.98710831137,
          85081.16617610722,
          85081.16617610722,
          85208.68445489563,
          85208.68445489563,
          85208.68445489563,
          421688.07957280497,
          421560.5612940164,
          421688.07957280497,
          421688.07957280497,
          421560.5612940164,
          157251.31163996123,
          171464.49347555553,
          137917.0146233612,
          99248.42059016126,
          150881.59216811165,
          150889.32588691832,
          150223.840220204,
          150231.57393901065,
          150231.57393901065,
          251457.64974993828,
          250244.21004605162,
          250244.21004605162,
          250182.46696205394,
          250244.21004605162,
          86417.03599675883,
          40510.45563292222,
          25208.262178310022,
          74155.1206791036,
          106819.96060290842,
          -28679.268040277133,
          -34609.37663602487,
          -22145.8698524509,
          -26913.879240778504,
          -39158.32511058396,
          266895.2296395421,
          269529.6364942193,
          254177.50519229352,
          247955.93962818044,
          242698.96441633924,
          208926.0714377711,
          213134.1746377895,
          214536.8757044623,
          211603.95529232826,
          210838.8456195977,
          115205.07926433283,
          118280.63288600644,
          120190.8016305309,
          116438.28843038852,
          119550.16963413429,
          132912.17744340905,
          155339.96198266497,
          133378.73390091636,
          135621.51235484198,
          141107.38604933847,
          -175170.10238683806,
          -172141.77053753514,
          -182962.50532227155,
          -195529.15116763365,
          -187636.2836584088,
          108388.88352090691,
          78548.28220548516,
          128286.36729767911,
          135777.8013746211,
          114504.22600420608,
          177310.9143450716,
          177233.5771570052,
          177249.17126107393,
          177310.9143450716,
          177233.5771570052,
          150636.96106889544,
          151912.14385677973,
          150019.53022891874,
          151912.14385677973,
          150636.96106889544,
          351115.35857799783,
          355430.81950283924,
          358853.6524761615,
          356961.03884830046,
          353665.7241537665,
          249158.0759292255,
          249738.4906890667,
          246607.71035345682,
          248695.3194653816,
          247923.21424927204,
          -89805.4133356284,
          -91436.79353302938,
          -91610.7802237341,
          -72368.27195455923,
          -86401.83757628278,
          203020.8960286225,
          194218.77014448703,
          241562.30533116532,
          268274.8345059781,
          187427.03090474312,
          131095.38965619603,
          130741.0875362706,
          131697.35305855944,
          130807.9753957959,
          130753.8393641494,
          208607.55887991688,
          212913.6883110938,
          210657.38021301964,
          216668.8950300594,
          208824.36218939055,
          223802.97588953128,
          224420.40672950796,
          223802.97588953128,
          223802.97588953128,
          223802.97588953128,
          177287.5452069933,
          177287.5452069933,
          177225.80212299564,
          177303.13931106203,
          177225.80212299564,
          169588.69578425967,
          169588.69578425967,
          168669.951092703,
          168899.63726559217,
          169359.0096113705,
          325206.6616303208,
          325206.6616303208,
          325206.6616303208,
          325206.6616303208,
          325144.91854632314,
          376379.5729952869,
          379085.8796117428,
          376387.3067140934,
          377654.7557831712,
          377654.7557831712,
          88602.74156956244,
          89429.59432629071,
          89047.0394899254,
          89750.40607865836,
          88220.18673319712,
          215846.24320826164,
          216534.54418205254,
          216130.24332434157,
          218210.61368332774,
          215891.7647058902,
          -96565.49198057118,
          -100905.06840030244,
          -95603.43672283465,
          -98876.28843637629,
          -100136.00378664737,
          267259.1987825294,
          265790.7225210659,
          265728.9794370681,
          265728.9794370681,
          267641.7536188947,
          361741.92656442977,
          362939.7721642477,
          363403.7952926461,
          364369.6293282649,
          363094.4465403805,
          153770.04883163513,
          181997.103972943,
          186441.84574489668,
          177194.72349118127,
          142822.11536897722,
          148081.81606560087,
          116502.4857277948,
          59029.24769635572,
          60462.37196115353,
          32702.65205285757,
          23159.338248873155,
          86001.94098998627,
          231397.9732572804,
          234075.8571118376,
          233948.33883304914,
          233290.5868851415,
          232015.40409725715,
          107873.22881956055,
          107795.89163149416,
          108413.32247147085,
          108490.65965953727,
          108413.32247147085,
          -127946.0802551791,
          -127469.30529890186,
          41576.507511574506,
          162241.9240750648,
          160371.59726515366,
          167748.41121938746,
          171975.9367979435,
          167659.73769767449,
          1316411.2963096898,
          1207993.1565915963,
          1283268.7662445803,
          1148184.1648229144,
          1165369.6087092776,
          221903.5955521311,
          240299.0024726441,
          237829.27911273728,
          226715.52399315636,
          233634.78151168872,
          -79714.13720478107,
          38188.647046556114,
          -20912.919263564727,
          -45708.78536031102,
          -13712.559591623429,
          38586.11315082565,
          213224.4120069839,
          29659.833635635194,
          423629.5720079017,
          108721.16648446488,
          150138.1435023859,
          150138.1435023859,
          150138.1435023859,
          148862.9607145016,
          150138.1435023859,
          165373.5320287019,
          165311.78894470425,
          165373.5320287019,
          165373.5320287019,
          165311.78894470425,
          183291.5136037141,
          183949.26555162168,
          185224.44833950602,
          184566.6963915984,
          183949.26555162168
         ],
         "yaxis": "y"
        },
        {
         "hovertemplate": "color=2<br>PC1=%{x}<br>PC2=%{y}<extra></extra>",
         "legendgroup": "2",
         "marker": {
          "color": "#00cc96",
          "symbol": "circle"
         },
         "mode": "markers",
         "name": "2",
         "showlegend": true,
         "type": "scattergl",
         "x": [
          884764.194890461,
          879083.784162974,
          872620.0005715737,
          879372.63705798,
          914339.6508289309,
          1522458.3818783876,
          1312364.3106056335,
          1416017.7902384154,
          1522113.572182678,
          1523864.1418948148,
          345262.61278898246,
          345104.7963025542,
          345104.7963025542,
          345420.42927541066,
          345262.61278898246,
          742030.455982238,
          543259.2652642038,
          544837.4301284859,
          545009.8349763409,
          571666.232821285,
          827879.2405474221,
          768680.9679248753,
          877310.9251576018,
          816271.1273759889,
          891016.7247489005,
          1125717.2797828426,
          921875.812625457,
          998732.0999598331,
          645846.1576200905,
          904196.5764923663,
          895049.3561860635,
          707762.1970181983,
          670312.4881164782,
          1026152.2983365324,
          743377.069767616,
          2432055.8225241587,
          1911261.417311001,
          1658597.222539406,
          779973.6684844388,
          786266.1463317503,
          839915.0699227792,
          837654.7154181263,
          770010.5785595292,
          2198029.5278282478,
          2199465.4736480196,
          2198768.695646222,
          2200132.0658464725,
          2198558.946384645,
          1070995.6517278447,
          1093089.9598277968,
          1003134.5625637062,
          1001556.397699424,
          1003134.5625637062,
          774537.3297755038,
          879756.4572865508,
          880229.9067458356,
          873917.2472887062,
          870872.8479367843,
          872840.2598315729,
          426670.6094746305,
          426670.6094746305,
          426670.6094746305,
          426828.42596105876,
          426670.6094746305,
          938278.8078052987,
          531687.7431131189,
          530201.233180627,
          532293.9995968107,
          530053.5556462654,
          533407.4007136355,
          519492.24772819725,
          590852.8749565957,
          532494.6837849921,
          576811.7833968246,
          530009.9832217763,
          647970.9779239905,
          804762.6481416632,
          673155.7641207189,
          736925.6922272472,
          829620.2743054229,
          460390.4328903634,
          460232.61640393524,
          460222.27211306395,
          460232.61640393524,
          460232.61640393524,
          1058216.006276756,
          580032.0523992208,
          709441.5712703689,
          996667.5765697468,
          598970.0307706083,
          1708558.1602643025,
          1709187.4080490335,
          1708028.741707905,
          1706702.7159213766,
          1707294.6192923856,
          495563.4065586851,
          495735.81140654016,
          495721.2230451132,
          495893.6278929683,
          495735.81140654016,
          624513.7232639074,
          624513.7232639074,
          624513.7232639074,
          624355.9067774792,
          624355.9067774792,
          1202830.0305459753,
          1503195.6792864404,
          1335908.0168374772,
          1162463.711993033,
          1178202.2585308417,
          1162652.5613520748,
          1182324.4517112398,
          1170786.6077171937,
          1054772.0611063633,
          978008.8767716194,
          977374.5835844339,
          826045.5367590509,
          872190.3743060003,
          921426.055013599,
          919847.8901493168,
          919847.8901493168,
          919847.8901493168,
          919847.8901493168,
          929510.0752931073,
          924933.3971866887,
          927300.644483112,
          926353.7455645426,
          923355.2323224063
         ],
         "xaxis": "x",
         "y": [
          101908.26127556412,
          97831.19961517917,
          30270.787447034396,
          85219.28332702417,
          70197.695673107,
          -883826.1249641392,
          -726601.3832555709,
          -801890.0166534223,
          -881275.7593883704,
          -883168.3730162316,
          -478585.29946834466,
          -478523.55638434703,
          -478523.55638434703,
          -478647.0425523424,
          -478585.29946834466,
          -386709.5530526952,
          -309487.09947017714,
          -310104.5303101538,
          -311379.713098038,
          -320600.85458975786,
          -365429.704210505,
          -339000.32468962466,
          -411411.9967301765,
          -369709.4753604116,
          -399291.36381223064,
          -316198.7109810679,
          -233174.1003747918,
          -263601.1911821946,
          -125121.6873234701,
          -226591.58021183166,
          -532649.9323542056,
          -412969.17148837907,
          -376138.0668382925,
          -613202.7268410538,
          -385095.8275809697,
          -1010522.7261460006,
          -806770.5489536847,
          -707919.8714734127,
          -275847.6304354389,
          -280487.86171942286,
          -319448.9437362652,
          -318383.0838719588,
          -268500.5975691309,
          -980089.5913720884,
          -981750.1934357502,
          -980088.3247075339,
          -981093.7081523971,
          -979933.6503314011,
          148842.5649488811,
          140198.53318920705,
          175392.0910678798,
          176009.52190785654,
          175392.0910678798,
          -168541.82031277326,
          -167243.85463098323,
          -167429.08388297624,
          -164959.36052306945,
          -163889.06297230299,
          -164662.4109326807,
          -271427.4104228989,
          -271427.4104228989,
          -271427.4104228989,
          -271489.1535068964,
          -271427.4104228989,
          -206171.7291881206,
          -373437.0633943551,
          -372519.84612554824,
          -373172.3429447183,
          -373662.31636252976,
          -374842.9477755769,
          -150176.6781381689,
          -203510.04969267914,
          -159983.54025081024,
          -191844.56173733532,
          -154654.6350586932,
          -258904.68047567355,
          -366249.5677772661,
          -316240.58891760424,
          -313368.1062895833,
          -363095.32149833994,
          -308783.4838071124,
          -308721.7407231148,
          -308645.2297558417,
          -308721.7407231148,
          -308721.7407231148,
          -546052.2360074349,
          -358970.6914944902,
          -409600.0203725809,
          -521972.433248343,
          -366379.8615742109,
          -345506.1985725947,
          -345970.2217009931,
          -345662.13961328194,
          -343536.24775666714,
          -345120.7792968172,
          -374644.59361750627,
          -375919.77640539064,
          -374706.33670150384,
          -375981.51948938833,
          -375919.77640539064,
          -299665.80424599594,
          -299665.80424599594,
          -299665.80424599594,
          -299604.0611619982,
          -299604.0611619982,
          27017.314902574133,
          -106241.14083432805,
          17287.040949978487,
          -596574.283122882,
          -602894.959292093,
          -596865.559108699,
          -604640.5495826997,
          -600005.7861720811,
          -680649.1174008051,
          -623495.668755181,
          -623574.2726078021,
          -511434.08324696764,
          -545462.4459961837,
          -113371.90384357993,
          -112754.47300360321,
          -112754.47300360321,
          -112754.47300360321,
          -112754.47300360321,
          38396.95950064672,
          40187.50893657917,
          39261.3626766141,
          39631.821180600135,
          40804.93977655585
         ],
         "yaxis": "y"
        },
        {
         "hovertemplate": "color=3<br>PC1=%{x}<br>PC2=%{y}<extra></extra>",
         "legendgroup": "3",
         "marker": {
          "color": "#ab63fa",
          "symbol": "circle"
         },
         "mode": "markers",
         "name": "3",
         "showlegend": true,
         "type": "scattergl",
         "x": [
          2984193.8904848974,
          2979385.586992329,
          2981829.1658897013,
          2988388.875716438,
          2985347.5114235715,
          2154327.628587712,
          2154517.2739203526,
          2154586.2358594947,
          2154258.66664857,
          2154575.891568623,
          2022308.6464784252,
          2022308.6464784252,
          2022308.6464784252,
          2022308.6464784252,
          2022308.6464784252,
          1266736.3493710055,
          1266736.3493710055,
          1266736.3493710055,
          1266736.3493710055,
          1268314.5142352881,
          1382801.0992628324,
          1381344.002005779,
          1391077.3124362694,
          1398204.980313658,
          1388098.0437985698,
          1229720.1442045157,
          1227806.4503933254,
          1227823.690878111,
          1227823.690878111,
          1228323.6649368904,
          3234339.533550516,
          1515906.7185086017,
          1505419.2554297496,
          1500175.5238903237,
          1796970.7290218412,
          1507516.7480455202,
          2141449.372525727,
          2141707.9797975095,
          2139593.2466969527,
          2140573.031065697,
          2139081.0686253416,
          2294316.539826672,
          2294316.539826672,
          2294316.539826672,
          2294316.539826672,
          2294316.539826672,
          4165700.168999446,
          4165700.168999446,
          4165700.168999446,
          4165700.168999446,
          4165700.168999446,
          2104702.4191621672,
          2106194.381602522,
          2106108.179178594,
          2108220.799071227,
          2106194.381602522,
          2323849.0602597143
         ],
         "xaxis": "x",
         "y": [
          -532667.3511618545,
          -529667.9349294325,
          -531469.8914113796,
          -535760.8386845104,
          -533518.0602305846,
          63174.65496515098,
          61771.953898478234,
          61261.8807833245,
          63684.72808030474,
          61338.39175059752,
          645913.5001684988,
          645913.5001684988,
          645913.5001684988,
          645913.5001684988,
          645913.5001684988,
          531305.1750056001,
          531305.1750056001,
          531305.1750056001,
          531305.1750056001,
          530687.7441656236,
          293660.1067691628,
          325968.2540283388,
          284124.358316475,
          329175.66175227135,
          281717.6769193828,
          735020.9371098151,
          749175.4660553313,
          749047.947776543,
          749047.947776543,
          745349.9176916783,
          -946840.3940661934,
          635210.2487753424,
          642943.9675819824,
          646810.8269853024,
          427946.5847573906,
          641397.2238206544,
          257516.5814598546,
          255603.80727802817,
          257278.06931814458,
          257014.7705526343,
          256994.60999866884,
          660900.6525995388,
          660900.6525995388,
          660900.6525995388,
          660900.6525995388,
          660900.6525995388,
          94416.11428800413,
          94416.11428800413,
          94416.11428800413,
          94416.11428800413,
          94416.11428800413,
          -36001.02632940645,
          -35980.86577544096,
          -35343.2743814987,
          -39913.77186391692,
          -35980.86577544096,
          -456992.5476913472
         ],
         "yaxis": "y"
        }
       ],
       "layout": {
        "legend": {
         "title": {
          "text": "color"
         },
         "tracegroupgap": 0
        },
        "template": {
         "data": {
          "bar": [
           {
            "error_x": {
             "color": "#2a3f5f"
            },
            "error_y": {
             "color": "#2a3f5f"
            },
            "marker": {
             "line": {
              "color": "#E5ECF6",
              "width": 0.5
             },
             "pattern": {
              "fillmode": "overlay",
              "size": 10,
              "solidity": 0.2
             }
            },
            "type": "bar"
           }
          ],
          "barpolar": [
           {
            "marker": {
             "line": {
              "color": "#E5ECF6",
              "width": 0.5
             },
             "pattern": {
              "fillmode": "overlay",
              "size": 10,
              "solidity": 0.2
             }
            },
            "type": "barpolar"
           }
          ],
          "carpet": [
           {
            "aaxis": {
             "endlinecolor": "#2a3f5f",
             "gridcolor": "white",
             "linecolor": "white",
             "minorgridcolor": "white",
             "startlinecolor": "#2a3f5f"
            },
            "baxis": {
             "endlinecolor": "#2a3f5f",
             "gridcolor": "white",
             "linecolor": "white",
             "minorgridcolor": "white",
             "startlinecolor": "#2a3f5f"
            },
            "type": "carpet"
           }
          ],
          "choropleth": [
           {
            "colorbar": {
             "outlinewidth": 0,
             "ticks": ""
            },
            "type": "choropleth"
           }
          ],
          "contour": [
           {
            "colorbar": {
             "outlinewidth": 0,
             "ticks": ""
            },
            "colorscale": [
             [
              0,
              "#0d0887"
             ],
             [
              0.1111111111111111,
              "#46039f"
             ],
             [
              0.2222222222222222,
              "#7201a8"
             ],
             [
              0.3333333333333333,
              "#9c179e"
             ],
             [
              0.4444444444444444,
              "#bd3786"
             ],
             [
              0.5555555555555556,
              "#d8576b"
             ],
             [
              0.6666666666666666,
              "#ed7953"
             ],
             [
              0.7777777777777778,
              "#fb9f3a"
             ],
             [
              0.8888888888888888,
              "#fdca26"
             ],
             [
              1,
              "#f0f921"
             ]
            ],
            "type": "contour"
           }
          ],
          "contourcarpet": [
           {
            "colorbar": {
             "outlinewidth": 0,
             "ticks": ""
            },
            "type": "contourcarpet"
           }
          ],
          "heatmap": [
           {
            "colorbar": {
             "outlinewidth": 0,
             "ticks": ""
            },
            "colorscale": [
             [
              0,
              "#0d0887"
             ],
             [
              0.1111111111111111,
              "#46039f"
             ],
             [
              0.2222222222222222,
              "#7201a8"
             ],
             [
              0.3333333333333333,
              "#9c179e"
             ],
             [
              0.4444444444444444,
              "#bd3786"
             ],
             [
              0.5555555555555556,
              "#d8576b"
             ],
             [
              0.6666666666666666,
              "#ed7953"
             ],
             [
              0.7777777777777778,
              "#fb9f3a"
             ],
             [
              0.8888888888888888,
              "#fdca26"
             ],
             [
              1,
              "#f0f921"
             ]
            ],
            "type": "heatmap"
           }
          ],
          "heatmapgl": [
           {
            "colorbar": {
             "outlinewidth": 0,
             "ticks": ""
            },
            "colorscale": [
             [
              0,
              "#0d0887"
             ],
             [
              0.1111111111111111,
              "#46039f"
             ],
             [
              0.2222222222222222,
              "#7201a8"
             ],
             [
              0.3333333333333333,
              "#9c179e"
             ],
             [
              0.4444444444444444,
              "#bd3786"
             ],
             [
              0.5555555555555556,
              "#d8576b"
             ],
             [
              0.6666666666666666,
              "#ed7953"
             ],
             [
              0.7777777777777778,
              "#fb9f3a"
             ],
             [
              0.8888888888888888,
              "#fdca26"
             ],
             [
              1,
              "#f0f921"
             ]
            ],
            "type": "heatmapgl"
           }
          ],
          "histogram": [
           {
            "marker": {
             "pattern": {
              "fillmode": "overlay",
              "size": 10,
              "solidity": 0.2
             }
            },
            "type": "histogram"
           }
          ],
          "histogram2d": [
           {
            "colorbar": {
             "outlinewidth": 0,
             "ticks": ""
            },
            "colorscale": [
             [
              0,
              "#0d0887"
             ],
             [
              0.1111111111111111,
              "#46039f"
             ],
             [
              0.2222222222222222,
              "#7201a8"
             ],
             [
              0.3333333333333333,
              "#9c179e"
             ],
             [
              0.4444444444444444,
              "#bd3786"
             ],
             [
              0.5555555555555556,
              "#d8576b"
             ],
             [
              0.6666666666666666,
              "#ed7953"
             ],
             [
              0.7777777777777778,
              "#fb9f3a"
             ],
             [
              0.8888888888888888,
              "#fdca26"
             ],
             [
              1,
              "#f0f921"
             ]
            ],
            "type": "histogram2d"
           }
          ],
          "histogram2dcontour": [
           {
            "colorbar": {
             "outlinewidth": 0,
             "ticks": ""
            },
            "colorscale": [
             [
              0,
              "#0d0887"
             ],
             [
              0.1111111111111111,
              "#46039f"
             ],
             [
              0.2222222222222222,
              "#7201a8"
             ],
             [
              0.3333333333333333,
              "#9c179e"
             ],
             [
              0.4444444444444444,
              "#bd3786"
             ],
             [
              0.5555555555555556,
              "#d8576b"
             ],
             [
              0.6666666666666666,
              "#ed7953"
             ],
             [
              0.7777777777777778,
              "#fb9f3a"
             ],
             [
              0.8888888888888888,
              "#fdca26"
             ],
             [
              1,
              "#f0f921"
             ]
            ],
            "type": "histogram2dcontour"
           }
          ],
          "mesh3d": [
           {
            "colorbar": {
             "outlinewidth": 0,
             "ticks": ""
            },
            "type": "mesh3d"
           }
          ],
          "parcoords": [
           {
            "line": {
             "colorbar": {
              "outlinewidth": 0,
              "ticks": ""
             }
            },
            "type": "parcoords"
           }
          ],
          "pie": [
           {
            "automargin": true,
            "type": "pie"
           }
          ],
          "scatter": [
           {
            "fillpattern": {
             "fillmode": "overlay",
             "size": 10,
             "solidity": 0.2
            },
            "type": "scatter"
           }
          ],
          "scatter3d": [
           {
            "line": {
             "colorbar": {
              "outlinewidth": 0,
              "ticks": ""
             }
            },
            "marker": {
             "colorbar": {
              "outlinewidth": 0,
              "ticks": ""
             }
            },
            "type": "scatter3d"
           }
          ],
          "scattercarpet": [
           {
            "marker": {
             "colorbar": {
              "outlinewidth": 0,
              "ticks": ""
             }
            },
            "type": "scattercarpet"
           }
          ],
          "scattergeo": [
           {
            "marker": {
             "colorbar": {
              "outlinewidth": 0,
              "ticks": ""
             }
            },
            "type": "scattergeo"
           }
          ],
          "scattergl": [
           {
            "marker": {
             "colorbar": {
              "outlinewidth": 0,
              "ticks": ""
             }
            },
            "type": "scattergl"
           }
          ],
          "scattermapbox": [
           {
            "marker": {
             "colorbar": {
              "outlinewidth": 0,
              "ticks": ""
             }
            },
            "type": "scattermapbox"
           }
          ],
          "scatterpolar": [
           {
            "marker": {
             "colorbar": {
              "outlinewidth": 0,
              "ticks": ""
             }
            },
            "type": "scatterpolar"
           }
          ],
          "scatterpolargl": [
           {
            "marker": {
             "colorbar": {
              "outlinewidth": 0,
              "ticks": ""
             }
            },
            "type": "scatterpolargl"
           }
          ],
          "scatterternary": [
           {
            "marker": {
             "colorbar": {
              "outlinewidth": 0,
              "ticks": ""
             }
            },
            "type": "scatterternary"
           }
          ],
          "surface": [
           {
            "colorbar": {
             "outlinewidth": 0,
             "ticks": ""
            },
            "colorscale": [
             [
              0,
              "#0d0887"
             ],
             [
              0.1111111111111111,
              "#46039f"
             ],
             [
              0.2222222222222222,
              "#7201a8"
             ],
             [
              0.3333333333333333,
              "#9c179e"
             ],
             [
              0.4444444444444444,
              "#bd3786"
             ],
             [
              0.5555555555555556,
              "#d8576b"
             ],
             [
              0.6666666666666666,
              "#ed7953"
             ],
             [
              0.7777777777777778,
              "#fb9f3a"
             ],
             [
              0.8888888888888888,
              "#fdca26"
             ],
             [
              1,
              "#f0f921"
             ]
            ],
            "type": "surface"
           }
          ],
          "table": [
           {
            "cells": {
             "fill": {
              "color": "#EBF0F8"
             },
             "line": {
              "color": "white"
             }
            },
            "header": {
             "fill": {
              "color": "#C8D4E3"
             },
             "line": {
              "color": "white"
             }
            },
            "type": "table"
           }
          ]
         },
         "layout": {
          "annotationdefaults": {
           "arrowcolor": "#2a3f5f",
           "arrowhead": 0,
           "arrowwidth": 1
          },
          "autotypenumbers": "strict",
          "coloraxis": {
           "colorbar": {
            "outlinewidth": 0,
            "ticks": ""
           }
          },
          "colorscale": {
           "diverging": [
            [
             0,
             "#8e0152"
            ],
            [
             0.1,
             "#c51b7d"
            ],
            [
             0.2,
             "#de77ae"
            ],
            [
             0.3,
             "#f1b6da"
            ],
            [
             0.4,
             "#fde0ef"
            ],
            [
             0.5,
             "#f7f7f7"
            ],
            [
             0.6,
             "#e6f5d0"
            ],
            [
             0.7,
             "#b8e186"
            ],
            [
             0.8,
             "#7fbc41"
            ],
            [
             0.9,
             "#4d9221"
            ],
            [
             1,
             "#276419"
            ]
           ],
           "sequential": [
            [
             0,
             "#0d0887"
            ],
            [
             0.1111111111111111,
             "#46039f"
            ],
            [
             0.2222222222222222,
             "#7201a8"
            ],
            [
             0.3333333333333333,
             "#9c179e"
            ],
            [
             0.4444444444444444,
             "#bd3786"
            ],
            [
             0.5555555555555556,
             "#d8576b"
            ],
            [
             0.6666666666666666,
             "#ed7953"
            ],
            [
             0.7777777777777778,
             "#fb9f3a"
            ],
            [
             0.8888888888888888,
             "#fdca26"
            ],
            [
             1,
             "#f0f921"
            ]
           ],
           "sequentialminus": [
            [
             0,
             "#0d0887"
            ],
            [
             0.1111111111111111,
             "#46039f"
            ],
            [
             0.2222222222222222,
             "#7201a8"
            ],
            [
             0.3333333333333333,
             "#9c179e"
            ],
            [
             0.4444444444444444,
             "#bd3786"
            ],
            [
             0.5555555555555556,
             "#d8576b"
            ],
            [
             0.6666666666666666,
             "#ed7953"
            ],
            [
             0.7777777777777778,
             "#fb9f3a"
            ],
            [
             0.8888888888888888,
             "#fdca26"
            ],
            [
             1,
             "#f0f921"
            ]
           ]
          },
          "colorway": [
           "#636efa",
           "#EF553B",
           "#00cc96",
           "#ab63fa",
           "#FFA15A",
           "#19d3f3",
           "#FF6692",
           "#B6E880",
           "#FF97FF",
           "#FECB52"
          ],
          "font": {
           "color": "#2a3f5f"
          },
          "geo": {
           "bgcolor": "white",
           "lakecolor": "white",
           "landcolor": "#E5ECF6",
           "showlakes": true,
           "showland": true,
           "subunitcolor": "white"
          },
          "hoverlabel": {
           "align": "left"
          },
          "hovermode": "closest",
          "mapbox": {
           "style": "light"
          },
          "paper_bgcolor": "white",
          "plot_bgcolor": "#E5ECF6",
          "polar": {
           "angularaxis": {
            "gridcolor": "white",
            "linecolor": "white",
            "ticks": ""
           },
           "bgcolor": "#E5ECF6",
           "radialaxis": {
            "gridcolor": "white",
            "linecolor": "white",
            "ticks": ""
           }
          },
          "scene": {
           "xaxis": {
            "backgroundcolor": "#E5ECF6",
            "gridcolor": "white",
            "gridwidth": 2,
            "linecolor": "white",
            "showbackground": true,
            "ticks": "",
            "zerolinecolor": "white"
           },
           "yaxis": {
            "backgroundcolor": "#E5ECF6",
            "gridcolor": "white",
            "gridwidth": 2,
            "linecolor": "white",
            "showbackground": true,
            "ticks": "",
            "zerolinecolor": "white"
           },
           "zaxis": {
            "backgroundcolor": "#E5ECF6",
            "gridcolor": "white",
            "gridwidth": 2,
            "linecolor": "white",
            "showbackground": true,
            "ticks": "",
            "zerolinecolor": "white"
           }
          },
          "shapedefaults": {
           "line": {
            "color": "#2a3f5f"
           }
          },
          "ternary": {
           "aaxis": {
            "gridcolor": "white",
            "linecolor": "white",
            "ticks": ""
           },
           "baxis": {
            "gridcolor": "white",
            "linecolor": "white",
            "ticks": ""
           },
           "bgcolor": "#E5ECF6",
           "caxis": {
            "gridcolor": "white",
            "linecolor": "white",
            "ticks": ""
           }
          },
          "title": {
           "x": 0.05
          },
          "xaxis": {
           "automargin": true,
           "gridcolor": "white",
           "linecolor": "white",
           "ticks": "",
           "title": {
            "standoff": 15
           },
           "zerolinecolor": "white",
           "zerolinewidth": 2
          },
          "yaxis": {
           "automargin": true,
           "gridcolor": "white",
           "linecolor": "white",
           "ticks": "",
           "title": {
            "standoff": 15
           },
           "zerolinecolor": "white",
           "zerolinewidth": 2
          }
         }
        },
        "title": {
         "text": "PCA Representation of Clusters"
        },
        "xaxis": {
         "anchor": "y",
         "domain": [
          0,
          1
         ],
         "title": {
          "text": "PC1"
         }
        },
        "yaxis": {
         "anchor": "x",
         "domain": [
          0,
          1
         ],
         "title": {
          "text": "PC2"
         }
        }
       }
      }
     },
     "metadata": {},
     "output_type": "display_data"
    }
   ],
   "source": [
    "# Create scatter plot of `PC2` vs `PC1`\n",
    "fig = px.scatter(\n",
    "    data_frame = X_pca,\n",
    "    x='PC1',\n",
    "    y='PC2',\n",
    "    color = labels.astype(str),\n",
    "    title=\"PCA Representation of Clusters\"\n",
    ")\n",
    "fig.update_layout(xaxis_title='PC1', yaxis_title='PC2')\n",
    "fig.show()"
   ]
  }
 ],
 "metadata": {
  "kernelspec": {
   "display_name": "Python 3.9.7 ('insurtech')",
   "language": "python",
   "name": "python3"
  },
  "language_info": {
   "codemirror_mode": {
    "name": "ipython",
    "version": 3
   },
   "file_extension": ".py",
   "mimetype": "text/x-python",
   "name": "python",
   "nbconvert_exporter": "python",
   "pygments_lexer": "ipython3",
   "version": "3.9.7"
  },
  "orig_nbformat": 4,
  "vscode": {
   "interpreter": {
    "hash": "a4d53cec37a246686fa871ddfe9503a022ca484fc74341e93fbea7730c2497e3"
   }
  }
 },
 "nbformat": 4,
 "nbformat_minor": 2
}
