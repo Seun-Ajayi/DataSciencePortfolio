{
 "cells": [
  {
   "cell_type": "code",
   "execution_count": 27,
   "metadata": {},
   "outputs": [],
   "source": [
    "import pandas as pd\n",
    "from cleaning import ingest_data\n",
    "from cleaning import get_sheet_data\n",
    "from cleaning import SHEET_NAMES\n",
    "from cleaning import clean\n",
    "import matplotlib.pyplot as plt\n",
    "\n",
    "plt.style.use('seaborn')\n",
    "%matplotlib inline"
   ]
  },
  {
   "cell_type": "code",
   "execution_count": 3,
   "metadata": {},
   "outputs": [],
   "source": [
    "dict_data = ingest_data(r'C:\\Users\\USER\\Documents\\Project_setup\\Food_Pricing_Prediction\\data\\SELECTED FOOD (JAN_2019 - NOV 2021).csv', SHEET_NAMES)"
   ]
  },
  {
   "cell_type": "code",
   "execution_count": 4,
   "metadata": {},
   "outputs": [],
   "source": [
    "dollar_price = pd.read_excel(r'C:\\Users\\USER\\Documents\\Project_setup\\Food_Pricing_Prediction\\data\\Dollar_Prices.xlsx')"
   ]
  },
  {
   "cell_type": "code",
   "execution_count": 5,
   "metadata": {},
   "outputs": [],
   "source": [
    "dollar_price['Date'] = pd.to_datetime(dollar_price['Date'])"
   ]
  },
  {
   "cell_type": "code",
   "execution_count": 6,
   "metadata": {},
   "outputs": [],
   "source": [
    "SHEET_NAMES.remove('NATIONAL')"
   ]
  },
  {
   "cell_type": "code",
   "execution_count": 7,
   "metadata": {},
   "outputs": [
    {
     "name": "stdout",
     "output_type": "stream",
     "text": [
      "['ABIA', 'ABUJA', 'ANAMBRA', 'EBONYI', 'ENUGU', 'IMO', 'AKWA IBOM', 'BAYELSA', 'CROSS RIVER', 'DELTA', 'RIVERS', 'EDO', 'ADAMAWA', 'BAUCHI', 'BORNO', 'GOMBE', 'BENUE', 'TARABA', 'YOBE', 'KOGI', 'KWARA', 'NASSARAWA', 'NIGER', 'PLATEAU', 'EKITI', 'LAGOS', 'ONDO', 'OGUN_', 'OSUN', 'OYO', 'JIGAWA_', 'KADUNA_', 'KANO_', 'KATSINA', 'KEBBI_', 'ZAMFARA_', 'SOKOTO']\n"
     ]
    }
   ],
   "source": [
    "print(SHEET_NAMES)"
   ]
  },
  {
   "cell_type": "code",
   "execution_count": 8,
   "metadata": {},
   "outputs": [],
   "source": [
    "states =['ABIA', 'ABUJA', 'ANAMBRA', 'EBONYI', 'ENUGU', 'IMO', 'AKWA IBOM', 'BAYELSA',\n",
    "         'CROSS RIVER', 'DELTA', 'RIVERS', 'EDO', 'ADAMAWA', 'BAUCHI', 'BORNO', 'GOMBE', 'BENUE', 'TARABA',\n",
    "         'YOBE', 'KOGI', 'KWARA', 'NASSARAWA', 'NIGER', 'PLATEAU', 'EKITI', 'LAGOS', 'ONDO', \n",
    "         'OGUN', 'OSUN', 'OYO', 'JIGAWA', 'KADUNA', 'KANO', 'KATSINA', 'KEBBI', 'ZAMFARA', 'SOKOTO']"
   ]
  },
  {
   "cell_type": "code",
   "execution_count": 11,
   "metadata": {},
   "outputs": [],
   "source": [
    "def get_data(dict_data, state_list):\n",
    "    # get data sheet\n",
    "    df = [get_sheet_data(dict_data, state) for state in SHEET_NAMES]\n",
    "    # clean data\n",
    "    df = [clean(state) for state in df]\n",
    "    # reset index and rename to 'Date'\n",
    "    for state in df:\n",
    "        state.index =  pd.to_datetime(state.index)\n",
    "        state.reset_index(inplace= True)\n",
    "        state.rename(columns={'index':'Date'}, inplace= True)\n",
    "    # melt data to 3 columns, 'Date', 'Food_items', and 'Food_prices'\n",
    "    df = [state.melt(id_vars=['Date'], var_name=\"Food_items\", value_name=\"Food_prices\") for state in df]\n",
    "    # add state location column for each dataframe in df\n",
    "    for index, df_ in enumerate(df):\n",
    "        for state in state_list:\n",
    "            if index == state_list.index(state):\n",
    "                df[index]['Location'] = state\n",
    "    # concatenate dataframes in df\n",
    "    df = pd.concat(df)\n",
    "    # merge with the dollar_rate dataframe\n",
    "    df = pd.merge(df, dollar_price, left_on= 'Date', right_on= 'Date')\n",
    "\n",
    "    return df\n",
    "            "
   ]
  },
  {
   "cell_type": "code",
   "execution_count": 12,
   "metadata": {},
   "outputs": [
    {
     "name": "stdout",
     "output_type": "stream",
     "text": [
      "(55599, 5)\n"
     ]
    },
    {
     "data": {
      "text/html": [
       "<div>\n",
       "<style scoped>\n",
       "    .dataframe tbody tr th:only-of-type {\n",
       "        vertical-align: middle;\n",
       "    }\n",
       "\n",
       "    .dataframe tbody tr th {\n",
       "        vertical-align: top;\n",
       "    }\n",
       "\n",
       "    .dataframe thead th {\n",
       "        text-align: right;\n",
       "    }\n",
       "</style>\n",
       "<table border=\"1\" class=\"dataframe\">\n",
       "  <thead>\n",
       "    <tr style=\"text-align: right;\">\n",
       "      <th></th>\n",
       "      <th>Date</th>\n",
       "      <th>Food_items</th>\n",
       "      <th>Food_prices</th>\n",
       "      <th>Location</th>\n",
       "      <th>Dollar Rate</th>\n",
       "    </tr>\n",
       "  </thead>\n",
       "  <tbody>\n",
       "    <tr>\n",
       "      <th>0</th>\n",
       "      <td>2019-01-01</td>\n",
       "      <td>Agric eggs medium size1 Dozen</td>\n",
       "      <td>482.5</td>\n",
       "      <td>ABIA</td>\n",
       "      <td>363.3959</td>\n",
       "    </tr>\n",
       "    <tr>\n",
       "      <th>1</th>\n",
       "      <td>2019-01-01</td>\n",
       "      <td>Agric eggs medium size (1)1 Piece</td>\n",
       "      <td>46.35621</td>\n",
       "      <td>ABIA</td>\n",
       "      <td>363.3959</td>\n",
       "    </tr>\n",
       "    <tr>\n",
       "      <th>2</th>\n",
       "      <td>2019-01-01</td>\n",
       "      <td>Beans brown,sold loose1 KG</td>\n",
       "      <td>489.583333</td>\n",
       "      <td>ABIA</td>\n",
       "      <td>363.3959</td>\n",
       "    </tr>\n",
       "    <tr>\n",
       "      <th>3</th>\n",
       "      <td>2019-01-01</td>\n",
       "      <td>Beans:white black eye. sold loose1 KG</td>\n",
       "      <td>482.77027</td>\n",
       "      <td>ABIA</td>\n",
       "      <td>363.3959</td>\n",
       "    </tr>\n",
       "    <tr>\n",
       "      <th>4</th>\n",
       "      <td>2019-01-01</td>\n",
       "      <td>Beef Bone in1 KG</td>\n",
       "      <td>987.675156</td>\n",
       "      <td>ABIA</td>\n",
       "      <td>363.3959</td>\n",
       "    </tr>\n",
       "  </tbody>\n",
       "</table>\n",
       "</div>"
      ],
      "text/plain": [
       "        Date                             Food_items Food_prices Location  \\\n",
       "0 2019-01-01          Agric eggs medium size1 Dozen       482.5     ABIA   \n",
       "1 2019-01-01      Agric eggs medium size (1)1 Piece    46.35621     ABIA   \n",
       "2 2019-01-01             Beans brown,sold loose1 KG  489.583333     ABIA   \n",
       "3 2019-01-01  Beans:white black eye. sold loose1 KG   482.77027     ABIA   \n",
       "4 2019-01-01                       Beef Bone in1 KG  987.675156     ABIA   \n",
       "\n",
       "   Dollar Rate  \n",
       "0     363.3959  \n",
       "1     363.3959  \n",
       "2     363.3959  \n",
       "3     363.3959  \n",
       "4     363.3959  "
      ]
     },
     "execution_count": 12,
     "metadata": {},
     "output_type": "execute_result"
    }
   ],
   "source": [
    "df = get_data(dict_data, states)\n",
    "print(df.shape)\n",
    "df.head()"
   ]
  },
  {
   "cell_type": "code",
   "execution_count": 14,
   "metadata": {},
   "outputs": [
    {
     "data": {
      "text/plain": [
       "Date           0\n",
       "Food_items     0\n",
       "Food_prices    1\n",
       "Location       0\n",
       "Dollar Rate    0\n",
       "dtype: int64"
      ]
     },
     "execution_count": 14,
     "metadata": {},
     "output_type": "execute_result"
    }
   ],
   "source": [
    "df.isnull().sum()"
   ]
  },
  {
   "cell_type": "code",
   "execution_count": 15,
   "metadata": {},
   "outputs": [],
   "source": [
    "df.dropna(inplace=True)"
   ]
  },
  {
   "cell_type": "code",
   "execution_count": 16,
   "metadata": {},
   "outputs": [
    {
     "data": {
      "text/plain": [
       "0"
      ]
     },
     "execution_count": 16,
     "metadata": {},
     "output_type": "execute_result"
    }
   ],
   "source": [
    "df.duplicated().sum()"
   ]
  },
  {
   "cell_type": "code",
   "execution_count": 17,
   "metadata": {},
   "outputs": [
    {
     "data": {
      "text/plain": [
       "Date           datetime64[ns]\n",
       "Food_items             object\n",
       "Food_prices            object\n",
       "Location               object\n",
       "Dollar Rate           float64\n",
       "dtype: object"
      ]
     },
     "execution_count": 17,
     "metadata": {},
     "output_type": "execute_result"
    }
   ],
   "source": [
    "df.dtypes"
   ]
  },
  {
   "cell_type": "code",
   "execution_count": 18,
   "metadata": {},
   "outputs": [],
   "source": [
    "def fix(x):\n",
    "    try:\n",
    "        value=float(x)\n",
    "    except:\n",
    "        try:\n",
    "            number=x.split(' ')\n",
    "            value= number[0]+'.'+number[1]\n",
    "            value= float(value)\n",
    "        except:\n",
    "            value=0\n",
    "    return value"
   ]
  },
  {
   "cell_type": "code",
   "execution_count": 19,
   "metadata": {},
   "outputs": [],
   "source": [
    "df['Food_prices'] = df['Food_prices'].apply(fix)"
   ]
  },
  {
   "cell_type": "code",
   "execution_count": 20,
   "metadata": {},
   "outputs": [
    {
     "data": {
      "text/plain": [
       "Date           datetime64[ns]\n",
       "Food_items             object\n",
       "Food_prices           float64\n",
       "Location               object\n",
       "Dollar Rate           float64\n",
       "dtype: object"
      ]
     },
     "execution_count": 20,
     "metadata": {},
     "output_type": "execute_result"
    }
   ],
   "source": [
    "df.dtypes"
   ]
  },
  {
   "cell_type": "code",
   "execution_count": 47,
   "metadata": {},
   "outputs": [],
   "source": [
    "df = df.loc[df['Food_prices'] != 0]"
   ]
  },
  {
   "cell_type": "code",
   "execution_count": 48,
   "metadata": {},
   "outputs": [
    {
     "data": {
      "text/plain": [
       "(55595, 5)"
      ]
     },
     "execution_count": 48,
     "metadata": {},
     "output_type": "execute_result"
    }
   ],
   "source": [
    "df.shape"
   ]
  },
  {
   "cell_type": "markdown",
   "metadata": {},
   "source": [
    "# Insights\n",
    "- The top 10 expensive food item in the dataframe?\n",
    "- The least 10 expensive food item?\n",
    "- Location of the most and least expensive food item?\n",
    "- Time series trend of the most and least expensive food item\n",
    "- Time series trend of the dollar rates \n",
    "- Is the food item trend similar?\n",
    "- Which food item had a rapid incraese or decrease in price?\n"
   ]
  },
  {
   "cell_type": "code",
   "execution_count": 94,
   "metadata": {},
   "outputs": [
    {
     "data": {
      "text/html": [
       "<div>\n",
       "<style scoped>\n",
       "    .dataframe tbody tr th:only-of-type {\n",
       "        vertical-align: middle;\n",
       "    }\n",
       "\n",
       "    .dataframe tbody tr th {\n",
       "        vertical-align: top;\n",
       "    }\n",
       "\n",
       "    .dataframe thead th {\n",
       "        text-align: right;\n",
       "    }\n",
       "</style>\n",
       "<table border=\"1\" class=\"dataframe\">\n",
       "  <thead>\n",
       "    <tr style=\"text-align: right;\">\n",
       "      <th></th>\n",
       "      <th>Date</th>\n",
       "      <th>Food_items</th>\n",
       "      <th>Food_prices</th>\n",
       "      <th>Location</th>\n",
       "      <th>Dollar Rate</th>\n",
       "    </tr>\n",
       "  </thead>\n",
       "  <tbody>\n",
       "    <tr>\n",
       "      <th>9762</th>\n",
       "      <td>2019-07-01</td>\n",
       "      <td>Agric eggs(medium size price of one)1 Piece</td>\n",
       "      <td>31.052632</td>\n",
       "      <td>IMO</td>\n",
       "      <td>360.4107</td>\n",
       "    </tr>\n",
       "    <tr>\n",
       "      <th>9891</th>\n",
       "      <td>2019-07-01</td>\n",
       "      <td>Agric eggs(medium size price of one)1 Piece</td>\n",
       "      <td>31.250000</td>\n",
       "      <td>CROSS RIVER</td>\n",
       "      <td>360.4107</td>\n",
       "    </tr>\n",
       "    <tr>\n",
       "      <th>9848</th>\n",
       "      <td>2019-07-01</td>\n",
       "      <td>Agric eggs(medium size price of one)1 Piece</td>\n",
       "      <td>31.875000</td>\n",
       "      <td>BAYELSA</td>\n",
       "      <td>360.4107</td>\n",
       "    </tr>\n",
       "    <tr>\n",
       "      <th>9676</th>\n",
       "      <td>2019-07-01</td>\n",
       "      <td>Agric eggs(medium size price of one)1 Piece</td>\n",
       "      <td>34.285714</td>\n",
       "      <td>EBONYI</td>\n",
       "      <td>360.4107</td>\n",
       "    </tr>\n",
       "    <tr>\n",
       "      <th>9934</th>\n",
       "      <td>2019-07-01</td>\n",
       "      <td>Agric eggs(medium size price of one)1 Piece</td>\n",
       "      <td>35.000000</td>\n",
       "      <td>DELTA</td>\n",
       "      <td>360.4107</td>\n",
       "    </tr>\n",
       "    <tr>\n",
       "      <th>24468</th>\n",
       "      <td>2020-04-01</td>\n",
       "      <td>Agric eggs(medium size price of one)1 Piece</td>\n",
       "      <td>35.153846</td>\n",
       "      <td>GOMBE</td>\n",
       "      <td>385.2101</td>\n",
       "    </tr>\n",
       "    <tr>\n",
       "      <th>22877</th>\n",
       "      <td>2020-03-01</td>\n",
       "      <td>Agric eggs(medium size price of one)1 Piece</td>\n",
       "      <td>35.153846</td>\n",
       "      <td>GOMBE</td>\n",
       "      <td>370.7935</td>\n",
       "    </tr>\n",
       "    <tr>\n",
       "      <th>4430</th>\n",
       "      <td>2019-03-01</td>\n",
       "      <td>Agric eggs(medium size price of one)1 Piece</td>\n",
       "      <td>35.277778</td>\n",
       "      <td>OYO</td>\n",
       "      <td>360.1223</td>\n",
       "    </tr>\n",
       "    <tr>\n",
       "      <th>9805</th>\n",
       "      <td>2019-07-01</td>\n",
       "      <td>Agric eggs(medium size price of one)1 Piece</td>\n",
       "      <td>35.428571</td>\n",
       "      <td>AKWA IBOM</td>\n",
       "      <td>360.4107</td>\n",
       "    </tr>\n",
       "    <tr>\n",
       "      <th>25457</th>\n",
       "      <td>2020-05-01</td>\n",
       "      <td>Agric eggs(medium size price of one)1 Piece</td>\n",
       "      <td>35.631750</td>\n",
       "      <td>ABUJA</td>\n",
       "      <td>389.1090</td>\n",
       "    </tr>\n",
       "  </tbody>\n",
       "</table>\n",
       "</div>"
      ],
      "text/plain": [
       "            Date                                   Food_items  Food_prices  \\\n",
       "9762  2019-07-01  Agric eggs(medium size price of one)1 Piece    31.052632   \n",
       "9891  2019-07-01  Agric eggs(medium size price of one)1 Piece    31.250000   \n",
       "9848  2019-07-01  Agric eggs(medium size price of one)1 Piece    31.875000   \n",
       "9676  2019-07-01  Agric eggs(medium size price of one)1 Piece    34.285714   \n",
       "9934  2019-07-01  Agric eggs(medium size price of one)1 Piece    35.000000   \n",
       "24468 2020-04-01  Agric eggs(medium size price of one)1 Piece    35.153846   \n",
       "22877 2020-03-01  Agric eggs(medium size price of one)1 Piece    35.153846   \n",
       "4430  2019-03-01  Agric eggs(medium size price of one)1 Piece    35.277778   \n",
       "9805  2019-07-01  Agric eggs(medium size price of one)1 Piece    35.428571   \n",
       "25457 2020-05-01  Agric eggs(medium size price of one)1 Piece    35.631750   \n",
       "\n",
       "          Location  Dollar Rate  \n",
       "9762           IMO     360.4107  \n",
       "9891   CROSS RIVER     360.4107  \n",
       "9848       BAYELSA     360.4107  \n",
       "9676        EBONYI     360.4107  \n",
       "9934         DELTA     360.4107  \n",
       "24468        GOMBE     385.2101  \n",
       "22877        GOMBE     370.7935  \n",
       "4430           OYO     360.1223  \n",
       "9805     AKWA IBOM     360.4107  \n",
       "25457        ABUJA     389.1090  "
      ]
     },
     "execution_count": 94,
     "metadata": {},
     "output_type": "execute_result"
    }
   ],
   "source": [
    "# Least 10 Expensive Food Items\n",
    "least_10 = df.sort_values(by=\"Food_prices\", ascending=True).head(10)\n",
    "least_10"
   ]
  },
  {
   "cell_type": "code",
   "execution_count": 59,
   "metadata": {},
   "outputs": [
    {
     "data": {
      "image/png": "[encoded data removed]",
      "text/plain": [
       "<Figure size 864x648 with 1 Axes>"
      ]
     },
     "metadata": {
      "needs_background": "light"
     },
     "output_type": "display_data"
    }
   ],
   "source": [
    "least_10.plot(x=\"Food_items\", y=\"Food_prices\", kind='barh', legend=False)\n",
    "plt.ylabel('Food Items')\n",
    "plt.xlabel('Food Prices')\n",
    "plt.title('Least 10 Expensive Food Items from 2019-2021')\n",
    "plt.gcf().set_size_inches(12, 9);"
   ]
  },
  {
   "cell_type": "markdown",
   "metadata": {},
   "source": [
    "The least expensive food item from 2019-2021 according to the dataset is \"Agric eggs(medium size price of one)1 Piece\" with varying prices in different locations but cheapest in IMO State costing ₦31.05k and the time it was sold at the price was 2019-07-01\n",
    "\n",
    "I don't know if you are curious but I am, Let's get to know the price of \"Agric eggs(medium size price of one)1 Piece\" as at the most recent time in the dataset which is 2021-11-01"
   ]
  },
  {
   "cell_type": "code",
   "execution_count": 75,
   "metadata": {},
   "outputs": [
    {
     "data": {
      "text/html": [
       "<div>\n",
       "<style scoped>\n",
       "    .dataframe tbody tr th:only-of-type {\n",
       "        vertical-align: middle;\n",
       "    }\n",
       "\n",
       "    .dataframe tbody tr th {\n",
       "        vertical-align: top;\n",
       "    }\n",
       "\n",
       "    .dataframe thead th {\n",
       "        text-align: right;\n",
       "    }\n",
       "</style>\n",
       "<table border=\"1\" class=\"dataframe\">\n",
       "  <thead>\n",
       "    <tr style=\"text-align: right;\">\n",
       "      <th></th>\n",
       "      <th>Food_items</th>\n",
       "      <th>Food_prices</th>\n",
       "      <th>Location</th>\n",
       "      <th>Dollar Rate</th>\n",
       "    </tr>\n",
       "    <tr>\n",
       "      <th>Date</th>\n",
       "      <th></th>\n",
       "      <th></th>\n",
       "      <th></th>\n",
       "      <th></th>\n",
       "    </tr>\n",
       "  </thead>\n",
       "  <tbody>\n",
       "    <tr>\n",
       "      <th>2019-01-01</th>\n",
       "      <td>Agric eggs(medium size price of one)1 Piece</td>\n",
       "      <td>50.000000</td>\n",
       "      <td>IMO</td>\n",
       "      <td>363.3959</td>\n",
       "    </tr>\n",
       "    <tr>\n",
       "      <th>2019-02-01</th>\n",
       "      <td>Agric eggs(medium size price of one)1 Piece</td>\n",
       "      <td>48.529412</td>\n",
       "      <td>IMO</td>\n",
       "      <td>361.4763</td>\n",
       "    </tr>\n",
       "    <tr>\n",
       "      <th>2019-03-01</th>\n",
       "      <td>Agric eggs(medium size price of one)1 Piece</td>\n",
       "      <td>47.717949</td>\n",
       "      <td>IMO</td>\n",
       "      <td>360.1223</td>\n",
       "    </tr>\n",
       "    <tr>\n",
       "      <th>2019-04-01</th>\n",
       "      <td>Agric eggs(medium size price of one)1 Piece</td>\n",
       "      <td>48.743590</td>\n",
       "      <td>IMO</td>\n",
       "      <td>360.0954</td>\n",
       "    </tr>\n",
       "    <tr>\n",
       "      <th>2019-05-01</th>\n",
       "      <td>Agric eggs(medium size price of one)1 Piece</td>\n",
       "      <td>50.444444</td>\n",
       "      <td>IMO</td>\n",
       "      <td>360.2111</td>\n",
       "    </tr>\n",
       "  </tbody>\n",
       "</table>\n",
       "</div>"
      ],
      "text/plain": [
       "                                             Food_items  Food_prices Location  \\\n",
       "Date                                                                            \n",
       "2019-01-01  Agric eggs(medium size price of one)1 Piece    50.000000      IMO   \n",
       "2019-02-01  Agric eggs(medium size price of one)1 Piece    48.529412      IMO   \n",
       "2019-03-01  Agric eggs(medium size price of one)1 Piece    47.717949      IMO   \n",
       "2019-04-01  Agric eggs(medium size price of one)1 Piece    48.743590      IMO   \n",
       "2019-05-01  Agric eggs(medium size price of one)1 Piece    50.444444      IMO   \n",
       "\n",
       "            Dollar Rate  \n",
       "Date                     \n",
       "2019-01-01     363.3959  \n",
       "2019-02-01     361.4763  \n",
       "2019-03-01     360.1223  \n",
       "2019-04-01     360.0954  \n",
       "2019-05-01     360.2111  "
      ]
     },
     "execution_count": 75,
     "metadata": {},
     "output_type": "execute_result"
    }
   ],
   "source": [
    "mask = (df['Location'] == 'IMO') & (df['Food_items'] == \"Agric eggs(medium size price of one)1 Piece\")\n",
    "Imo_eggPrice = df[mask].set_index('Date')\n",
    "Imo_eggPrice.head()"
   ]
  },
  {
   "cell_type": "code",
   "execution_count": 81,
   "metadata": {},
   "outputs": [
    {
     "data": {
      "image/png": "[encoded data removed]",
      "text/plain": [
       "<Figure size 1080x432 with 1 Axes>"
      ]
     },
     "metadata": {
      "needs_background": "light"
     },
     "output_type": "display_data"
    }
   ],
   "source": [
    "fig, ax = plt.subplots(figsize=(15, 6))\n",
    "Imo_eggPrice[\"Food_prices\"].plot( label=\"Agric eggs(medium size price of one)1 Piece\" ,ax=ax)\n",
    "plt.xlabel('Time')\n",
    "plt.ylabel('Food Prices in Naria')\n",
    "plt.title('\"Agric eggs(medium size price of one)1 Piece\" Price Time Series in Imo State from 2019-2021');"
   ]
  },
  {
   "cell_type": "markdown",
   "metadata": {},
   "source": [
    "In Imo state, as at 2021-11-01, \"Agric eggs(medium size price of one)1 Piece\" has double the price it was in 2019-07-01. But another thing to denote from the above visualization is sharp decrease in the price of \"Agric eggs(medium size price of one)1 Piece\" in July 2019, It would be interesing to know the cause of that, maybe a large poultry in the state reached its peak in production then influenced the price eggs were sold or the prices of poultry feed decreases, unfortunately, we can't investigate that further with this dataset but we can check if the same trend exist in other states; Lets choose another state from the North and another one from the South-West, remember this dataset is local to Nigeria. So my choice is Kano and Oyo state"
   ]
  },
  {
   "cell_type": "code",
   "execution_count": 82,
   "metadata": {},
   "outputs": [],
   "source": [
    "mask = (df['Location'] == 'KANO') & (df['Food_items'] == \"Agric eggs(medium size price of one)1 Piece\")\n",
    "Kano_eggPrice = df[mask].set_index('Date')\n",
    "mask = (df['Location'] == 'OYO') & (df['Food_items'] == \"Agric eggs(medium size price of one)1 Piece\")\n",
    "Oyo_eggPrice = df[mask].set_index('Date')"
   ]
  },
  {
   "cell_type": "code",
   "execution_count": 84,
   "metadata": {},
   "outputs": [
    {
     "data": {
      "image/png": "[encoded data removed]",
      "text/plain": [
       "<Figure size 1080x432 with 1 Axes>"
      ]
     },
     "metadata": {
      "needs_background": "light"
     },
     "output_type": "display_data"
    }
   ],
   "source": [
    "fig, ax = plt.subplots(figsize=(15, 6))\n",
    "Imo_eggPrice[\"Food_prices\"].plot( label=\"Agric eggs(medium size price of one)1 Piece in IMO\" ,ax=ax)\n",
    "Kano_eggPrice[\"Food_prices\"].plot( label=\"Agric eggs(medium size price of one)1 Piece in KANO\" ,ax=ax)\n",
    "Oyo_eggPrice[\"Food_prices\"].plot( label=\"Agric eggs(medium size price of one)1 Piece in OYO\" ,ax=ax)\n",
    "plt.legend()\n",
    "plt.xlabel('Time')\n",
    "plt.ylabel('Food Prices')\n",
    "plt.title('\"Agric eggs(medium size price of one)1 Piece\" Price Time Series in Three States from 2019-2021');"
   ]
  },
  {
   "cell_type": "markdown",
   "metadata": {},
   "source": [
    "The Trend is almost similar, steady increase as time passed but, the sharp decrease in JUly 2019 is seen as peculiar only to IMO State"
   ]
  },
  {
   "cell_type": "code",
   "execution_count": 93,
   "metadata": {},
   "outputs": [
    {
     "data": {
      "text/html": [
       "<div>\n",
       "<style scoped>\n",
       "    .dataframe tbody tr th:only-of-type {\n",
       "        vertical-align: middle;\n",
       "    }\n",
       "\n",
       "    .dataframe tbody tr th {\n",
       "        vertical-align: top;\n",
       "    }\n",
       "\n",
       "    .dataframe thead th {\n",
       "        text-align: right;\n",
       "    }\n",
       "</style>\n",
       "<table border=\"1\" class=\"dataframe\">\n",
       "  <thead>\n",
       "    <tr style=\"text-align: right;\">\n",
       "      <th></th>\n",
       "      <th>Date</th>\n",
       "      <th>Food_items</th>\n",
       "      <th>Food_prices</th>\n",
       "      <th>Location</th>\n",
       "      <th>Dollar Rate</th>\n",
       "    </tr>\n",
       "  </thead>\n",
       "  <tbody>\n",
       "    <tr>\n",
       "      <th>4571</th>\n",
       "      <td>2019-03-01</td>\n",
       "      <td>Frozen chicken1 Unit</td>\n",
       "      <td>11400.000000</td>\n",
       "      <td>KANO</td>\n",
       "      <td>360.1223</td>\n",
       "    </tr>\n",
       "    <tr>\n",
       "      <th>54083</th>\n",
       "      <td>2021-11-01</td>\n",
       "      <td>Catfish :dried1 KG</td>\n",
       "      <td>3553.532182</td>\n",
       "      <td>ABUJA</td>\n",
       "      <td>410.9593</td>\n",
       "    </tr>\n",
       "    <tr>\n",
       "      <th>50901</th>\n",
       "      <td>2021-09-01</td>\n",
       "      <td>Catfish :dried1 KG</td>\n",
       "      <td>3395.604396</td>\n",
       "      <td>ABUJA</td>\n",
       "      <td>411.5591</td>\n",
       "    </tr>\n",
       "    <tr>\n",
       "      <th>52492</th>\n",
       "      <td>2021-10-01</td>\n",
       "      <td>Catfish :dried1 KG</td>\n",
       "      <td>3366.227106</td>\n",
       "      <td>ABUJA</td>\n",
       "      <td>411.1189</td>\n",
       "    </tr>\n",
       "    <tr>\n",
       "      <th>49310</th>\n",
       "      <td>2021-08-01</td>\n",
       "      <td>Catfish :dried1 KG</td>\n",
       "      <td>3302.985348</td>\n",
       "      <td>ABUJA</td>\n",
       "      <td>411.5751</td>\n",
       "    </tr>\n",
       "    <tr>\n",
       "      <th>16912</th>\n",
       "      <td>2019-11-01</td>\n",
       "      <td>Frozen chicken1 Unit</td>\n",
       "      <td>3236.666667</td>\n",
       "      <td>PLATEAU</td>\n",
       "      <td>362.2037</td>\n",
       "    </tr>\n",
       "    <tr>\n",
       "      <th>18460</th>\n",
       "      <td>2019-12-01</td>\n",
       "      <td>Frozen chicken1 Unit</td>\n",
       "      <td>3220.000000</td>\n",
       "      <td>PLATEAU</td>\n",
       "      <td>362.6053</td>\n",
       "    </tr>\n",
       "    <tr>\n",
       "      <th>47719</th>\n",
       "      <td>2021-07-01</td>\n",
       "      <td>Catfish :dried1 KG</td>\n",
       "      <td>3210.863422</td>\n",
       "      <td>ABUJA</td>\n",
       "      <td>411.1732</td>\n",
       "    </tr>\n",
       "    <tr>\n",
       "      <th>54064</th>\n",
       "      <td>2021-11-01</td>\n",
       "      <td>Frozen chicken1 Unit</td>\n",
       "      <td>3200.000000</td>\n",
       "      <td>ABUJA</td>\n",
       "      <td>410.9593</td>\n",
       "    </tr>\n",
       "    <tr>\n",
       "      <th>20051</th>\n",
       "      <td>2020-01-01</td>\n",
       "      <td>Frozen chicken1 Unit</td>\n",
       "      <td>3180.450000</td>\n",
       "      <td>PLATEAU</td>\n",
       "      <td>362.2622</td>\n",
       "    </tr>\n",
       "  </tbody>\n",
       "</table>\n",
       "</div>"
      ],
      "text/plain": [
       "            Date            Food_items   Food_prices Location  Dollar Rate\n",
       "4571  2019-03-01  Frozen chicken1 Unit  11400.000000     KANO     360.1223\n",
       "54083 2021-11-01    Catfish :dried1 KG   3553.532182    ABUJA     410.9593\n",
       "50901 2021-09-01    Catfish :dried1 KG   3395.604396    ABUJA     411.5591\n",
       "52492 2021-10-01    Catfish :dried1 KG   3366.227106    ABUJA     411.1189\n",
       "49310 2021-08-01    Catfish :dried1 KG   3302.985348    ABUJA     411.5751\n",
       "16912 2019-11-01  Frozen chicken1 Unit   3236.666667  PLATEAU     362.2037\n",
       "18460 2019-12-01  Frozen chicken1 Unit   3220.000000  PLATEAU     362.6053\n",
       "47719 2021-07-01    Catfish :dried1 KG   3210.863422    ABUJA     411.1732\n",
       "54064 2021-11-01  Frozen chicken1 Unit   3200.000000    ABUJA     410.9593\n",
       "20051 2020-01-01  Frozen chicken1 Unit   3180.450000  PLATEAU     362.2622"
      ]
     },
     "execution_count": 93,
     "metadata": {},
     "output_type": "execute_result"
    }
   ],
   "source": [
    "# Top 10 Expensive items\n",
    "top_10 = df.sort_values(by=\"Food_prices\", ascending=False).head(10)\n",
    "top_10"
   ]
  },
  {
   "cell_type": "code",
   "execution_count": 92,
   "metadata": {},
   "outputs": [
    {
     "data": {
      "image/png": "[encoded data removed]",
      "text/plain": [
       "<Figure size 864x648 with 1 Axes>"
      ]
     },
     "metadata": {
      "needs_background": "light"
     },
     "output_type": "display_data"
    }
   ],
   "source": [
    "top_10.plot(x=\"Food_items\", y=\"Food_prices\", kind='barh', legend=False)\n",
    "plt.ylabel('Food Items')\n",
    "plt.xlabel('Food Prices')\n",
    "plt.title('Top 10 Expensive Food Items from 2019-2021')\n",
    "plt.gcf().set_size_inches(12, 9);"
   ]
  },
  {
   "cell_type": "markdown",
   "metadata": {},
   "source": [
    "The Most Expensive Food Item in the dataset is \"Frozen chicken1 Unit\" that was sold at ₦11400.00k in KANO State in 2019-03-01. \n",
    "Let's check how much this Food Item costs as at the most recent time in our dataset and compare the trend with other Locations, My choices for other Locations to correlate with are LAGOS State and RIVERS State"
   ]
  },
  {
   "cell_type": "code",
   "execution_count": 95,
   "metadata": {},
   "outputs": [],
   "source": [
    "mask = (df['Location'] == 'KANO') & (df['Food_items'] == \"Frozen chicken1 Unit\")\n",
    "Kano_chickenPrice = df[mask].set_index('Date')\n",
    "mask = (df['Location'] == 'LAGOS') & (df['Food_items'] == \"Frozen chicken1 Unit\")\n",
    "Lagos_chickenPrice = df[mask].set_index('Date')\n",
    "mask = (df['Location'] == 'RIVERS') & (df['Food_items'] == \"Frozen chicken1 Unit\")\n",
    "Rivers_chickenPrice = df[mask].set_index('Date')"
   ]
  },
  {
   "cell_type": "code",
   "execution_count": 98,
   "metadata": {},
   "outputs": [
    {
     "data": {
      "image/png": "[encoded data removed]",
      "text/plain": [
       "<Figure size 1080x432 with 1 Axes>"
      ]
     },
     "metadata": {
      "needs_background": "light"
     },
     "output_type": "display_data"
    }
   ],
   "source": [
    "fig, ax = plt.subplots(figsize=(15, 6))\n",
    "Kano_chickenPrice[\"Food_prices\"].plot( label=\"Frozen chicken1 Unit in KANO\" ,ax=ax)\n",
    "Lagos_chickenPrice[\"Food_prices\"].plot( label=\"Frozen chicken1 Unit IN LAGOS\" ,ax=ax)\n",
    "Rivers_chickenPrice[\"Food_prices\"].plot( label=\"Frozen chicken1 Unit in RIVERS\" ,ax=ax)\n",
    "plt.legend()\n",
    "plt.xlabel('Time')\n",
    "plt.ylabel('Food Prices')\n",
    "plt.title('\"Frozen chicken1 Unit\" Price Time Series in Three States from 2019-2021');"
   ]
  },
  {
   "cell_type": "markdown",
   "metadata": {},
   "source": [
    "Obviously, that Price must be an outlier that we would have to address before modelling, Let's Visualize again excluding KANO state"
   ]
  },
  {
   "cell_type": "code",
   "execution_count": 99,
   "metadata": {},
   "outputs": [
    {
     "data": {
      "image/png": "[encoded data removed]",
      "text/plain": [
       "<Figure size 1080x432 with 1 Axes>"
      ]
     },
     "metadata": {
      "needs_background": "light"
     },
     "output_type": "display_data"
    }
   ],
   "source": [
    "fig, ax = plt.subplots(figsize=(15, 6))\n",
    "Lagos_chickenPrice[\"Food_prices\"].plot( label=\"Frozen chicken1 Unit IN LAGOS\" ,ax=ax)\n",
    "Rivers_chickenPrice[\"Food_prices\"].plot( label=\"Frozen chicken1 Unit in RIVERS\" ,ax=ax)\n",
    "plt.legend()\n",
    "plt.xlabel('Time')\n",
    "plt.ylabel('Food Prices')\n",
    "plt.title('\"Frozen chicken1 Unit\" Price Time Series in Three States from 2019-2021');"
   ]
  },
  {
   "cell_type": "markdown",
   "metadata": {},
   "source": [
    "Now, this makes more sense, The Price of \"Frozen chicken1 Unit\" has also increased steadily with a little up and down trend since 2019, This should be same with other Food Items too."
   ]
  },
  {
   "cell_type": "markdown",
   "metadata": {},
   "source": [
    "Before now, we've visulaised the the top 10 and least 10 expensive Food Items but we saw repetitions of some Food Items, Now Let's check for Top 10 and Least 10 unique food Items and how expensive they are."
   ]
  },
  {
   "cell_type": "code",
   "execution_count": 111,
   "metadata": {},
   "outputs": [],
   "source": [
    "df.replace(to_replace=11400.000000, value= 1140, inplace=True)"
   ]
  },
  {
   "cell_type": "code",
   "execution_count": 112,
   "metadata": {},
   "outputs": [
    {
     "data": {
      "text/plain": [
       "Food_items\n",
       "Catfish :dried1 KG                3553.532182\n",
       "Frozen chicken1 Unit              3236.666667\n",
       "Mudfish : dried1 KG               2950.401027\n",
       "Beef,boneless1 KG                 2533.333333\n",
       "Dried Fish Sardine1 KG            2523.094414\n",
       "Titus:frozen1 KG                  2287.404987\n",
       "Catfish Smoked1 KG                2178.714286\n",
       "Mackerel : frozen1 KG             2046.090034\n",
       "Chicken Wings1 KG                 2023.636364\n",
       "Tilapia fish (epiya) fresh1 KG    2000.557342\n",
       "Name: Food_prices, dtype: float64"
      ]
     },
     "execution_count": 112,
     "metadata": {},
     "output_type": "execute_result"
    }
   ],
   "source": [
    "top_10_unique = df.groupby('Food_items')['Food_prices'].max().sort_values(ascending=False).head(10)\n",
    "top_10_unique"
   ]
  },
  {
   "cell_type": "code",
   "execution_count": 115,
   "metadata": {},
   "outputs": [
    {
     "data": {
      "image/png": "[encoded data removed]",
      "text/plain": [
       "<Figure size 864x648 with 1 Axes>"
      ]
     },
     "metadata": {
      "needs_background": "light"
     },
     "output_type": "display_data"
    }
   ],
   "source": [
    "top_10_unique.plot( kind='barh', legend=False)\n",
    "plt.ylabel('Food Items')\n",
    "plt.xlabel('Food Prices in Naria')\n",
    "plt.title('Top 10 Unique Expensive Food Items from 2019-2021')\n",
    "plt.gcf().set_size_inches(12, 9);"
   ]
  },
  {
   "cell_type": "markdown",
   "metadata": {},
   "source": [
    "After replacing the outlier, we can see that the Most Expensive Food Item across all is \"Catfish :dried1 KG\" and it costs ₦3553.53k in ABUJA as at 2021-11-01"
   ]
  },
  {
   "cell_type": "code",
   "execution_count": 132,
   "metadata": {},
   "outputs": [
    {
     "data": {
      "text/html": [
       "<div>\n",
       "<style scoped>\n",
       "    .dataframe tbody tr th:only-of-type {\n",
       "        vertical-align: middle;\n",
       "    }\n",
       "\n",
       "    .dataframe tbody tr th {\n",
       "        vertical-align: top;\n",
       "    }\n",
       "\n",
       "    .dataframe thead th {\n",
       "        text-align: right;\n",
       "    }\n",
       "</style>\n",
       "<table border=\"1\" class=\"dataframe\">\n",
       "  <thead>\n",
       "    <tr style=\"text-align: right;\">\n",
       "      <th></th>\n",
       "      <th>Date</th>\n",
       "      <th>Food_items</th>\n",
       "      <th>Food_prices</th>\n",
       "      <th>Location</th>\n",
       "      <th>Dollar Rate</th>\n",
       "    </tr>\n",
       "  </thead>\n",
       "  <tbody>\n",
       "    <tr>\n",
       "      <th>54083</th>\n",
       "      <td>2021-11-01</td>\n",
       "      <td>Catfish :dried1 KG</td>\n",
       "      <td>3553.532182</td>\n",
       "      <td>ABUJA</td>\n",
       "      <td>410.9593</td>\n",
       "    </tr>\n",
       "  </tbody>\n",
       "</table>\n",
       "</div>"
      ],
      "text/plain": [
       "            Date          Food_items  Food_prices Location  Dollar Rate\n",
       "54083 2021-11-01  Catfish :dried1 KG  3553.532182    ABUJA     410.9593"
      ]
     },
     "execution_count": 132,
     "metadata": {},
     "output_type": "execute_result"
    }
   ],
   "source": [
    "df.sort_values(by=\"Food_prices\", ascending=False).head(1)"
   ]
  },
  {
   "cell_type": "code",
   "execution_count": 118,
   "metadata": {},
   "outputs": [
    {
     "data": {
      "text/plain": [
       "Food_items\n",
       "Agric eggs(medium size price of one)1 Piece    31.052632\n",
       "Agric eggs medium size (1)1 Piece              36.366667\n",
       "Sweet potato1 KG                               61.136731\n",
       "Maize grain white sold loose1 KG               70.356125\n",
       "Maize grain yellow sold loose1 KG              73.510738\n",
       "Tomato1 KG                                     84.339080\n",
       "Onion bulb1 KG                                 94.380452\n",
       "Yam tuber1 KG                                  94.427119\n",
       "Gari yellow,sold loose1 KG                     95.428571\n",
       "Gari white,sold loose1 KG                      95.569085\n",
       "Name: Food_prices, dtype: float64"
      ]
     },
     "execution_count": 118,
     "metadata": {},
     "output_type": "execute_result"
    }
   ],
   "source": [
    "least_10_unique = df.groupby('Food_items')['Food_prices'].min().sort_values(ascending=True).head(10)\n",
    "least_10_unique"
   ]
  },
  {
   "cell_type": "code",
   "execution_count": 119,
   "metadata": {},
   "outputs": [
    {
     "data": {
      "image/png": "[encoded data removed]",
      "text/plain": [
       "<Figure size 864x648 with 1 Axes>"
      ]
     },
     "metadata": {
      "needs_background": "light"
     },
     "output_type": "display_data"
    }
   ],
   "source": [
    "least_10_unique.plot( kind='barh', legend=False)\n",
    "plt.ylabel('Food Items')\n",
    "plt.xlabel('Food Prices in Naria')\n",
    "plt.title('Least 10 Unique Expensive Food Items from 2019-2021')\n",
    "plt.gcf().set_size_inches(12, 9);"
   ]
  },
  {
   "cell_type": "markdown",
   "metadata": {},
   "source": [
    "It would be interesting to know the Location that has expensive Food Prices and the location that has cheap food prices. Since \"Catfish :dried1 KG\" is the most expensive item in the dataset and its being sold at that price in ABUJA, Let's check for the Location that sells \"Catfish :dried1 KG\" at the cheapest price and Let's compare Prices the Food items in both Locations"
   ]
  },
  {
   "cell_type": "code",
   "execution_count": 153,
   "metadata": {},
   "outputs": [
    {
     "data": {
      "text/html": [
       "<div>\n",
       "<style scoped>\n",
       "    .dataframe tbody tr th:only-of-type {\n",
       "        vertical-align: middle;\n",
       "    }\n",
       "\n",
       "    .dataframe tbody tr th {\n",
       "        vertical-align: top;\n",
       "    }\n",
       "\n",
       "    .dataframe thead th {\n",
       "        text-align: right;\n",
       "    }\n",
       "</style>\n",
       "<table border=\"1\" class=\"dataframe\">\n",
       "  <thead>\n",
       "    <tr style=\"text-align: right;\">\n",
       "      <th></th>\n",
       "      <th>Date</th>\n",
       "      <th>Food_items</th>\n",
       "      <th>Food_prices</th>\n",
       "      <th>Location</th>\n",
       "      <th>Dollar Rate</th>\n",
       "    </tr>\n",
       "  </thead>\n",
       "  <tbody>\n",
       "    <tr>\n",
       "      <th>55545</th>\n",
       "      <td>2021-11-01</td>\n",
       "      <td>Catfish :dried1 KG</td>\n",
       "      <td>1300.000000</td>\n",
       "      <td>ZAMFARA</td>\n",
       "      <td>410.9593</td>\n",
       "    </tr>\n",
       "    <tr>\n",
       "      <th>54771</th>\n",
       "      <td>2021-11-01</td>\n",
       "      <td>Catfish :dried1 KG</td>\n",
       "      <td>1328.021978</td>\n",
       "      <td>TARABA</td>\n",
       "      <td>410.9593</td>\n",
       "    </tr>\n",
       "    <tr>\n",
       "      <th>54943</th>\n",
       "      <td>2021-11-01</td>\n",
       "      <td>Catfish :dried1 KG</td>\n",
       "      <td>1340.952381</td>\n",
       "      <td>NASSARAWA</td>\n",
       "      <td>410.9593</td>\n",
       "    </tr>\n",
       "    <tr>\n",
       "      <th>54556</th>\n",
       "      <td>2021-11-01</td>\n",
       "      <td>Catfish :dried1 KG</td>\n",
       "      <td>1345.384615</td>\n",
       "      <td>ADAMAWA</td>\n",
       "      <td>410.9593</td>\n",
       "    </tr>\n",
       "    <tr>\n",
       "      <th>54857</th>\n",
       "      <td>2021-11-01</td>\n",
       "      <td>Catfish :dried1 KG</td>\n",
       "      <td>1346.666667</td>\n",
       "      <td>KOGI</td>\n",
       "      <td>410.9593</td>\n",
       "    </tr>\n",
       "  </tbody>\n",
       "</table>\n",
       "</div>"
      ],
      "text/plain": [
       "            Date          Food_items  Food_prices   Location  Dollar Rate\n",
       "55545 2021-11-01  Catfish :dried1 KG  1300.000000    ZAMFARA     410.9593\n",
       "54771 2021-11-01  Catfish :dried1 KG  1328.021978     TARABA     410.9593\n",
       "54943 2021-11-01  Catfish :dried1 KG  1340.952381  NASSARAWA     410.9593\n",
       "54556 2021-11-01  Catfish :dried1 KG  1345.384615    ADAMAWA     410.9593\n",
       "54857 2021-11-01  Catfish :dried1 KG  1346.666667       KOGI     410.9593"
      ]
     },
     "execution_count": 153,
     "metadata": {},
     "output_type": "execute_result"
    }
   ],
   "source": [
    "mask = (df['Food_items'] == \"Catfish :dried1 KG\") & (df['Date'] == '2021-11-01')\n",
    "df[mask].sort_values(by= 'Food_prices', ascending=True).head()"
   ]
  },
  {
   "cell_type": "markdown",
   "metadata": {},
   "source": [
    "While you would get \"Catfish :dried1 KG\" for ₦3553.53k in ABUJA, you would get the same food Item for #1300.00k in ZAMFARA in the same Country, isn't that interesting? Let's dig more. Well, In case you don't know, I should let you know that ABUJA is Nigeria's Capital so, this is expected."
   ]
  },
  {
   "cell_type": "code",
   "execution_count": 176,
   "metadata": {},
   "outputs": [],
   "source": [
    "# Let work with the most recent time in the dataset\n",
    "mask = (df['Date'] == '2021-11-01') & (df['Location'] == 'ABUJA')\n",
    "abuja = df[mask].set_index('Date')\n",
    "mask = (df['Date'] == '2021-11-01') & (df['Location'] == 'ZAMFARA')\n",
    "zamfara = df[mask].set_index('Date')"
   ]
  },
  {
   "cell_type": "code",
   "execution_count": 194,
   "metadata": {},
   "outputs": [
    {
     "data": {
      "text/html": [
       "<div>\n",
       "<style scoped>\n",
       "    .dataframe tbody tr th:only-of-type {\n",
       "        vertical-align: middle;\n",
       "    }\n",
       "\n",
       "    .dataframe tbody tr th {\n",
       "        vertical-align: top;\n",
       "    }\n",
       "\n",
       "    .dataframe thead th {\n",
       "        text-align: right;\n",
       "    }\n",
       "</style>\n",
       "<table border=\"1\" class=\"dataframe\">\n",
       "  <thead>\n",
       "    <tr style=\"text-align: right;\">\n",
       "      <th></th>\n",
       "      <th>Food_items</th>\n",
       "      <th>Food_prices</th>\n",
       "      <th>Location</th>\n",
       "      <th>Dollar Rate</th>\n",
       "    </tr>\n",
       "    <tr>\n",
       "      <th>Date</th>\n",
       "      <th></th>\n",
       "      <th></th>\n",
       "      <th></th>\n",
       "      <th></th>\n",
       "    </tr>\n",
       "  </thead>\n",
       "  <tbody>\n",
       "    <tr>\n",
       "      <th>2021-11-01</th>\n",
       "      <td>Agric eggs medium size1 Dozen</td>\n",
       "      <td>700.261790</td>\n",
       "      <td>ABUJA</td>\n",
       "      <td>410.9593</td>\n",
       "    </tr>\n",
       "    <tr>\n",
       "      <th>2021-11-01</th>\n",
       "      <td>Agric eggs(medium size price of one)1 Piece</td>\n",
       "      <td>60.000000</td>\n",
       "      <td>ABUJA</td>\n",
       "      <td>410.9593</td>\n",
       "    </tr>\n",
       "    <tr>\n",
       "      <th>2021-11-01</th>\n",
       "      <td>Beans brown,sold loose1 KG</td>\n",
       "      <td>702.826583</td>\n",
       "      <td>ABUJA</td>\n",
       "      <td>410.9593</td>\n",
       "    </tr>\n",
       "    <tr>\n",
       "      <th>2021-11-01</th>\n",
       "      <td>Beans:white black eye. sold loose1 KG</td>\n",
       "      <td>605.791934</td>\n",
       "      <td>ABUJA</td>\n",
       "      <td>410.9593</td>\n",
       "    </tr>\n",
       "    <tr>\n",
       "      <th>2021-11-01</th>\n",
       "      <td>Beef Bone in1 KG</td>\n",
       "      <td>1885.990260</td>\n",
       "      <td>ABUJA</td>\n",
       "      <td>410.9593</td>\n",
       "    </tr>\n",
       "    <tr>\n",
       "      <th>2021-11-01</th>\n",
       "      <td>Beef,boneless1 KG</td>\n",
       "      <td>2533.333333</td>\n",
       "      <td>ABUJA</td>\n",
       "      <td>410.9593</td>\n",
       "    </tr>\n",
       "    <tr>\n",
       "      <th>2021-11-01</th>\n",
       "      <td>Bread sliced 500g1 Loaf</td>\n",
       "      <td>605.751380</td>\n",
       "      <td>ABUJA</td>\n",
       "      <td>410.9593</td>\n",
       "    </tr>\n",
       "    <tr>\n",
       "      <th>2021-11-01</th>\n",
       "      <td>Bread unsliced 500g1 Loaf</td>\n",
       "      <td>633.583420</td>\n",
       "      <td>ABUJA</td>\n",
       "      <td>410.9593</td>\n",
       "    </tr>\n",
       "    <tr>\n",
       "      <th>2021-11-01</th>\n",
       "      <td>Broken Rice (Ofada)1 KG</td>\n",
       "      <td>784.857143</td>\n",
       "      <td>ABUJA</td>\n",
       "      <td>410.9593</td>\n",
       "    </tr>\n",
       "    <tr>\n",
       "      <th>2021-11-01</th>\n",
       "      <td>Chicken Feet1 KG</td>\n",
       "      <td>729.563397</td>\n",
       "      <td>ABUJA</td>\n",
       "      <td>410.9593</td>\n",
       "    </tr>\n",
       "  </tbody>\n",
       "</table>\n",
       "</div>"
      ],
      "text/plain": [
       "                                             Food_items  Food_prices Location  \\\n",
       "Date                                                                            \n",
       "2021-11-01                Agric eggs medium size1 Dozen   700.261790    ABUJA   \n",
       "2021-11-01  Agric eggs(medium size price of one)1 Piece    60.000000    ABUJA   \n",
       "2021-11-01                   Beans brown,sold loose1 KG   702.826583    ABUJA   \n",
       "2021-11-01        Beans:white black eye. sold loose1 KG   605.791934    ABUJA   \n",
       "2021-11-01                             Beef Bone in1 KG  1885.990260    ABUJA   \n",
       "2021-11-01                            Beef,boneless1 KG  2533.333333    ABUJA   \n",
       "2021-11-01                      Bread sliced 500g1 Loaf   605.751380    ABUJA   \n",
       "2021-11-01                    Bread unsliced 500g1 Loaf   633.583420    ABUJA   \n",
       "2021-11-01                      Broken Rice (Ofada)1 KG   784.857143    ABUJA   \n",
       "2021-11-01                             Chicken Feet1 KG   729.563397    ABUJA   \n",
       "\n",
       "            Dollar Rate  \n",
       "Date                     \n",
       "2021-11-01     410.9593  \n",
       "2021-11-01     410.9593  \n",
       "2021-11-01     410.9593  \n",
       "2021-11-01     410.9593  \n",
       "2021-11-01     410.9593  \n",
       "2021-11-01     410.9593  \n",
       "2021-11-01     410.9593  \n",
       "2021-11-01     410.9593  \n",
       "2021-11-01     410.9593  \n",
       "2021-11-01     410.9593  "
      ]
     },
     "execution_count": 194,
     "metadata": {},
     "output_type": "execute_result"
    }
   ],
   "source": [
    "abuja.head(10)"
   ]
  },
  {
   "cell_type": "code",
   "execution_count": 195,
   "metadata": {},
   "outputs": [
    {
     "data": {
      "text/plain": [
       "(43, 4)"
      ]
     },
     "execution_count": 195,
     "metadata": {},
     "output_type": "execute_result"
    }
   ],
   "source": [
    "abuja.shape"
   ]
  },
  {
   "cell_type": "code",
   "execution_count": 188,
   "metadata": {},
   "outputs": [
    {
     "data": {
      "text/html": [
       "<div>\n",
       "<style scoped>\n",
       "    .dataframe tbody tr th:only-of-type {\n",
       "        vertical-align: middle;\n",
       "    }\n",
       "\n",
       "    .dataframe tbody tr th {\n",
       "        vertical-align: top;\n",
       "    }\n",
       "\n",
       "    .dataframe thead th {\n",
       "        text-align: right;\n",
       "    }\n",
       "</style>\n",
       "<table border=\"1\" class=\"dataframe\">\n",
       "  <thead>\n",
       "    <tr style=\"text-align: right;\">\n",
       "      <th></th>\n",
       "      <th>Food_items</th>\n",
       "      <th>Food_prices</th>\n",
       "      <th>Location</th>\n",
       "      <th>Dollar Rate</th>\n",
       "    </tr>\n",
       "    <tr>\n",
       "      <th>Date</th>\n",
       "      <th></th>\n",
       "      <th></th>\n",
       "      <th></th>\n",
       "      <th></th>\n",
       "    </tr>\n",
       "  </thead>\n",
       "  <tbody>\n",
       "    <tr>\n",
       "      <th>2021-11-01</th>\n",
       "      <td>Agric eggs medium size1 Dozen</td>\n",
       "      <td>640.000000</td>\n",
       "      <td>ZAMFARA</td>\n",
       "      <td>410.9593</td>\n",
       "    </tr>\n",
       "    <tr>\n",
       "      <th>2021-11-01</th>\n",
       "      <td>Agric eggs(medium size price of one)1 Piece</td>\n",
       "      <td>62.000000</td>\n",
       "      <td>ZAMFARA</td>\n",
       "      <td>410.9593</td>\n",
       "    </tr>\n",
       "    <tr>\n",
       "      <th>2021-11-01</th>\n",
       "      <td>Beans brown,sold loose1 KG</td>\n",
       "      <td>464.285714</td>\n",
       "      <td>ZAMFARA</td>\n",
       "      <td>410.9593</td>\n",
       "    </tr>\n",
       "    <tr>\n",
       "      <th>2021-11-01</th>\n",
       "      <td>Beans:white black eye. sold loose1 KG</td>\n",
       "      <td>455.026455</td>\n",
       "      <td>ZAMFARA</td>\n",
       "      <td>410.9593</td>\n",
       "    </tr>\n",
       "    <tr>\n",
       "      <th>2021-11-01</th>\n",
       "      <td>Beef Bone in1 KG</td>\n",
       "      <td>1600.000000</td>\n",
       "      <td>ZAMFARA</td>\n",
       "      <td>410.9593</td>\n",
       "    </tr>\n",
       "    <tr>\n",
       "      <th>2021-11-01</th>\n",
       "      <td>Beef,boneless1 KG</td>\n",
       "      <td>1900.000000</td>\n",
       "      <td>ZAMFARA</td>\n",
       "      <td>410.9593</td>\n",
       "    </tr>\n",
       "    <tr>\n",
       "      <th>2021-11-01</th>\n",
       "      <td>Bread sliced 500g1 Loaf</td>\n",
       "      <td>450.000000</td>\n",
       "      <td>ZAMFARA</td>\n",
       "      <td>410.9593</td>\n",
       "    </tr>\n",
       "    <tr>\n",
       "      <th>2021-11-01</th>\n",
       "      <td>Bread unsliced 500g1 Loaf</td>\n",
       "      <td>400.000000</td>\n",
       "      <td>ZAMFARA</td>\n",
       "      <td>410.9593</td>\n",
       "    </tr>\n",
       "    <tr>\n",
       "      <th>2021-11-01</th>\n",
       "      <td>Broken Rice (Ofada)1 KG</td>\n",
       "      <td>400.000000</td>\n",
       "      <td>ZAMFARA</td>\n",
       "      <td>410.9593</td>\n",
       "    </tr>\n",
       "    <tr>\n",
       "      <th>2021-11-01</th>\n",
       "      <td>Chicken Feet1 KG</td>\n",
       "      <td>900.000000</td>\n",
       "      <td>ZAMFARA</td>\n",
       "      <td>410.9593</td>\n",
       "    </tr>\n",
       "  </tbody>\n",
       "</table>\n",
       "</div>"
      ],
      "text/plain": [
       "                                             Food_items  Food_prices Location  \\\n",
       "Date                                                                            \n",
       "2021-11-01                Agric eggs medium size1 Dozen   640.000000  ZAMFARA   \n",
       "2021-11-01  Agric eggs(medium size price of one)1 Piece    62.000000  ZAMFARA   \n",
       "2021-11-01                   Beans brown,sold loose1 KG   464.285714  ZAMFARA   \n",
       "2021-11-01        Beans:white black eye. sold loose1 KG   455.026455  ZAMFARA   \n",
       "2021-11-01                             Beef Bone in1 KG  1600.000000  ZAMFARA   \n",
       "2021-11-01                            Beef,boneless1 KG  1900.000000  ZAMFARA   \n",
       "2021-11-01                      Bread sliced 500g1 Loaf   450.000000  ZAMFARA   \n",
       "2021-11-01                    Bread unsliced 500g1 Loaf   400.000000  ZAMFARA   \n",
       "2021-11-01                      Broken Rice (Ofada)1 KG   400.000000  ZAMFARA   \n",
       "2021-11-01                             Chicken Feet1 KG   900.000000  ZAMFARA   \n",
       "\n",
       "            Dollar Rate  \n",
       "Date                     \n",
       "2021-11-01     410.9593  \n",
       "2021-11-01     410.9593  \n",
       "2021-11-01     410.9593  \n",
       "2021-11-01     410.9593  \n",
       "2021-11-01     410.9593  \n",
       "2021-11-01     410.9593  \n",
       "2021-11-01     410.9593  \n",
       "2021-11-01     410.9593  \n",
       "2021-11-01     410.9593  \n",
       "2021-11-01     410.9593  "
      ]
     },
     "execution_count": 188,
     "metadata": {},
     "output_type": "execute_result"
    }
   ],
   "source": [
    "zamfara.head(10)"
   ]
  },
  {
   "cell_type": "code",
   "execution_count": 189,
   "metadata": {},
   "outputs": [
    {
     "data": {
      "text/plain": [
       "(43, 4)"
      ]
     },
     "execution_count": 189,
     "metadata": {},
     "output_type": "execute_result"
    }
   ],
   "source": [
    "zamfara.shape"
   ]
  },
  {
   "cell_type": "code",
   "execution_count": 209,
   "metadata": {},
   "outputs": [
    {
     "data": {
      "text/html": [
       "<div>\n",
       "<style scoped>\n",
       "    .dataframe tbody tr th:only-of-type {\n",
       "        vertical-align: middle;\n",
       "    }\n",
       "\n",
       "    .dataframe tbody tr th {\n",
       "        vertical-align: top;\n",
       "    }\n",
       "\n",
       "    .dataframe thead th {\n",
       "        text-align: right;\n",
       "    }\n",
       "</style>\n",
       "<table border=\"1\" class=\"dataframe\">\n",
       "  <thead>\n",
       "    <tr style=\"text-align: right;\">\n",
       "      <th></th>\n",
       "      <th>Food_items</th>\n",
       "      <th>Food_prices_zamfara</th>\n",
       "    </tr>\n",
       "    <tr>\n",
       "      <th>Date</th>\n",
       "      <th></th>\n",
       "      <th></th>\n",
       "    </tr>\n",
       "  </thead>\n",
       "  <tbody>\n",
       "    <tr>\n",
       "      <th>2021-11-01</th>\n",
       "      <td>Agric eggs medium size1 Dozen</td>\n",
       "      <td>640.000000</td>\n",
       "    </tr>\n",
       "    <tr>\n",
       "      <th>2021-11-01</th>\n",
       "      <td>Agric eggs(medium size price of one)1 Piece</td>\n",
       "      <td>62.000000</td>\n",
       "    </tr>\n",
       "    <tr>\n",
       "      <th>2021-11-01</th>\n",
       "      <td>Beans brown,sold loose1 KG</td>\n",
       "      <td>464.285714</td>\n",
       "    </tr>\n",
       "    <tr>\n",
       "      <th>2021-11-01</th>\n",
       "      <td>Beans:white black eye. sold loose1 KG</td>\n",
       "      <td>455.026455</td>\n",
       "    </tr>\n",
       "    <tr>\n",
       "      <th>2021-11-01</th>\n",
       "      <td>Beef Bone in1 KG</td>\n",
       "      <td>1600.000000</td>\n",
       "    </tr>\n",
       "  </tbody>\n",
       "</table>\n",
       "</div>"
      ],
      "text/plain": [
       "                                             Food_items  Food_prices_zamfara\n",
       "Date                                                                        \n",
       "2021-11-01                Agric eggs medium size1 Dozen           640.000000\n",
       "2021-11-01  Agric eggs(medium size price of one)1 Piece            62.000000\n",
       "2021-11-01                   Beans brown,sold loose1 KG           464.285714\n",
       "2021-11-01        Beans:white black eye. sold loose1 KG           455.026455\n",
       "2021-11-01                             Beef Bone in1 KG          1600.000000"
      ]
     },
     "execution_count": 209,
     "metadata": {},
     "output_type": "execute_result"
    }
   ],
   "source": [
    "\n",
    "zamfara.rename({'Food_prices': 'Food_prices_zamfara'}, axis=1, inplace=True)\n",
    "zamfara.drop(columns=['Dollar Rate', 'Location'], inplace=True)\n",
    "zamfara.head()"
   ]
  },
  {
   "cell_type": "code",
   "execution_count": 211,
   "metadata": {},
   "outputs": [
    {
     "data": {
      "text/plain": [
       "(43, 2)"
      ]
     },
     "execution_count": 211,
     "metadata": {},
     "output_type": "execute_result"
    }
   ],
   "source": [
    "zamfara.shape"
   ]
  },
  {
   "cell_type": "code",
   "execution_count": null,
   "metadata": {},
   "outputs": [],
   "source": [
    "abc = pd.concat([abuja, zm], on)"
   ]
  },
  {
   "cell_type": "code",
   "execution_count": 225,
   "metadata": {},
   "outputs": [
    {
     "data": {
      "text/html": [
       "<div>\n",
       "<style scoped>\n",
       "    .dataframe tbody tr th:only-of-type {\n",
       "        vertical-align: middle;\n",
       "    }\n",
       "\n",
       "    .dataframe tbody tr th {\n",
       "        vertical-align: top;\n",
       "    }\n",
       "\n",
       "    .dataframe thead th {\n",
       "        text-align: right;\n",
       "    }\n",
       "</style>\n",
       "<table border=\"1\" class=\"dataframe\">\n",
       "  <thead>\n",
       "    <tr style=\"text-align: right;\">\n",
       "      <th></th>\n",
       "      <th>Food_prices_zamfara</th>\n",
       "      <th>Food_prices_abuja</th>\n",
       "    </tr>\n",
       "    <tr>\n",
       "      <th>Food_items</th>\n",
       "      <th></th>\n",
       "      <th></th>\n",
       "    </tr>\n",
       "  </thead>\n",
       "  <tbody>\n",
       "    <tr>\n",
       "      <th>Agric eggs medium size1 Dozen</th>\n",
       "      <td>640.000000</td>\n",
       "      <td>700.261790</td>\n",
       "    </tr>\n",
       "    <tr>\n",
       "      <th>Agric eggs(medium size price of one)1 Piece</th>\n",
       "      <td>62.000000</td>\n",
       "      <td>60.000000</td>\n",
       "    </tr>\n",
       "    <tr>\n",
       "      <th>Beans brown,sold loose1 KG</th>\n",
       "      <td>464.285714</td>\n",
       "      <td>702.826583</td>\n",
       "    </tr>\n",
       "    <tr>\n",
       "      <th>Beans:white black eye. sold loose1 KG</th>\n",
       "      <td>455.026455</td>\n",
       "      <td>605.791934</td>\n",
       "    </tr>\n",
       "    <tr>\n",
       "      <th>Beef Bone in1 KG</th>\n",
       "      <td>1600.000000</td>\n",
       "      <td>1885.990260</td>\n",
       "    </tr>\n",
       "  </tbody>\n",
       "</table>\n",
       "</div>"
      ],
      "text/plain": [
       "                                             Food_prices_zamfara  \\\n",
       "Food_items                                                         \n",
       "Agric eggs medium size1 Dozen                         640.000000   \n",
       "Agric eggs(medium size price of one)1 Piece            62.000000   \n",
       "Beans brown,sold loose1 KG                            464.285714   \n",
       "Beans:white black eye. sold loose1 KG                 455.026455   \n",
       "Beef Bone in1 KG                                     1600.000000   \n",
       "\n",
       "                                             Food_prices_abuja  \n",
       "Food_items                                                      \n",
       "Agric eggs medium size1 Dozen                       700.261790  \n",
       "Agric eggs(medium size price of one)1 Piece          60.000000  \n",
       "Beans brown,sold loose1 KG                          702.826583  \n",
       "Beans:white black eye. sold loose1 KG               605.791934  \n",
       "Beef Bone in1 KG                                   1885.990260  "
      ]
     },
     "execution_count": 225,
     "metadata": {},
     "output_type": "execute_result"
    }
   ],
   "source": [
    "# Let's concatenate abuja and zamfara food prices\n",
    "ab_zm = pd.merge(zamfara, abuja, left_on='Food_items', right_on='Food_items').drop(columns=['Dollar Rate', 'Location']).set_index('Food_items')\n",
    "ab_zm.rename({'Food_prices': 'Food_prices_abuja'}, axis=1, inplace=True)\n",
    "ab_zm.head()"
   ]
  },
  {
   "cell_type": "code",
   "execution_count": 226,
   "metadata": {},
   "outputs": [
    {
     "data": {
      "image/png": "[encoded data removed]",
      "text/plain": [
       "<Figure size 864x648 with 1 Axes>"
      ]
     },
     "metadata": {
      "needs_background": "light"
     },
     "output_type": "display_data"
    }
   ],
   "source": [
    "ab_zm.head(10).plot(kind='barh')\n",
    "plt.ylabel('Food Items')\n",
    "plt.xlabel('Food Prices in Naria')\n",
    "plt.title('Prices of Food Items in Zamfara and Abuja')\n",
    "plt.gcf().set_size_inches(12, 9);"
   ]
  },
  {
   "cell_type": "markdown",
   "metadata": {},
   "source": [
    "The differences does not seem much but Food Prices in Abuja is more Expensive as seen in the barchart above. So, it is more economical to reside in Zamfara compared to Abuja in terms of Food Prices\n",
    "\n",
    "Since the difference isn't much, Let's compare abuja again with the second state on th list: TARABA"
   ]
  },
  {
   "cell_type": "code",
   "execution_count": 227,
   "metadata": {},
   "outputs": [
    {
     "data": {
      "text/html": [
       "<div>\n",
       "<style scoped>\n",
       "    .dataframe tbody tr th:only-of-type {\n",
       "        vertical-align: middle;\n",
       "    }\n",
       "\n",
       "    .dataframe tbody tr th {\n",
       "        vertical-align: top;\n",
       "    }\n",
       "\n",
       "    .dataframe thead th {\n",
       "        text-align: right;\n",
       "    }\n",
       "</style>\n",
       "<table border=\"1\" class=\"dataframe\">\n",
       "  <thead>\n",
       "    <tr style=\"text-align: right;\">\n",
       "      <th></th>\n",
       "      <th>Date</th>\n",
       "      <th>Food_items</th>\n",
       "      <th>Food_prices</th>\n",
       "      <th>Location</th>\n",
       "      <th>Dollar Rate</th>\n",
       "    </tr>\n",
       "  </thead>\n",
       "  <tbody>\n",
       "    <tr>\n",
       "      <th>54739</th>\n",
       "      <td>2021-11-01</td>\n",
       "      <td>Agric eggs medium size1 Dozen</td>\n",
       "      <td>449.440000</td>\n",
       "      <td>TARABA</td>\n",
       "      <td>410.9593</td>\n",
       "    </tr>\n",
       "    <tr>\n",
       "      <th>54740</th>\n",
       "      <td>2021-11-01</td>\n",
       "      <td>Agric eggs(medium size price of one)1 Piece</td>\n",
       "      <td>41.505263</td>\n",
       "      <td>TARABA</td>\n",
       "      <td>410.9593</td>\n",
       "    </tr>\n",
       "    <tr>\n",
       "      <th>54741</th>\n",
       "      <td>2021-11-01</td>\n",
       "      <td>Beans brown,sold loose1 KG</td>\n",
       "      <td>267.728938</td>\n",
       "      <td>TARABA</td>\n",
       "      <td>410.9593</td>\n",
       "    </tr>\n",
       "    <tr>\n",
       "      <th>54742</th>\n",
       "      <td>2021-11-01</td>\n",
       "      <td>Beans:white black eye. sold loose1 KG</td>\n",
       "      <td>353.956044</td>\n",
       "      <td>TARABA</td>\n",
       "      <td>410.9593</td>\n",
       "    </tr>\n",
       "    <tr>\n",
       "      <th>54743</th>\n",
       "      <td>2021-11-01</td>\n",
       "      <td>Beef Bone in1 KG</td>\n",
       "      <td>975.197812</td>\n",
       "      <td>TARABA</td>\n",
       "      <td>410.9593</td>\n",
       "    </tr>\n",
       "    <tr>\n",
       "      <th>54744</th>\n",
       "      <td>2021-11-01</td>\n",
       "      <td>Beef,boneless1 KG</td>\n",
       "      <td>1303.333333</td>\n",
       "      <td>TARABA</td>\n",
       "      <td>410.9593</td>\n",
       "    </tr>\n",
       "    <tr>\n",
       "      <th>54745</th>\n",
       "      <td>2021-11-01</td>\n",
       "      <td>Bread sliced 500g1 Loaf</td>\n",
       "      <td>279.666667</td>\n",
       "      <td>TARABA</td>\n",
       "      <td>410.9593</td>\n",
       "    </tr>\n",
       "    <tr>\n",
       "      <th>54746</th>\n",
       "      <td>2021-11-01</td>\n",
       "      <td>Bread unsliced 500g1 Loaf</td>\n",
       "      <td>280.480000</td>\n",
       "      <td>TARABA</td>\n",
       "      <td>410.9593</td>\n",
       "    </tr>\n",
       "    <tr>\n",
       "      <th>54747</th>\n",
       "      <td>2021-11-01</td>\n",
       "      <td>Broken Rice (Ofada)1 KG</td>\n",
       "      <td>399.452991</td>\n",
       "      <td>TARABA</td>\n",
       "      <td>410.9593</td>\n",
       "    </tr>\n",
       "    <tr>\n",
       "      <th>54748</th>\n",
       "      <td>2021-11-01</td>\n",
       "      <td>Chicken Feet1 KG</td>\n",
       "      <td>305.210000</td>\n",
       "      <td>TARABA</td>\n",
       "      <td>410.9593</td>\n",
       "    </tr>\n",
       "  </tbody>\n",
       "</table>\n",
       "</div>"
      ],
      "text/plain": [
       "            Date                                   Food_items  Food_prices  \\\n",
       "54739 2021-11-01                Agric eggs medium size1 Dozen   449.440000   \n",
       "54740 2021-11-01  Agric eggs(medium size price of one)1 Piece    41.505263   \n",
       "54741 2021-11-01                   Beans brown,sold loose1 KG   267.728938   \n",
       "54742 2021-11-01        Beans:white black eye. sold loose1 KG   353.956044   \n",
       "54743 2021-11-01                             Beef Bone in1 KG   975.197812   \n",
       "54744 2021-11-01                            Beef,boneless1 KG  1303.333333   \n",
       "54745 2021-11-01                      Bread sliced 500g1 Loaf   279.666667   \n",
       "54746 2021-11-01                    Bread unsliced 500g1 Loaf   280.480000   \n",
       "54747 2021-11-01                      Broken Rice (Ofada)1 KG   399.452991   \n",
       "54748 2021-11-01                             Chicken Feet1 KG   305.210000   \n",
       "\n",
       "      Location  Dollar Rate  \n",
       "54739   TARABA     410.9593  \n",
       "54740   TARABA     410.9593  \n",
       "54741   TARABA     410.9593  \n",
       "54742   TARABA     410.9593  \n",
       "54743   TARABA     410.9593  \n",
       "54744   TARABA     410.9593  \n",
       "54745   TARABA     410.9593  \n",
       "54746   TARABA     410.9593  \n",
       "54747   TARABA     410.9593  \n",
       "54748   TARABA     410.9593  "
      ]
     },
     "execution_count": 227,
     "metadata": {},
     "output_type": "execute_result"
    }
   ],
   "source": [
    "mask = (df['Date'] == '2021-11-01') & (df['Location'] == 'TARABA')\n",
    "taraba = df[mask]\n",
    "taraba.head(10)"
   ]
  },
  {
   "cell_type": "code",
   "execution_count": 228,
   "metadata": {},
   "outputs": [
    {
     "name": "stderr",
     "output_type": "stream",
     "text": [
      "c:\\Users\\USER\\anaconda3\\envs\\insurtech\\lib\\site-packages\\pandas\\core\\frame.py:5039: SettingWithCopyWarning: \n",
      "A value is trying to be set on a copy of a slice from a DataFrame\n",
      "\n",
      "See the caveats in the documentation: https://pandas.pydata.org/pandas-docs/stable/user_guide/indexing.html#returning-a-view-versus-a-copy\n",
      "  return super().rename(\n",
      "c:\\Users\\USER\\anaconda3\\envs\\insurtech\\lib\\site-packages\\pandas\\core\\frame.py:4906: SettingWithCopyWarning: \n",
      "A value is trying to be set on a copy of a slice from a DataFrame\n",
      "\n",
      "See the caveats in the documentation: https://pandas.pydata.org/pandas-docs/stable/user_guide/indexing.html#returning-a-view-versus-a-copy\n",
      "  return super().drop(\n"
     ]
    },
    {
     "data": {
      "text/html": [
       "<div>\n",
       "<style scoped>\n",
       "    .dataframe tbody tr th:only-of-type {\n",
       "        vertical-align: middle;\n",
       "    }\n",
       "\n",
       "    .dataframe tbody tr th {\n",
       "        vertical-align: top;\n",
       "    }\n",
       "\n",
       "    .dataframe thead th {\n",
       "        text-align: right;\n",
       "    }\n",
       "</style>\n",
       "<table border=\"1\" class=\"dataframe\">\n",
       "  <thead>\n",
       "    <tr style=\"text-align: right;\">\n",
       "      <th></th>\n",
       "      <th>Date</th>\n",
       "      <th>Food_items</th>\n",
       "      <th>Food_prices_taraba</th>\n",
       "    </tr>\n",
       "  </thead>\n",
       "  <tbody>\n",
       "    <tr>\n",
       "      <th>54739</th>\n",
       "      <td>2021-11-01</td>\n",
       "      <td>Agric eggs medium size1 Dozen</td>\n",
       "      <td>449.440000</td>\n",
       "    </tr>\n",
       "    <tr>\n",
       "      <th>54740</th>\n",
       "      <td>2021-11-01</td>\n",
       "      <td>Agric eggs(medium size price of one)1 Piece</td>\n",
       "      <td>41.505263</td>\n",
       "    </tr>\n",
       "    <tr>\n",
       "      <th>54741</th>\n",
       "      <td>2021-11-01</td>\n",
       "      <td>Beans brown,sold loose1 KG</td>\n",
       "      <td>267.728938</td>\n",
       "    </tr>\n",
       "    <tr>\n",
       "      <th>54742</th>\n",
       "      <td>2021-11-01</td>\n",
       "      <td>Beans:white black eye. sold loose1 KG</td>\n",
       "      <td>353.956044</td>\n",
       "    </tr>\n",
       "    <tr>\n",
       "      <th>54743</th>\n",
       "      <td>2021-11-01</td>\n",
       "      <td>Beef Bone in1 KG</td>\n",
       "      <td>975.197812</td>\n",
       "    </tr>\n",
       "  </tbody>\n",
       "</table>\n",
       "</div>"
      ],
      "text/plain": [
       "            Date                                   Food_items  \\\n",
       "54739 2021-11-01                Agric eggs medium size1 Dozen   \n",
       "54740 2021-11-01  Agric eggs(medium size price of one)1 Piece   \n",
       "54741 2021-11-01                   Beans brown,sold loose1 KG   \n",
       "54742 2021-11-01        Beans:white black eye. sold loose1 KG   \n",
       "54743 2021-11-01                             Beef Bone in1 KG   \n",
       "\n",
       "       Food_prices_taraba  \n",
       "54739          449.440000  \n",
       "54740           41.505263  \n",
       "54741          267.728938  \n",
       "54742          353.956044  \n",
       "54743          975.197812  "
      ]
     },
     "execution_count": 228,
     "metadata": {},
     "output_type": "execute_result"
    }
   ],
   "source": [
    "taraba.rename({'Food_prices': 'Food_prices_taraba'}, axis=1, inplace=True)\n",
    "taraba.drop(columns=['Dollar Rate', 'Location'], inplace=True)\n",
    "taraba.head()"
   ]
  },
  {
   "cell_type": "code",
   "execution_count": 229,
   "metadata": {},
   "outputs": [
    {
     "data": {
      "text/plain": [
       "(43, 3)"
      ]
     },
     "execution_count": 229,
     "metadata": {},
     "output_type": "execute_result"
    }
   ],
   "source": [
    "taraba.shape"
   ]
  },
  {
   "cell_type": "code",
   "execution_count": 233,
   "metadata": {},
   "outputs": [
    {
     "data": {
      "text/html": [
       "<div>\n",
       "<style scoped>\n",
       "    .dataframe tbody tr th:only-of-type {\n",
       "        vertical-align: middle;\n",
       "    }\n",
       "\n",
       "    .dataframe tbody tr th {\n",
       "        vertical-align: top;\n",
       "    }\n",
       "\n",
       "    .dataframe thead th {\n",
       "        text-align: right;\n",
       "    }\n",
       "</style>\n",
       "<table border=\"1\" class=\"dataframe\">\n",
       "  <thead>\n",
       "    <tr style=\"text-align: right;\">\n",
       "      <th></th>\n",
       "      <th>Food_prices_taraba</th>\n",
       "      <th>Food_prices_abuja</th>\n",
       "    </tr>\n",
       "    <tr>\n",
       "      <th>Food_items</th>\n",
       "      <th></th>\n",
       "      <th></th>\n",
       "    </tr>\n",
       "  </thead>\n",
       "  <tbody>\n",
       "    <tr>\n",
       "      <th>Agric eggs medium size1 Dozen</th>\n",
       "      <td>449.440000</td>\n",
       "      <td>700.261790</td>\n",
       "    </tr>\n",
       "    <tr>\n",
       "      <th>Agric eggs(medium size price of one)1 Piece</th>\n",
       "      <td>41.505263</td>\n",
       "      <td>60.000000</td>\n",
       "    </tr>\n",
       "    <tr>\n",
       "      <th>Beans brown,sold loose1 KG</th>\n",
       "      <td>267.728938</td>\n",
       "      <td>702.826583</td>\n",
       "    </tr>\n",
       "    <tr>\n",
       "      <th>Beans:white black eye. sold loose1 KG</th>\n",
       "      <td>353.956044</td>\n",
       "      <td>605.791934</td>\n",
       "    </tr>\n",
       "    <tr>\n",
       "      <th>Beef Bone in1 KG</th>\n",
       "      <td>975.197812</td>\n",
       "      <td>1885.990260</td>\n",
       "    </tr>\n",
       "  </tbody>\n",
       "</table>\n",
       "</div>"
      ],
      "text/plain": [
       "                                             Food_prices_taraba  \\\n",
       "Food_items                                                        \n",
       "Agric eggs medium size1 Dozen                        449.440000   \n",
       "Agric eggs(medium size price of one)1 Piece           41.505263   \n",
       "Beans brown,sold loose1 KG                           267.728938   \n",
       "Beans:white black eye. sold loose1 KG                353.956044   \n",
       "Beef Bone in1 KG                                     975.197812   \n",
       "\n",
       "                                             Food_prices_abuja  \n",
       "Food_items                                                      \n",
       "Agric eggs medium size1 Dozen                       700.261790  \n",
       "Agric eggs(medium size price of one)1 Piece          60.000000  \n",
       "Beans brown,sold loose1 KG                          702.826583  \n",
       "Beans:white black eye. sold loose1 KG               605.791934  \n",
       "Beef Bone in1 KG                                   1885.990260  "
      ]
     },
     "execution_count": 233,
     "metadata": {},
     "output_type": "execute_result"
    }
   ],
   "source": [
    "# Let's concatenate abuja and taraba food prices\n",
    "ab_tr = pd.merge(taraba, abuja, left_on='Food_items', right_on='Food_items').drop(columns=['Dollar Rate','Date', 'Location']).set_index('Food_items')\n",
    "ab_tr.rename({'Food_prices': 'Food_prices_abuja'}, axis=1, inplace=True)\n",
    "ab_tr.head()"
   ]
  },
  {
   "cell_type": "code",
   "execution_count": 234,
   "metadata": {},
   "outputs": [
    {
     "data": {
      "image/png": "[encoded data removed]",
      "text/plain": [
       "<Figure size 864x648 with 1 Axes>"
      ]
     },
     "metadata": {
      "needs_background": "light"
     },
     "output_type": "display_data"
    }
   ],
   "source": [
    "ab_tr.head(10).plot(kind='barh')\n",
    "plt.ylabel('Food Items')\n",
    "plt.xlabel('Food Prices in Naria')\n",
    "plt.title('Prices of Food Items in Taraba and Abuja')\n",
    "plt.gcf().set_size_inches(12, 9);"
   ]
  },
  {
   "cell_type": "markdown",
   "metadata": {},
   "source": [
    "The difference is much here, Food Items in ABUJA is very expensive compared to same Food Items in TARABA, we can see \"Beef boneless in1 KG\" that costs more than ₦2500 in ABUJA have a price of not up to ₦1500 in TARABA. Maybe, I should just relocate to TARABA, Well, there are other factors to be considered to before taking a decision to relocate, it is not just about Food Prices but yes, the prices of Food Items is also a big Factor and this analysis has help in giving us more insight about the reality."
   ]
  },
  {
   "cell_type": "markdown",
   "metadata": {},
   "source": [
    "Lastly, let's Visualise the trend of Exchange rate of Naira to Dollar during this period. It is a relevant feature because Nigeria as a Country depend a lot on imported goods and this influences the prices of goods and services in Nigeria include Food Prices."
   ]
  },
  {
   "cell_type": "code",
   "execution_count": 235,
   "metadata": {},
   "outputs": [
    {
     "data": {
      "text/html": [
       "<div>\n",
       "<style scoped>\n",
       "    .dataframe tbody tr th:only-of-type {\n",
       "        vertical-align: middle;\n",
       "    }\n",
       "\n",
       "    .dataframe tbody tr th {\n",
       "        vertical-align: top;\n",
       "    }\n",
       "\n",
       "    .dataframe thead th {\n",
       "        text-align: right;\n",
       "    }\n",
       "</style>\n",
       "<table border=\"1\" class=\"dataframe\">\n",
       "  <thead>\n",
       "    <tr style=\"text-align: right;\">\n",
       "      <th></th>\n",
       "      <th>Dollar Rate</th>\n",
       "      <th>Date</th>\n",
       "    </tr>\n",
       "  </thead>\n",
       "  <tbody>\n",
       "    <tr>\n",
       "      <th>0</th>\n",
       "      <td>363.3959</td>\n",
       "      <td>2019-01-01</td>\n",
       "    </tr>\n",
       "    <tr>\n",
       "      <th>1</th>\n",
       "      <td>361.4763</td>\n",
       "      <td>2019-02-01</td>\n",
       "    </tr>\n",
       "    <tr>\n",
       "      <th>2</th>\n",
       "      <td>360.1223</td>\n",
       "      <td>2019-03-01</td>\n",
       "    </tr>\n",
       "    <tr>\n",
       "      <th>3</th>\n",
       "      <td>360.0954</td>\n",
       "      <td>2019-04-01</td>\n",
       "    </tr>\n",
       "    <tr>\n",
       "      <th>4</th>\n",
       "      <td>360.2111</td>\n",
       "      <td>2019-05-01</td>\n",
       "    </tr>\n",
       "  </tbody>\n",
       "</table>\n",
       "</div>"
      ],
      "text/plain": [
       "   Dollar Rate       Date\n",
       "0     363.3959 2019-01-01\n",
       "1     361.4763 2019-02-01\n",
       "2     360.1223 2019-03-01\n",
       "3     360.0954 2019-04-01\n",
       "4     360.2111 2019-05-01"
      ]
     },
     "execution_count": 235,
     "metadata": {},
     "output_type": "execute_result"
    }
   ],
   "source": [
    "dollar_price.head()"
   ]
  },
  {
   "cell_type": "code",
   "execution_count": 241,
   "metadata": {},
   "outputs": [],
   "source": [
    "dollar_price.set_index('Date', inplace=True)"
   ]
  },
  {
   "cell_type": "code",
   "execution_count": 242,
   "metadata": {},
   "outputs": [
    {
     "data": {
      "image/png": "[encoded data removed]",
      "text/plain": [
       "<Figure size 1080x432 with 1 Axes>"
      ]
     },
     "metadata": {
      "needs_background": "light"
     },
     "output_type": "display_data"
    }
   ],
   "source": [
    "fig, ax = plt.subplots(figsize=(15, 6))\n",
    "dollar_price[\"Dollar Rate\"].plot(ax=ax)\n",
    "plt.xlabel('Time')\n",
    "plt.ylabel('Exchange Rate of $1 to Naria)')\n",
    "plt.title('Dollar-Naira Exchange Rate Time Series from 2019-2021');"
   ]
  },
  {
   "cell_type": "markdown",
   "metadata": {},
   "source": [
    "Well, I can see that decline in around June 2019, Maybe that was wahat influence the decrease in price of Egg in IMO State around July 2019, maybe, it is just a guess and we can't rely on this guess because the decrease in price of egg was local to Imo state. what we can see here is that the value of Naira has dropped compared to what it was in 2019 and so this should be influential in the steady increase in prices of Food Items because they show almost the same trend. Now, Let's goan predict the future"
   ]
  }
 ],
 "metadata": {
  "kernelspec": {
   "display_name": "Python 3.9.7 ('insurtech')",
   "language": "python",
   "name": "python3"
  },
  "language_info": {
   "codemirror_mode": {
    "name": "ipython",
    "version": 3
   },
   "file_extension": ".py",
   "mimetype": "text/x-python",
   "name": "python",
   "nbconvert_exporter": "python",
   "pygments_lexer": "ipython3",
   "version": "3.9.7"
  },
  "orig_nbformat": 4,
  "vscode": {
   "interpreter": {
    "hash": "a4d53cec37a246686fa871ddfe9503a022ca484fc74341e93fbea7730c2497e3"
   }
  }
 },
 "nbformat": 4,
 "nbformat_minor": 2
}
